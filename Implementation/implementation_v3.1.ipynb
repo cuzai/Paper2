{
 "cells": [
  {
   "cell_type": "code",
   "execution_count": 1,
   "metadata": {},
   "outputs": [],
   "source": [
    "_ = \"\"\"\n",
    "Desciption\n",
    "- hnm products\n",
    "- Not use of pytorch_forecasting\n",
    "- year, month, day, dayofweek as positional embedding feature\n",
    "\"\"\""
   ]
  },
  {
   "cell_type": "markdown",
   "metadata": {},
   "source": [
    "# Configurations"
   ]
  },
  {
   "cell_type": "markdown",
   "metadata": {},
   "source": [
    "### Import"
   ]
  },
  {
   "cell_type": "code",
   "execution_count": 2,
   "metadata": {},
   "outputs": [
    {
     "name": "stderr",
     "output_type": "stream",
     "text": [
      "/home/sh-sungho.park/anaconda3/envs/cudatest/lib/python3.8/site-packages/tslearn/bases/bases.py:15: UserWarning: h5py not installed, hdf5 features will not be supported.\n",
      "Install h5py to use hdf5 features: http://docs.h5py.org/\n",
      "  warn(h5py_msg)\n",
      "/home/sh-sungho.park/anaconda3/envs/cudatest/lib/python3.8/site-packages/tqdm/auto.py:21: TqdmWarning: IProgress not found. Please update jupyter and ipywidgets. See https://ipywidgets.readthedocs.io/en/stable/user_install.html\n",
      "  from .autonotebook import tqdm as notebook_tqdm\n"
     ]
    }
   ],
   "source": [
    "import os\n",
    "import joblib\n",
    "import random\n",
    "from IPython.display import clear_output\n",
    "\n",
    "import numpy as np\n",
    "import pandas as pd; pd.set_option(\"display.max_columns\", None)\n",
    "import matplotlib.pyplot as plt\n",
    "\n",
    "from sklearn.preprocessing import LabelEncoder, MinMaxScaler\n",
    "from tslearn.utils import to_time_series_dataset\n",
    "\n",
    "import torch\n",
    "from PIL import Image\n",
    "from torchvision import transforms\n",
    "from transformers import SwinModel\n",
    "\n",
    "from transformers import ViTModel, ViTConfig\n",
    "import matplotlib.cm as cm\n",
    "import cv2\n",
    "\n",
    "device = torch.device(\"cuda:1\")"
   ]
  },
  {
   "cell_type": "markdown",
   "metadata": {},
   "source": [
    "### Params"
   ]
  },
  {
   "cell_type": "code",
   "execution_count": 3,
   "metadata": {},
   "outputs": [
    {
     "data": {
      "text/plain": [
       "<torch._C.Generator at 0x7f58f5dfa0f0>"
      ]
     },
     "execution_count": 3,
     "metadata": {},
     "output_type": "execute_result"
    }
   ],
   "source": [
    "# Sampling parameter\n",
    "n_smaples = None\n",
    "\n",
    "# Data parameter\n",
    "random_state = 0\n",
    "pred_len = 30\n",
    "batch_size = 32\n",
    "valid_start_date = \"2020-06-01\"\n",
    "\n",
    "# Model hyperparameter\n",
    "d_model = 128; d_model = 256; d_model = 512\n",
    "nhead = 4; nhead = 8\n",
    "d_ff = 256; d_ff = 512; d_ff = 1024\n",
    "dropout = 0.3; dropout = 0.3\n",
    "num_layers = 4; num_layers = 6\n",
    "\n",
    "# Seed set\n",
    "random.seed(random_state)\n",
    "np.random.seed(random_state)\n",
    "torch.manual_seed(random_state)"
   ]
  },
  {
   "cell_type": "markdown",
   "metadata": {},
   "source": [
    "# Data"
   ]
  },
  {
   "cell_type": "markdown",
   "metadata": {},
   "source": [
    "### Read"
   ]
  },
  {
   "cell_type": "code",
   "execution_count": 4,
   "metadata": {},
   "outputs": [],
   "source": [
    "# Read transaction\n",
    "df_trans = pd.read_csv(\"../HnM/transactions_train.csv\", parse_dates=[\"t_dat\"], dtype={\"article_id\":str})\n",
    "df_train_raw = df_trans[df_trans[\"t_dat\"] < valid_start_date]\n",
    "df_valid_raw = df_trans[df_trans[\"t_dat\"] >= valid_start_date]"
   ]
  },
  {
   "cell_type": "markdown",
   "metadata": {},
   "source": [
    "### Preprocess"
   ]
  },
  {
   "cell_type": "code",
   "execution_count": 5,
   "metadata": {},
   "outputs": [],
   "source": [
    "def preprocess(data):\n",
    "    data = data.copy()\n",
    "    data = data.groupby([\"article_id\", \"t_dat\"], as_index=False).agg(sales=(\"customer_id\",\"size\"), price=(\"price\",\"mean\"))\n",
    "\n",
    "    # Make date positions\n",
    "    data[\"year\"] = data[\"t_dat\"].dt.year\n",
    "    data[\"month\"] = data[\"t_dat\"].dt.month - 1\n",
    "    data[\"week\"] = data[\"t_dat\"].dt.isocalendar().week - 1\n",
    "    data[\"day\"] = data[\"t_dat\"].dt.day -1\n",
    "    data[\"dayofweek\"] = data[\"t_dat\"].dt.dayofweek\n",
    "    \n",
    "    # Aggregate with list\n",
    "    data = data.groupby([\"article_id\"], as_index=False)[[\"sales\", \"price\", \"year\", \"month\", \"week\", \"day\", \"dayofweek\"]].agg(lambda x: list(x))\n",
    "    data[\"size\"] = data[\"sales\"].str.len()\n",
    "\n",
    "    # Read article info\n",
    "    df_article = pd.read_csv(\"../HnM/articles.csv\", dtype={\"article_id\":str})\n",
    "    df_article = df_article[[\"article_id\"] + [col for col in df_article.columns if \"name\" in col]]\n",
    "\n",
    "    # Merge two datasets\n",
    "    df_raw = pd.merge(data, df_article, on=\"article_id\")\n",
    "    print(f\"Original: {df_raw.shape}\")\n",
    "\n",
    "    # Filter valid length\n",
    "    df_prep = df_raw.copy()\n",
    "    df_prep = df_prep[df_prep[\"size\"] > pred_len]\n",
    "    print(f\"Valid sized: {df_prep.shape}\")\n",
    "\n",
    "    # Sampling\n",
    "    if n_smaples:\n",
    "        samples = df_prep[\"article_id\"].unique()\n",
    "        df_prep = df_prep[df_prep[\"article_id\"].isin(samples[:n_smaples])]\n",
    "        print(f\"{min(n_smaples, df_prep['article_id'].nunique())} sampled: {df_prep.shape}\")\n",
    "\n",
    "    # Encode imgpath\n",
    "    encoder = LabelEncoder()\n",
    "    df_prep[\"img_path\"] = df_prep[\"article_id\"].apply(lambda x: f'../HnM/images/{x[:3]}/{x}.jpg') # Generate image path\n",
    "    df_prep[\"is_valid\"] = df_prep[\"img_path\"].apply(lambda x: 1 if os.path.isfile(x) else 0) # Check whether the article has corresponding image file\n",
    "    df_prep = df_prep[df_prep[\"is_valid\"] == 1].drop(\"is_valid\", axis=1) # Valid if having corresponding image\n",
    "    print(f\"Valid imaged:\", df_prep.shape)\n",
    "\n",
    "    # Expand date\n",
    "\n",
    "    return df_prep"
   ]
  },
  {
   "cell_type": "code",
   "execution_count": 6,
   "metadata": {},
   "outputs": [
    {
     "name": "stdout",
     "output_type": "stream",
     "text": [
      "Original: (93804, 21)\n",
      "Valid sized: (50298, 21)\n",
      "Valid imaged: (50142, 22)\n",
      "____________________________________________________________________________________________________\n",
      "Original: (45975, 21)\n",
      "Valid sized: (13728, 21)\n",
      "Valid imaged: (13708, 22)\n"
     ]
    }
   ],
   "source": [
    "df_train_prep = preprocess(df_train_raw); print(\"_\"*100)\n",
    "df_valid_prep = preprocess(df_valid_raw)\n",
    "\n",
    "# Save\n",
    "df_train_prep.to_parquet(\"df_train_prep.parquet\")\n",
    "df_valid_prep.to_parquet(\"df_valid_prep.parquet\")"
   ]
  },
  {
   "cell_type": "markdown",
   "metadata": {},
   "source": [
    "### Dataset"
   ]
  },
  {
   "cell_type": "code",
   "execution_count": 4,
   "metadata": {},
   "outputs": [],
   "source": [
    "exclude_li = [\"Vest top\", \"Bra\", \"Underwear Tights\", \"Leggings/Tights\", \"Hair clip\", \"Umbrella\", \"Bodysuit\", \"Hair string\", \"Socks\", \"Unknown\", \"Pyjama jumpsuit/playsuit\", \"Sleep Bag\"\n",
    ", \"Belt\", \"Underwear bottom\", \"Kids Underwear top\", \"Pyjama set\", \"Sneakers\", \"Cap/peaked\", \"Earring\", \"Swimwear bottom\", \"Bikini top\", \"Robe\", \"Other accessories\", \"Slippers\",\n",
    "\"Night gown\", \"Alice band\", \"Straw hat\", \"Ballerinas\", \"Tie\", \"Necklace\", \"Pyjama bottom\", \"Felt hat\", \"Bag\", \"Bracelet\", \"Other shoe\", \"Watch\", \"Hat/brim\", \"Underwear body\",\n",
    "\"Swimwear set\", \"Flat shoe\", \"Ring\", \"Long John\", \"Braces\", \"Fine cosmetics\", \"Nipple covers\", \"Hair ties\", \"Bra extender\", \"Pumps\", \"Underdress\", \"Garment Set\", \"Wedge\",\n",
    "\"Wallet\", \"Outdoor overall\", \"Hairband\", \"Underwear set\", \"Soft Toys\", \"Tote bag\", \"Waterbottle\", \"Bootie\", \"Weekend/Gym bag\", \"Underwear corset\", \"Giftbox\", \"Backpack\", \"Earrings\",\n",
    "\"Bucket hat\", \"Flat shoes\", \"Leg warmers\", \"Heels\", \"Shoulder bag\", \"Headband\", \"Cap\", \"Keychain\", \"Dog Wear\", \"Side table\"] "
   ]
  },
  {
   "cell_type": "code",
   "execution_count": 5,
   "metadata": {},
   "outputs": [],
   "source": [
    "df_train_prep = pd.read_parquet(\"df_train_prep.parquet\")\n",
    "df_valid_prep = pd.read_parquet(\"df_valid_prep.parquet\")\n",
    "\n",
    "\n",
    "df_train_prep = df_train_prep[~df_train_prep[\"product_type_name\"].isin(exclude_li)]\n",
    "df_valid_prep = df_valid_prep[~df_valid_prep[\"product_type_name\"].isin(exclude_li)]"
   ]
  },
  {
   "cell_type": "code",
   "execution_count": 6,
   "metadata": {},
   "outputs": [
    {
     "name": "stdout",
     "output_type": "stream",
     "text": [
      "torch.Size([32, 291, 1])\n",
      "torch.Size([32, 3, 224, 224])\n",
      "torch.Size([32, 291, 1])\n",
      "torch.Size([32, 291])\n",
      "torch.Size([32, 291])\n",
      "torch.Size([32, 291])\n",
      "torch.Size([32, 291])\n",
      "torch.Size([32, 30])\n"
     ]
    }
   ],
   "source": [
    "class Dataset(torch.utils.data.Dataset):\n",
    "    def __init__(self, data):\n",
    "        super().__init__()\n",
    "        self.transform = transforms.Compose([\n",
    "            transforms.Resize((224,224)),\n",
    "            transforms.ToTensor(),\n",
    "            transforms.Normalize(mean=[0.485, 0.456, 0.406], std=[0.229, 0.224, 0.225])\n",
    "        ])\n",
    "\n",
    "        self.sales = data[\"sales\"].values\n",
    "        self.img = data[\"img_path\"].values\n",
    "        self.year = data[\"year\"].values\n",
    "        self.month = data[\"month\"].values\n",
    "        self.week = data[\"week\"].values\n",
    "        self.day = data[\"day\"].values\n",
    "        self.dayofweek = data[\"dayofweek\"].values\n",
    "    \n",
    "    def __getitem__(self, idx):\n",
    "        sales_raw = self.sales[idx]\n",
    "        \n",
    "        # Scaling\n",
    "        # scaler = MinMaxScaler()\n",
    "        # sales_raw = scaler.fit_transform(sales_raw.reshape(-1,1)).reshape(-1) + 1\n",
    "        sales_raw = np.log1p(sales_raw)\n",
    "\n",
    "        # Process features\n",
    "        sales = sales_raw[:-pred_len]\n",
    "        y = sales_raw[-pred_len:]\n",
    "\n",
    "        img = Image.open(self.img[idx]).convert(\"RGB\")\n",
    "        img_tensor = self.transform(img).numpy()\n",
    "\n",
    "        year = self.year[idx][:-pred_len]\n",
    "        month = self.month[idx][:-pred_len]\n",
    "        week = self.week[idx][:-pred_len]\n",
    "        day = self.day[idx][:-pred_len]\n",
    "        dayofweek = self.dayofweek[idx][:-pred_len]        \n",
    "\n",
    "        return sales, img, img_tensor, year, month, week, day, dayofweek, y\n",
    "\n",
    "    def __len__(self):\n",
    "        return self.img.shape[0]\n",
    "\n",
    "train_dataset = Dataset(df_train_prep)\n",
    "valid_dataset = Dataset(df_valid_prep)\n",
    "\n",
    "def func(data):\n",
    "    sales = np.nan_to_num(to_time_series_dataset([sales_ for sales_, img_, img_tensor_, year_, month_, week_, day_, dayofweek_, y_ in data]), nan=0).squeeze()\n",
    "\n",
    "    img = ([img_ for sales_, img_, img_tensor_, year_, month_, week_, day_, dayofweek_, y_ in data])\n",
    "    img_tensor = np.array([img_tensor_ for sales_, img_, img_tensor_, year_, month_, week_, day_, dayofweek_, y_ in data])\n",
    "\n",
    "    year = np.nan_to_num(to_time_series_dataset([year_ for sales_, img_, img_tensor_, year_, month_, week_, day_, dayofweek_, y_ in data]), nan=0).squeeze()\n",
    "    month = np.nan_to_num(to_time_series_dataset([month_ for sales_, img_, img_tensor_, year_, month_, week_, day_, dayofweek_, y_ in data]), nan=0).squeeze()\n",
    "    week = np.nan_to_num(to_time_series_dataset([week_ for sales_, img_, img_tensor_, year_, month_, week_, day_, dayofweek_, y_ in data]), nan=0).squeeze()\n",
    "    day = np.nan_to_num(to_time_series_dataset([day_ for sales_, img_, img_tensor_, year_, month_, week_, day_, dayofweek_, y_ in data]), nan=0).squeeze()\n",
    "    dayofweek = np.nan_to_num(to_time_series_dataset([dayofweek_ for sales_, img_, img_tensor_, year_, month_, week_, day_, dayofweek_, y_ in data]), nan=0).squeeze()\n",
    "    \n",
    "    y = np.array([y_ for sales_, img_, img_tensor_, year_, month_, week_, day_, dayofweek_, y_ in data])\n",
    "\n",
    "    sales = torch.FloatTensor(sales).unsqueeze(-1)\n",
    "    img_tensor = torch.FloatTensor(img_tensor)\n",
    "\n",
    "    year = torch.FloatTensor(year).unsqueeze(-1)\n",
    "    month = torch.IntTensor(month)\n",
    "    week = torch.IntTensor(week)\n",
    "    day = torch.IntTensor(day)\n",
    "    dayofweek = torch.IntTensor(dayofweek)\n",
    "\n",
    "    y = torch.FloatTensor(y)\n",
    "\n",
    "    return sales, img, img_tensor, year, month, week, day, dayofweek, y\n",
    "\n",
    "train_dataloader = torch.utils.data.DataLoader(train_dataset, batch_size=batch_size, num_workers=8, prefetch_factor=8, shuffle=True, collate_fn=func)\n",
    "valid_dataloader = torch.utils.data.DataLoader(valid_dataset, batch_size=batch_size, num_workers=8, prefetch_factor=8, collate_fn=func)\n",
    "\n",
    "for sales, img, img_tensor, year, month, week, day, dayofweek, y in train_dataloader:\n",
    "    print(sales.shape)\n",
    "    print(img_tensor.shape)\n",
    "    print(year.shape)\n",
    "    print(month.shape)\n",
    "    print(week.shape)\n",
    "    print(day.shape)\n",
    "    print(dayofweek.shape)\n",
    "    print(y.shape)\n",
    "    break"
   ]
  },
  {
   "cell_type": "markdown",
   "metadata": {},
   "source": [
    "# Modeling"
   ]
  },
  {
   "cell_type": "markdown",
   "metadata": {},
   "source": [
    "### Architecture"
   ]
  },
  {
   "cell_type": "code",
   "execution_count": 7,
   "metadata": {},
   "outputs": [],
   "source": [
    "class Mask(torch.nn.Module):\n",
    "    def __init__(self):\n",
    "        super().__init__()\n",
    "\n",
    "    def get_padding_mask(self, arr):\n",
    "        res = torch.eq(arr, 0).type(torch.FloatTensor).to(device)\n",
    "        res = torch.where(res==1, -torch.inf, 0)\n",
    "        return res\n",
    "    \n",
    "    def get_lookahead_mask(self, arr):\n",
    "        seq_len = arr.shape[1]\n",
    "        mask = torch.triu(torch.ones((seq_len, seq_len))*-torch.inf, 1).to(device)\n",
    "        return mask\n",
    "\n",
    "    def forward(self, arr):\n",
    "        padding_mask = self.get_padding_mask(arr)\n",
    "        lookahead_mask = self.get_lookahead_mask(arr)\n",
    "        return padding_mask, lookahead_mask\n",
    "\n",
    "class PositionalEmbedding(torch.nn.Module):\n",
    "    def __init__(self, d_model):\n",
    "        super().__init__()\n",
    "        self.year_embedder = torch.nn.Linear(1, d_model)\n",
    "        self.year_activation = torch.nn.ELU()\n",
    "\n",
    "        self.month_embedder = torch.nn.Embedding(num_embeddings=12, embedding_dim=d_model)\n",
    "        self.week_embedder = torch.nn.Embedding(num_embeddings=52, embedding_dim=d_model)\n",
    "        self.day_embedder = torch.nn.Embedding(num_embeddings=365, embedding_dim=d_model)\n",
    "        self.dayofweek_embedder = torch.nn.Embedding(num_embeddings=7, embedding_dim=d_model)\n",
    "\n",
    "        self.linear_embedder = torch.nn.Linear(d_model*5, d_model)\n",
    "        self.linear_activation = torch.nn.ELU()\n",
    "\n",
    "        self.linear = torch.nn.Linear(d_model, d_model)\n",
    "\n",
    "    def forward(self, year, month, week, day, dayofweek):\n",
    "        year_embedding = self.year_activation(self.year_embedder(year))\n",
    "        month_embedding = self.month_embedder(month)\n",
    "        week_embedding = self.week_embedder(week)\n",
    "        day_embedding = self.day_embedder(day)\n",
    "        dayofweek_embedding = self.day_embedder(dayofweek)\n",
    "\n",
    "        concat = torch.concat([year_embedding, month_embedding, week_embedding, day_embedding, dayofweek_embedding], dim=-1)\n",
    "        embedding = self.linear_activation(self.linear_embedder(concat))\n",
    "        embedding = self.linear(embedding)\n",
    "        return embedding\n",
    "\n",
    "class Encoder(torch.nn.Module):\n",
    "    def __init__(self, dropout, d_model, nhead, d_ff, num_layers):\n",
    "        super().__init__()\n",
    "        # Positional encoding\n",
    "        self.sales_dropout = torch.nn.Dropout(dropout)\n",
    "        self.sales_embedder = torch.nn.Linear(1, d_model)\n",
    "        self.sales_activation = torch.nn.ELU()\n",
    "\n",
    "        # Encoding\n",
    "        self.encoder = torch.nn.TransformerEncoder(torch.nn.TransformerEncoderLayer(d_model, nhead, d_ff, dropout, batch_first=True), num_layers)\n",
    "    \n",
    "    def forward(self, sales, positional_embedding, enc_padding_mask):\n",
    "        # Positional encoding\n",
    "        sales_embedding = self.sales_activation(self.sales_embedder(sales))\n",
    "        sales_positional_embedding = self.sales_dropout(sales_embedding + positional_embedding)\n",
    "\n",
    "        # Encoding\n",
    "        encoding = self.encoder(sales_positional_embedding, src_key_padding_mask=enc_padding_mask)\n",
    "        \n",
    "        return encoding\n",
    "\n",
    "class Decoder(torch.nn.Module):\n",
    "    def __init__(self, d_model, nhead, d_ff, dropout, num_layers):\n",
    "        super().__init__()\n",
    "        # Image model train\n",
    "        self.img_model = ViTModel.from_pretrained(\"google/vit-base-patch16-224-in21k\")\n",
    "        # self.img_model = ViTModel(ViTConfig())\n",
    "        self.img_activation = torch.nn.ELU()\n",
    "        \n",
    "        # Image model embedding\n",
    "        self.img_embedder = torch.nn.Linear(self.img_model.config.hidden_size, d_model)\n",
    "        self.img_embedding_activation = torch.nn.ELU()\n",
    "\n",
    "        # Decoding\n",
    "        self.decoder = torch.nn.TransformerDecoder(torch.nn.TransformerDecoderLayer(d_model, nhead, d_ff, dropout, batch_first=True), num_layers)\n",
    "    \n",
    "    def forward(self, img_tensor, encoder_output, enc_padding_mask):\n",
    "        img_hidden_state, pooler_output, attn_weight = self.img_model(img_tensor, output_attentions=True).values()\n",
    "        img_hidden_state = self.img_activation(img_hidden_state)\n",
    "        \n",
    "        img_embedding = self.img_embedding_activation(self.img_embedder(img_hidden_state))\n",
    "        dec_output = self.decoder(tgt=img_embedding, memory=encoder_output, memory_key_padding_mask=enc_padding_mask)\n",
    "        \n",
    "        return dec_output, attn_weight\n",
    "\n",
    "class Transformer(torch.nn.Module):\n",
    "    def __init__(self, d_model, dropout, nhead, d_ff, num_layers, pred_len):\n",
    "        super().__init__()\n",
    "        self.enc_mask = Mask()\n",
    "        self.positional_embedder = PositionalEmbedding(d_model)\n",
    "        \n",
    "        self.encoder = Encoder(dropout, d_model, nhead, d_ff, num_layers)\n",
    "        self.decoder = Decoder(d_model, nhead, d_ff, dropout, num_layers)\n",
    "\n",
    "        self.flatten = torch.nn.Flatten()\n",
    "        self.linear1 = torch.nn.Linear(d_model*197, d_model)\n",
    "        self.elu1 = torch.nn.ELU()\n",
    "        \n",
    "        self.linear2 = torch.nn.Linear(d_model, pred_len)\n",
    "    \n",
    "    def forward(self, sales, img_tensor, year, month, week, day, dayofweek):\n",
    "        enc_padding_mask, _ = self.enc_mask(sales.squeeze(-1))\n",
    "        positional_embedding = self.positional_embedder(year, month, week, day, dayofweek)\n",
    "\n",
    "        encoder_output = self.encoder(sales, positional_embedding, enc_padding_mask)\n",
    "        decoder_output, attn_weight = self.decoder(img_tensor, encoder_output, enc_padding_mask)\n",
    "        \n",
    "        output = self.elu1(self.linear1(self.flatten(decoder_output)))\n",
    "        output = self.linear2(output)\n",
    "        # output = output + torch.FloatTensor([1]).to(device)\n",
    "        \n",
    "        return output, attn_weight\n",
    "\n",
    "model = Transformer(d_model, dropout, nhead, d_ff, num_layers, pred_len).to(device)\n",
    "# for n, data in enumerate(train_dataloader):\n",
    "#     sales, img, img_tensor, year, month, week, day, dayofweek, y = data\n",
    "    \n",
    "#     # Train\n",
    "#     pred, attn_weight = model(sales.to(device), img_tensor.to(device), year.to(device), month.to(device), week.to(device), day.to(device), dayofweek.to(device))\n",
    "#     print(pred.shape)\n",
    "#     break"
   ]
  },
  {
   "cell_type": "markdown",
   "metadata": {},
   "source": [
    "### Train"
   ]
  },
  {
   "cell_type": "code",
   "execution_count": 8,
   "metadata": {},
   "outputs": [
    {
     "data": {
      "image/png": "[encoded data removed]",
      "text/plain": [
       "<Figure size 1500x500 with 2 Axes>"
      ]
     },
     "metadata": {},
     "output_type": "display_data"
    },
    {
     "name": "stdout",
     "output_type": "stream",
     "text": [
      " 1:87/1144 mean_train_loss: 0.2741809609261426 -- mean_val_loss: 0.60047065534834133"
     ]
    },
    {
     "ename": "KeyboardInterrupt",
     "evalue": "",
     "output_type": "error",
     "traceback": [
      "\u001b[0;31m---------------------------------------------------------------------------\u001b[0m",
      "\u001b[0;31mKeyboardInterrupt\u001b[0m                         Traceback (most recent call last)",
      "\u001b[1;32m/home/sh-sungho.park/Test/Paper/Implementation/implementation_v3.1.ipynb Cell 21\u001b[0m line \u001b[0;36m7\n\u001b[1;32m     <a href='vscode-notebook-cell://ssh-remote%2Bgpu.isdow.com/home/sh-sungho.park/Test/Paper/Implementation/implementation_v3.1.ipynb#X26sdnNjb2RlLXJlbW90ZQ%3D%3D?line=73'>74</a>\u001b[0m val_loss \u001b[39m=\u001b[39m \u001b[39m0\u001b[39m\n\u001b[1;32m     <a href='vscode-notebook-cell://ssh-remote%2Bgpu.isdow.com/home/sh-sungho.park/Test/Paper/Implementation/implementation_v3.1.ipynb#X26sdnNjb2RlLXJlbW90ZQ%3D%3D?line=75'>76</a>\u001b[0m \u001b[39mfor\u001b[39;00m e \u001b[39min\u001b[39;00m \u001b[39mrange\u001b[39m(epoch):\n\u001b[0;32m---> <a href='vscode-notebook-cell://ssh-remote%2Bgpu.isdow.com/home/sh-sungho.park/Test/Paper/Implementation/implementation_v3.1.ipynb#X26sdnNjb2RlLXJlbW90ZQ%3D%3D?line=76'>77</a>\u001b[0m     train_loss \u001b[39m=\u001b[39m train(e, val_loss, train_loss_li, val_loss_li) \u001b[39m# Train\u001b[39;00m\n\u001b[1;32m     <a href='vscode-notebook-cell://ssh-remote%2Bgpu.isdow.com/home/sh-sungho.park/Test/Paper/Implementation/implementation_v3.1.ipynb#X26sdnNjb2RlLXJlbW90ZQ%3D%3D?line=77'>78</a>\u001b[0m     val_loss \u001b[39m=\u001b[39m val(e)\n\u001b[1;32m     <a href='vscode-notebook-cell://ssh-remote%2Bgpu.isdow.com/home/sh-sungho.park/Test/Paper/Implementation/implementation_v3.1.ipynb#X26sdnNjb2RlLXJlbW90ZQ%3D%3D?line=79'>80</a>\u001b[0m     train_loss_li\u001b[39m.\u001b[39mappend(train_loss)\n",
      "\u001b[1;32m/home/sh-sungho.park/Test/Paper/Implementation/implementation_v3.1.ipynb Cell 21\u001b[0m line \u001b[0;36m3\n\u001b[1;32m     <a href='vscode-notebook-cell://ssh-remote%2Bgpu.isdow.com/home/sh-sungho.park/Test/Paper/Implementation/implementation_v3.1.ipynb#X26sdnNjb2RlLXJlbW90ZQ%3D%3D?line=35'>36</a>\u001b[0m \u001b[39m# plot sample\u001b[39;00m\n\u001b[1;32m     <a href='vscode-notebook-cell://ssh-remote%2Bgpu.isdow.com/home/sh-sungho.park/Test/Paper/Implementation/implementation_v3.1.ipynb#X26sdnNjb2RlLXJlbW90ZQ%3D%3D?line=36'>37</a>\u001b[0m \u001b[39mif\u001b[39;00m n \u001b[39m%\u001b[39m \u001b[39m10\u001b[39m \u001b[39m==\u001b[39m \u001b[39m0\u001b[39m: plot_sample(np\u001b[39m.\u001b[39mexpm1(y), np\u001b[39m.\u001b[39mexpm1(pred\u001b[39m.\u001b[39mdetach()\u001b[39m.\u001b[39mcpu()))\n\u001b[0;32m---> <a href='vscode-notebook-cell://ssh-remote%2Bgpu.isdow.com/home/sh-sungho.park/Test/Paper/Implementation/implementation_v3.1.ipynb#X26sdnNjb2RlLXJlbW90ZQ%3D%3D?line=37'>38</a>\u001b[0m loss \u001b[39m=\u001b[39m loss_fn(pred, y\u001b[39m.\u001b[39;49mto(device))\n\u001b[1;32m     <a href='vscode-notebook-cell://ssh-remote%2Bgpu.isdow.com/home/sh-sungho.park/Test/Paper/Implementation/implementation_v3.1.ipynb#X26sdnNjb2RlLXJlbW90ZQ%3D%3D?line=38'>39</a>\u001b[0m \u001b[39m# loss = loss_fn(torch.expm1(pred), torch.expm1(y).to(device))\u001b[39;00m\n\u001b[1;32m     <a href='vscode-notebook-cell://ssh-remote%2Bgpu.isdow.com/home/sh-sungho.park/Test/Paper/Implementation/implementation_v3.1.ipynb#X26sdnNjb2RlLXJlbW90ZQ%3D%3D?line=39'>40</a>\u001b[0m loss\u001b[39m.\u001b[39mbackward()\n",
      "\u001b[0;31mKeyboardInterrupt\u001b[0m: "
     ]
    }
   ],
   "source": [
    "optimizer = torch.optim.Adam(model.parameters(), lr=0.001)\n",
    "loss_fn = torch.nn.MSELoss()\n",
    "\n",
    "def plot_sample(y, pred):\n",
    "    # Plot sample\n",
    "    clear_output(wait=True)\n",
    "    y_sample = y[-1]\n",
    "    pred_sample = pred[-1].detach().cpu()\n",
    "    \n",
    "    plt.figure(figsize=(15,5))\n",
    "    plt.subplot(1,2,1)\n",
    "    plt.plot(train_loss_li, label=\"train\")\n",
    "    plt.plot(val_loss_li, label=\"valid\")\n",
    "    plt.title(\"Loss\")\n",
    "    plt.legend()\n",
    "\n",
    "    plt.subplot(1,2,2)\n",
    "    plt.plot(y_sample, label=\"y\")\n",
    "    plt.plot(pred_sample, label=\"pred\")\n",
    "    plt.title(\"Sample\")\n",
    "    plt.legend()\n",
    "    plt.show()\n",
    "\n",
    "def train(epoch, val_loss, train_loss_li, val_loss_li):\n",
    "    model.train()\n",
    "    total_len = len(train_dataloader)\n",
    "    total_loss = 0\n",
    "    for n, data in enumerate(train_dataloader):\n",
    "        sales, img, img_tensor, year, month, week, day, dayofweek, y = data\n",
    "        \n",
    "        # Train\n",
    "        optimizer.zero_grad()\n",
    "        pred, attn_weight = model(sales.to(device), img_tensor.to(device), year.to(device), month.to(device), week.to(device), day.to(device), dayofweek.to(device))\n",
    "        pred = pred.squeeze()\n",
    "\n",
    "        # plot sample\n",
    "        if n % 10 == 0: plot_sample(np.expm1(y), np.expm1(pred.detach().cpu()))\n",
    "        loss = loss_fn(pred, y.to(device))\n",
    "        # loss = loss_fn(torch.expm1(pred), torch.expm1(y).to(device))\n",
    "        loss.backward()\n",
    "        optimizer.step()\n",
    "\n",
    "        # Report\n",
    "        total_loss += loss.item()\n",
    "        mean_loss = total_loss / (n+1)\n",
    "        print(f\"\\r {epoch}:{n}/{total_len} mean_train_loss: {mean_loss} -- mean_val_loss: {val_loss}\", end=\"\")\n",
    "\n",
    "    print()\n",
    "    return mean_loss\n",
    "\n",
    "def val(epoch):\n",
    "    model.eval()\n",
    "    total_len = len(valid_dataloader)\n",
    "    total_loss = 0\n",
    "    for n, data in enumerate(valid_dataloader):\n",
    "        sales, img, img_tensor, year, month, week, day, dayofweek, y = data\n",
    "        \n",
    "        # Pred\n",
    "        with torch.no_grad():\n",
    "            pred, attn_weight = model(sales.to(device), img_tensor.to(device), year.to(device), month.to(device), week.to(device), day.to(device), dayofweek.to(device))\n",
    "            pred = pred.squeeze()\n",
    "            loss = loss_fn(pred, y.to(device))\n",
    "\n",
    "            # Report\n",
    "            total_loss += loss.item()\n",
    "            mean_loss = total_loss / (n+1)\n",
    "            print(f\"\\r {epoch}:{n}/{total_len} mean_val_loss: {mean_loss}\", end=\"\")\n",
    "\n",
    "    print()\n",
    "    return mean_loss\n",
    " \n",
    "epoch = 5\n",
    "train_loss_li, val_loss_li = [0], [0]\n",
    "val_loss = 0\n",
    "\n",
    "for e in range(epoch):\n",
    "    train_loss = train(e, val_loss, train_loss_li, val_loss_li) # Train\n",
    "    val_loss = val(e)\n",
    "\n",
    "    train_loss_li.append(train_loss)\n",
    "    val_loss_li.append(val_loss)\n",
    "    torch.save(model.state_dict(), f\"model_{np.mean(train_loss)}_{np.mean(val_loss)}.pth\")"
   ]
  },
  {
   "cell_type": "code",
   "execution_count": 9,
   "metadata": {},
   "outputs": [],
   "source": [
    "torch.save(model.state_dict(), f\"model_ref.pth\")"
   ]
  },
  {
   "cell_type": "code",
   "execution_count": 13,
   "metadata": {},
   "outputs": [],
   "source": [
    "def get_attention_map(img, att_mat, get_mask=False):\n",
    "    att_mat = torch.stack(att_mat).squeeze(1)\n",
    "\n",
    "    # Average the attention weights across all heads.\n",
    "    att_mat = torch.mean(att_mat, dim=1)\n",
    "\n",
    "    # To account for residual connections, we add an identity matrix to the\n",
    "    # attention matrix and re-normalize the weights.\n",
    "    residual_att = torch.eye(att_mat.size(1))\n",
    "    aug_att_mat = att_mat + residual_att\n",
    "    aug_att_mat = aug_att_mat / aug_att_mat.sum(dim=-1).unsqueeze(-1)\n",
    "\n",
    "    # Recursively multiply the weight matrices\n",
    "    joint_attentions = torch.zeros(aug_att_mat.size())\n",
    "    joint_attentions[0] = aug_att_mat[0]\n",
    "\n",
    "    for n in range(1, aug_att_mat.size(0)):\n",
    "        joint_attentions[n] = torch.matmul(aug_att_mat[n], joint_attentions[n-1])\n",
    "\n",
    "    v = joint_attentions[-1]\n",
    "    grid_size = int(np.sqrt(aug_att_mat.size(-1)))\n",
    "    mask = v[0, 1:].reshape(grid_size, grid_size).detach().numpy()\n",
    "    if get_mask:\n",
    "        result = cv2.resize(mask / mask.max(), img.size)\n",
    "    else:        \n",
    "        mask = cv2.resize(mask / mask.max(), img.size)[..., np.newaxis]\n",
    "        result = (mask * img).astype(\"uint8\")\n",
    "    \n",
    "    return result\n",
    "\n",
    "def plot_attention_map(original_img, att_map, loss):\n",
    "    fig, (ax1, ax2) = plt.subplots(ncols=2, figsize=(5, 5))\n",
    "    ax1.set_title('Original')\n",
    "    ax2.set_title(loss)\n",
    "    _ = ax1.imshow(original_img)\n",
    "    _ = ax2.imshow(att_map, cmap = cm.gray)"
   ]
  },
  {
   "cell_type": "code",
   "execution_count": 16,
   "metadata": {},
   "outputs": [],
   "source": [
    "from transformers import AutoImageProcessor, SwinModel, SwinForImageClassification, ViTModel, ViTForImageClassification\n",
    "import matplotlib.cm as cm\n",
    "from gradcam import GradCAM\n",
    "from gradcam.utils import visualize_cam\n",
    "import cv2\n",
    "\n",
    "# model.eval()\n",
    "data = next(iter(valid_dataloader))\n",
    "\n",
    "for data in valid_dataloader:\n",
    "    sales, img, img_tensor, year, month, week, day, dayofweek, y = data\n",
    "\n",
    "    for idx in range(len(data)):\n",
    "        sales_ = sales[idx:idx+1]\n",
    "        img_ = img[idx]\n",
    "        img_tensor_ = img_tensor[idx:idx+1]\n",
    "        year_ = year[idx:idx+1]\n",
    "        month_ = month[idx:idx+1]\n",
    "        week_ = week[idx:idx+1]\n",
    "        day_ = day[idx:idx+1]\n",
    "        dayofweek_ = dayofweek[idx:idx+1]\n",
    "        y_ = y[idx:idx+1]\n",
    "\n",
    "        with torch.no_grad():\n",
    "            pred, attn_weight = model(sales_.to(device), img_tensor_.to(device), year_.to(device), month_.to(device), week_.to(device), day_.to(device), dayofweek_.to(device))\n",
    "            loss = loss_fn(pred, y.to(device)).item()\n",
    "        res = get_attention_map(img_, tuple(i.detach().cpu() for i in attn_weight), get_mask=True)\n",
    "        plot_attention_map(img_, res, loss)\n",
    "        plt.show()\n",
    "        if idx == 20: input()"
   ]
  },
  {
   "cell_type": "code",
   "execution_count": null,
   "metadata": {},
   "outputs": [
    {
     "data": {
      "text/plain": [
       "torch.Size([1, 77])"
      ]
     },
     "execution_count": 20,
     "metadata": {},
     "output_type": "execute_result"
    }
   ],
   "source": [
    "day_.squeeze(-1).shape"
   ]
  }
 ],
 "metadata": {
  "kernelspec": {
   "display_name": "cudatest",
   "language": "python",
   "name": "python3"
  },
  "language_info": {
   "codemirror_mode": {
    "name": "ipython",
    "version": 3
   },
   "file_extension": ".py",
   "mimetype": "text/x-python",
   "name": "python",
   "nbconvert_exporter": "python",
   "pygments_lexer": "ipython3",
   "version": "3.8.17"
  }
 },
 "nbformat": 4,
 "nbformat_minor": 2
}
