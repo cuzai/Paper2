{
 "cells": [
  {
   "cell_type": "markdown",
   "metadata": {},
   "source": [
    "# Configurations"
   ]
  },
  {
   "cell_type": "markdown",
   "metadata": {},
   "source": [
    "### Import"
   ]
  },
  {
   "cell_type": "code",
   "execution_count": 1,
   "metadata": {},
   "outputs": [
    {
     "name": "stderr",
     "output_type": "stream",
     "text": [
      "/home/sh-sungho.park/anaconda3/envs/cudatest/lib/python3.8/site-packages/tslearn/bases/bases.py:15: UserWarning: h5py not installed, hdf5 features will not be supported.\n",
      "Install h5py to use hdf5 features: http://docs.h5py.org/\n",
      "  warn(h5py_msg)\n",
      "/home/sh-sungho.park/anaconda3/envs/cudatest/lib/python3.8/site-packages/tqdm/auto.py:21: TqdmWarning: IProgress not found. Please update jupyter and ipywidgets. See https://ipywidgets.readthedocs.io/en/stable/user_install.html\n",
      "  from .autonotebook import tqdm as notebook_tqdm\n"
     ]
    }
   ],
   "source": [
    "import os\n",
    "import joblib\n",
    "\n",
    "from IPython.display import clear_output\n",
    "import random\n",
    "import numpy as np\n",
    "import pandas as pd; pd.set_option(\"display.max_columns\", None)\n",
    "import matplotlib.pyplot as plt\n",
    "\n",
    "from sklearn.preprocessing import MinMaxScaler, LabelEncoder\n",
    "\n",
    "from statsmodels.tsa.seasonal import seasonal_decompose\n",
    "\n",
    "from tslearn.clustering import TimeSeriesKMeans\n",
    "from tslearn.utils import to_time_series_dataset\n",
    "\n",
    "import pytorch_forecasting as pf\n",
    "\n",
    "import torch\n",
    "from PIL import Image\n",
    "import torchvision\n",
    "from torchvision import transforms\n",
    "from transformers import SwinModel"
   ]
  },
  {
   "cell_type": "markdown",
   "metadata": {},
   "source": [
    "### Read"
   ]
  },
  {
   "cell_type": "code",
   "execution_count": 2,
   "metadata": {},
   "outputs": [],
   "source": [
    "# Read transaction\n",
    "df_trans = pd.read_csv(\"../HnM/transactions_train.csv\", parse_dates=[\"t_dat\"], dtype={\"article_id\":str})\n",
    "df_trans[\"year\"] = df_trans[\"t_dat\"].dt.year.astype(str)\n",
    "df_trans[\"month\"] = df_trans[\"t_dat\"].dt.month.astype(str)\n",
    "df_trans[\"t_dat\"] = df_trans[\"year\"] + \"-\" + df_trans[\"month\"] + \"-\" + \"1\"\n",
    "df_trans[\"t_dat\"] = pd.to_datetime(df_trans[\"t_dat\"])\n",
    "\n",
    "df_trans = df_trans.groupby([\"article_id\", \"t_dat\"], as_index=False).agg(sales=(\"customer_id\",\"size\"), price=(\"price\",\"mean\"))\n",
    "df_trans[\"day_cnt\"] = df_trans.groupby([\"article_id\"])[\"t_dat\"].transform(\"size\")\n",
    "df_trans = df_trans.sort_values([\"day_cnt\", \"sales\"], ascending=False).reset_index(drop=True)\n",
    "\n",
    "# Read article info\n",
    "df_article = pd.read_csv(\"../HnM/articles.csv\", dtype={\"article_id\":str})\n",
    "df_article = df_article[[\"article_id\"] + [col for col in df_article.columns if \"name\" in col]]"
   ]
  },
  {
   "cell_type": "code",
   "execution_count": 3,
   "metadata": {},
   "outputs": [
    {
     "data": {
      "text/html": [
       "<div>\n",
       "<style scoped>\n",
       "    .dataframe tbody tr th:only-of-type {\n",
       "        vertical-align: middle;\n",
       "    }\n",
       "\n",
       "    .dataframe tbody tr th {\n",
       "        vertical-align: top;\n",
       "    }\n",
       "\n",
       "    .dataframe thead th {\n",
       "        text-align: right;\n",
       "    }\n",
       "</style>\n",
       "<table border=\"1\" class=\"dataframe\">\n",
       "  <thead>\n",
       "    <tr style=\"text-align: right;\">\n",
       "      <th></th>\n",
       "      <th>article_id</th>\n",
       "      <th>t_dat</th>\n",
       "      <th>sales</th>\n",
       "      <th>price</th>\n",
       "      <th>day_cnt</th>\n",
       "      <th>prod_name</th>\n",
       "      <th>product_type_name</th>\n",
       "      <th>product_group_name</th>\n",
       "      <th>graphical_appearance_name</th>\n",
       "      <th>colour_group_name</th>\n",
       "      <th>perceived_colour_value_name</th>\n",
       "      <th>perceived_colour_master_name</th>\n",
       "      <th>department_name</th>\n",
       "      <th>index_name</th>\n",
       "      <th>index_group_name</th>\n",
       "      <th>section_name</th>\n",
       "      <th>garment_group_name</th>\n",
       "    </tr>\n",
       "  </thead>\n",
       "  <tbody>\n",
       "    <tr>\n",
       "      <th>0</th>\n",
       "      <td>0610776002</td>\n",
       "      <td>2020-04-01</td>\n",
       "      <td>3587</td>\n",
       "      <td>0.007954</td>\n",
       "      <td>25</td>\n",
       "      <td>Tilly (1)</td>\n",
       "      <td>T-shirt</td>\n",
       "      <td>Garment Upper body</td>\n",
       "      <td>Solid</td>\n",
       "      <td>Black</td>\n",
       "      <td>Dark</td>\n",
       "      <td>Black</td>\n",
       "      <td>Jersey Basic</td>\n",
       "      <td>Ladieswear</td>\n",
       "      <td>Ladieswear</td>\n",
       "      <td>Womens Everyday Basics</td>\n",
       "      <td>Jersey Basic</td>\n",
       "    </tr>\n",
       "    <tr>\n",
       "      <th>1</th>\n",
       "      <td>0610776002</td>\n",
       "      <td>2020-05-01</td>\n",
       "      <td>2168</td>\n",
       "      <td>0.008227</td>\n",
       "      <td>25</td>\n",
       "      <td>Tilly (1)</td>\n",
       "      <td>T-shirt</td>\n",
       "      <td>Garment Upper body</td>\n",
       "      <td>Solid</td>\n",
       "      <td>Black</td>\n",
       "      <td>Dark</td>\n",
       "      <td>Black</td>\n",
       "      <td>Jersey Basic</td>\n",
       "      <td>Ladieswear</td>\n",
       "      <td>Ladieswear</td>\n",
       "      <td>Womens Everyday Basics</td>\n",
       "      <td>Jersey Basic</td>\n",
       "    </tr>\n",
       "    <tr>\n",
       "      <th>2</th>\n",
       "      <td>0610776002</td>\n",
       "      <td>2019-06-01</td>\n",
       "      <td>1951</td>\n",
       "      <td>0.008219</td>\n",
       "      <td>25</td>\n",
       "      <td>Tilly (1)</td>\n",
       "      <td>T-shirt</td>\n",
       "      <td>Garment Upper body</td>\n",
       "      <td>Solid</td>\n",
       "      <td>Black</td>\n",
       "      <td>Dark</td>\n",
       "      <td>Black</td>\n",
       "      <td>Jersey Basic</td>\n",
       "      <td>Ladieswear</td>\n",
       "      <td>Ladieswear</td>\n",
       "      <td>Womens Everyday Basics</td>\n",
       "      <td>Jersey Basic</td>\n",
       "    </tr>\n",
       "  </tbody>\n",
       "</table>\n",
       "</div>"
      ],
      "text/plain": [
       "   article_id      t_dat  sales     price  day_cnt  prod_name  \\\n",
       "0  0610776002 2020-04-01   3587  0.007954       25  Tilly (1)   \n",
       "1  0610776002 2020-05-01   2168  0.008227       25  Tilly (1)   \n",
       "2  0610776002 2019-06-01   1951  0.008219       25  Tilly (1)   \n",
       "\n",
       "  product_type_name  product_group_name graphical_appearance_name  \\\n",
       "0           T-shirt  Garment Upper body                     Solid   \n",
       "1           T-shirt  Garment Upper body                     Solid   \n",
       "2           T-shirt  Garment Upper body                     Solid   \n",
       "\n",
       "  colour_group_name perceived_colour_value_name perceived_colour_master_name  \\\n",
       "0             Black                        Dark                        Black   \n",
       "1             Black                        Dark                        Black   \n",
       "2             Black                        Dark                        Black   \n",
       "\n",
       "  department_name  index_name index_group_name            section_name  \\\n",
       "0    Jersey Basic  Ladieswear       Ladieswear  Womens Everyday Basics   \n",
       "1    Jersey Basic  Ladieswear       Ladieswear  Womens Everyday Basics   \n",
       "2    Jersey Basic  Ladieswear       Ladieswear  Womens Everyday Basics   \n",
       "\n",
       "  garment_group_name  \n",
       "0       Jersey Basic  \n",
       "1       Jersey Basic  \n",
       "2       Jersey Basic  "
      ]
     },
     "execution_count": 3,
     "metadata": {},
     "output_type": "execute_result"
    }
   ],
   "source": [
    "# Merge two datasets\n",
    "df_raw = pd.merge(df_trans, df_article, on=\"article_id\")\n",
    "df_raw.head(3)"
   ]
  },
  {
   "cell_type": "markdown",
   "metadata": {},
   "source": [
    "# Dataset"
   ]
  },
  {
   "cell_type": "markdown",
   "metadata": {},
   "source": [
    "### Params"
   ]
  },
  {
   "cell_type": "code",
   "execution_count": 4,
   "metadata": {},
   "outputs": [
    {
     "data": {
      "text/plain": [
       "<torch._C.Generator at 0x7f595a2e6bb0>"
      ]
     },
     "execution_count": 4,
     "metadata": {},
     "output_type": "execute_result"
    }
   ],
   "source": [
    "n_smaples = 99999999999999 # Sampling\n",
    "# n_smaples = 100 # Sampling\n",
    "random_state = 0\n",
    "batch_size = 128\n",
    "\n",
    "# d_model = 256\n",
    "# nhead = 8\n",
    "# d_ff = 512\n",
    "# dropout = 0.3\n",
    "# num_layers = 6\n",
    "\n",
    "d_model = 128\n",
    "nhead = 4\n",
    "d_ff = 256\n",
    "dropout = 0.3\n",
    "num_layers = 4\n",
    "\n",
    "# Seed set\n",
    "random.seed(random_state)\n",
    "np.random.seed(random_state)\n",
    "torch.manual_seed(random_state)"
   ]
  },
  {
   "cell_type": "markdown",
   "metadata": {},
   "source": [
    "### Preprocess"
   ]
  },
  {
   "cell_type": "code",
   "execution_count": 5,
   "metadata": {},
   "outputs": [
    {
     "name": "stdout",
     "output_type": "stream",
     "text": [
      "(768883, 17)\n",
      "(768883, 17)\n",
      "(765572, 20)\n"
     ]
    },
    {
     "data": {
      "text/html": [
       "<div>\n",
       "<style scoped>\n",
       "    .dataframe tbody tr th:only-of-type {\n",
       "        vertical-align: middle;\n",
       "    }\n",
       "\n",
       "    .dataframe tbody tr th {\n",
       "        vertical-align: top;\n",
       "    }\n",
       "\n",
       "    .dataframe thead th {\n",
       "        text-align: right;\n",
       "    }\n",
       "</style>\n",
       "<table border=\"1\" class=\"dataframe\">\n",
       "  <thead>\n",
       "    <tr style=\"text-align: right;\">\n",
       "      <th></th>\n",
       "      <th>article_id</th>\n",
       "      <th>t_dat</th>\n",
       "      <th>sales</th>\n",
       "      <th>price</th>\n",
       "      <th>day_cnt</th>\n",
       "      <th>prod_name</th>\n",
       "      <th>product_type_name</th>\n",
       "      <th>product_group_name</th>\n",
       "      <th>graphical_appearance_name</th>\n",
       "      <th>colour_group_name</th>\n",
       "      <th>perceived_colour_value_name</th>\n",
       "      <th>perceived_colour_master_name</th>\n",
       "      <th>department_name</th>\n",
       "      <th>index_name</th>\n",
       "      <th>index_group_name</th>\n",
       "      <th>section_name</th>\n",
       "      <th>garment_group_name</th>\n",
       "      <th>img_path</th>\n",
       "      <th>is_valid</th>\n",
       "      <th>time_idx</th>\n",
       "    </tr>\n",
       "  </thead>\n",
       "  <tbody>\n",
       "    <tr>\n",
       "      <th>7</th>\n",
       "      <td>0108775015</td>\n",
       "      <td>2018-09-01</td>\n",
       "      <td>1.398433</td>\n",
       "      <td>0.008026</td>\n",
       "      <td>22</td>\n",
       "      <td>Strap top</td>\n",
       "      <td>Vest top</td>\n",
       "      <td>Garment Upper body</td>\n",
       "      <td>Solid</td>\n",
       "      <td>Black</td>\n",
       "      <td>Dark</td>\n",
       "      <td>Black</td>\n",
       "      <td>Jersey Basic</td>\n",
       "      <td>Ladieswear</td>\n",
       "      <td>Ladieswear</td>\n",
       "      <td>Womens Everyday Basics</td>\n",
       "      <td>Jersey Basic</td>\n",
       "      <td>0</td>\n",
       "      <td>1</td>\n",
       "      <td>0</td>\n",
       "    </tr>\n",
       "    <tr>\n",
       "      <th>1</th>\n",
       "      <td>0108775015</td>\n",
       "      <td>2018-10-01</td>\n",
       "      <td>1.922845</td>\n",
       "      <td>0.008081</td>\n",
       "      <td>22</td>\n",
       "      <td>Strap top</td>\n",
       "      <td>Vest top</td>\n",
       "      <td>Garment Upper body</td>\n",
       "      <td>Solid</td>\n",
       "      <td>Black</td>\n",
       "      <td>Dark</td>\n",
       "      <td>Black</td>\n",
       "      <td>Jersey Basic</td>\n",
       "      <td>Ladieswear</td>\n",
       "      <td>Ladieswear</td>\n",
       "      <td>Womens Everyday Basics</td>\n",
       "      <td>Jersey Basic</td>\n",
       "      <td>0</td>\n",
       "      <td>1</td>\n",
       "      <td>1</td>\n",
       "    </tr>\n",
       "    <tr>\n",
       "      <th>0</th>\n",
       "      <td>0108775015</td>\n",
       "      <td>2018-11-01</td>\n",
       "      <td>2.000000</td>\n",
       "      <td>0.007889</td>\n",
       "      <td>22</td>\n",
       "      <td>Strap top</td>\n",
       "      <td>Vest top</td>\n",
       "      <td>Garment Upper body</td>\n",
       "      <td>Solid</td>\n",
       "      <td>Black</td>\n",
       "      <td>Dark</td>\n",
       "      <td>Black</td>\n",
       "      <td>Jersey Basic</td>\n",
       "      <td>Ladieswear</td>\n",
       "      <td>Ladieswear</td>\n",
       "      <td>Womens Everyday Basics</td>\n",
       "      <td>Jersey Basic</td>\n",
       "      <td>0</td>\n",
       "      <td>1</td>\n",
       "      <td>2</td>\n",
       "    </tr>\n",
       "  </tbody>\n",
       "</table>\n",
       "</div>"
      ],
      "text/plain": [
       "   article_id      t_dat     sales     price  day_cnt  prod_name  \\\n",
       "7  0108775015 2018-09-01  1.398433  0.008026       22  Strap top   \n",
       "1  0108775015 2018-10-01  1.922845  0.008081       22  Strap top   \n",
       "0  0108775015 2018-11-01  2.000000  0.007889       22  Strap top   \n",
       "\n",
       "  product_type_name  product_group_name graphical_appearance_name  \\\n",
       "7          Vest top  Garment Upper body                     Solid   \n",
       "1          Vest top  Garment Upper body                     Solid   \n",
       "0          Vest top  Garment Upper body                     Solid   \n",
       "\n",
       "  colour_group_name perceived_colour_value_name perceived_colour_master_name  \\\n",
       "7             Black                        Dark                        Black   \n",
       "1             Black                        Dark                        Black   \n",
       "0             Black                        Dark                        Black   \n",
       "\n",
       "  department_name  index_name index_group_name            section_name  \\\n",
       "7    Jersey Basic  Ladieswear       Ladieswear  Womens Everyday Basics   \n",
       "1    Jersey Basic  Ladieswear       Ladieswear  Womens Everyday Basics   \n",
       "0    Jersey Basic  Ladieswear       Ladieswear  Womens Everyday Basics   \n",
       "\n",
       "  garment_group_name  img_path  is_valid  time_idx  \n",
       "7       Jersey Basic         0         1         0  \n",
       "1       Jersey Basic         0         1         1  \n",
       "0       Jersey Basic         0         1         2  "
      ]
     },
     "execution_count": 5,
     "metadata": {},
     "output_type": "execute_result"
    }
   ],
   "source": [
    "df_prep = df_raw.copy()\n",
    "\n",
    "# Sampling\n",
    "samples = df_raw[\"article_id\"].unique()\n",
    "df_prep = df_prep[df_prep[\"article_id\"].isin(samples[:n_smaples])]\n",
    "print(df_prep.shape)\n",
    "\n",
    "# Expand_date\n",
    "def func(x):\n",
    "    # date_ref = pd.DataFrame(pd.date_range(x[\"t_dat\"].min(), x[\"t_dat\"].max(), freq=\"MS\"), columns=[\"t_dat\"])\n",
    "    # # date_ref = pd.DataFrame(pd.date_range(x[\"t_dat\"].min(), x[\"t_dat\"].max(), freq=\"d\"), columns=[\"t_dat\"])\n",
    "    # x = pd.merge(x, date_ref, on=\"t_dat\", how=\"right\")\n",
    "\n",
    "    # # Cope with special columns\n",
    "    # x[\"sales\"] = x[\"sales\"].fillna(0)\n",
    "    # x[\"price\"] = x[\"price\"].fillna(method=\"ffill\")\n",
    "\n",
    "    # # Cope with static columns\n",
    "    # target_cols = [i for i in x.columns if i not in [\"t_dat\", \"sales\", \"price\"]]\n",
    "    # fill_values = x[target_cols].iloc[0].values\n",
    "    # x[target_cols] = fill_values\n",
    "\n",
    "    # Scaling\n",
    "    scaler = MinMaxScaler()\n",
    "    x[\"sales\"] = scaler.fit_transform(x[[\"sales\"]]) + 1\n",
    "    return x\n",
    "\n",
    "df_prep = df_prep.groupby(\"article_id\").apply(func).reset_index(drop=True)\n",
    "df_prep = df_prep.sort_values([\"article_id\", \"t_dat\"])\n",
    "print(df_prep.shape)\n",
    "\n",
    "# Encode imgpath\n",
    "encoder = LabelEncoder()\n",
    "df_prep[\"img_path\"] = df_prep[\"article_id\"].apply(lambda x: f'../HnM/images/{x[:3]}/{x}.jpg') # Generate image path\n",
    "df_prep[\"is_valid\"] = df_prep[\"img_path\"].apply(lambda x: 1 if os.path.isfile(x) else 0) # Check whether the article has corresponding image file\n",
    "df_prep = df_prep[df_prep[\"is_valid\"] == 1] # Valid if having corresponding image\n",
    "\n",
    "df_prep[\"img_path\"] = encoder.fit_transform(df_prep[\"img_path\"])\n",
    "\n",
    "# Make time_idx\n",
    "df_prep[\"time_idx\"] = df_prep.groupby(\"article_id\").cumcount()\n",
    "print(df_prep.shape)\n",
    "df_prep.head(3)"
   ]
  },
  {
   "cell_type": "code",
   "execution_count": 6,
   "metadata": {},
   "outputs": [
    {
     "data": {
      "text/plain": [
       "['encoder.pkl']"
      ]
     },
     "execution_count": 6,
     "metadata": {},
     "output_type": "execute_result"
    }
   ],
   "source": [
    "df_prep.to_parquet(\"df_prep.parquet\")\n",
    "joblib.dump(encoder, \"encoder.pkl\")"
   ]
  },
  {
   "cell_type": "markdown",
   "metadata": {},
   "source": [
    "### Dataset"
   ]
  },
  {
   "cell_type": "code",
   "execution_count": 7,
   "metadata": {},
   "outputs": [],
   "source": [
    "df_prep = pd.read_parquet(\"df_prep.parquet\")\n",
    "encoder = joblib.load(\"encoder.pkl\")"
   ]
  },
  {
   "cell_type": "code",
   "execution_count": 8,
   "metadata": {},
   "outputs": [
    {
     "name": "stdout",
     "output_type": "stream",
     "text": [
      "18\n"
     ]
    },
    {
     "name": "stderr",
     "output_type": "stream",
     "text": [
      "/home/sh-sungho.park/anaconda3/envs/cudatest/lib/python3.8/site-packages/pytorch_forecasting/data/timeseries.py:1281: UserWarning: Min encoder length and/or min_prediction_idx and/or min prediction length and/or lags are too large for 98704 series/groups which therefore are not present in the dataset index. This means no predictions can be made for those series. First 10 removed groups: [{'__group_id__article_id': '0108775051'}, {'__group_id__article_id': '0111565003'}, {'__group_id__article_id': '0112679048'}, {'__group_id__article_id': '0112679052'}, {'__group_id__article_id': '0114428026'}, {'__group_id__article_id': '0114428030'}, {'__group_id__article_id': '0116379047'}, {'__group_id__article_id': '0118458003'}, {'__group_id__article_id': '0118458004'}, {'__group_id__article_id': '0118458028'}]\n",
      "  warnings.warn(\n"
     ]
    },
    {
     "name": "stdout",
     "output_type": "stream",
     "text": [
      "109\n",
      "43\n"
     ]
    },
    {
     "name": "stderr",
     "output_type": "stream",
     "text": [
      "/home/sh-sungho.park/anaconda3/envs/cudatest/lib/python3.8/site-packages/pytorch_forecasting/data/timeseries.py:1281: UserWarning: Min encoder length and/or min_prediction_idx and/or min prediction length and/or lags are too large for 98704 series/groups which therefore are not present in the dataset index. This means no predictions can be made for those series. First 10 removed groups: [{'__group_id__article_id': '0108775051'}, {'__group_id__article_id': '0111565003'}, {'__group_id__article_id': '0112679048'}, {'__group_id__article_id': '0112679052'}, {'__group_id__article_id': '0114428026'}, {'__group_id__article_id': '0114428030'}, {'__group_id__article_id': '0116379047'}, {'__group_id__article_id': '0118458003'}, {'__group_id__article_id': '0118458004'}, {'__group_id__article_id': '0118458028'}]\n",
      "  warnings.warn(\n"
     ]
    }
   ],
   "source": [
    "encoder_max_len = 24\n",
    "pred_len = 6\n",
    "\n",
    "cutoff = df_prep[\"time_idx\"].max() - pred_len; print(cutoff)\n",
    "\n",
    "train_dataset = pf.TimeSeriesDataSet(\n",
    "    df_prep[df_prep[\"time_idx\"] <= cutoff],\n",
    "    time_idx = \"time_idx\",\n",
    "    target = \"sales\",\n",
    "    group_ids = [\"article_id\"],\n",
    "    \n",
    "    min_encoder_length = encoder_max_len//2,\n",
    "    max_encoder_length = encoder_max_len,\n",
    "    min_prediction_length = pred_len,\n",
    "    max_prediction_length = pred_len,\n",
    "\n",
    "    time_varying_unknown_reals = [\"sales\", \"img_path\"],\n",
    "    # time_varying_unknown_reals = [\"sales\"],\n",
    "    target_normalizer = None,\n",
    "    scalers = {\"img_path\":None}\n",
    ")\n",
    "valid_dataset = pf.TimeSeriesDataSet.from_dataset(train_dataset, df_prep, predict=True, stop_randomization=True)\n",
    "\n",
    "train_dataloader = train_dataset.to_dataloader(train=True, batch_size=batch_size, shuffle=True, num_workers=16)\n",
    "valid_dataloader = valid_dataset.to_dataloader(train=False, batch_size=batch_size, num_workers=16)\n",
    "print(len(train_dataloader)); print(len(valid_dataloader))"
   ]
  },
  {
   "cell_type": "markdown",
   "metadata": {},
   "source": [
    "# Model"
   ]
  },
  {
   "cell_type": "markdown",
   "metadata": {},
   "source": [
    "### Architecture"
   ]
  },
  {
   "cell_type": "code",
   "execution_count": 9,
   "metadata": {},
   "outputs": [
    {
     "data": {
      "text/plain": [
       "''"
      ]
     },
     "execution_count": 9,
     "metadata": {},
     "output_type": "execute_result"
    }
   ],
   "source": [
    "class PositionalEncoding(torch.nn.Module):\n",
    "    def __init__(self, max_len, d_model, dropout):\n",
    "        super().__init__()\n",
    "        self.dropout = torch.nn.Dropout(dropout)\n",
    "\n",
    "        position = torch.arange(max_len).reshape(-1,1).to(device)\n",
    "        i = torch.arange(d_model).to(device)//2\n",
    "        exp_term = 2*i/d_model\n",
    "        div_term = torch.pow(10000, exp_term).reshape(1, -1)\n",
    "        self.pos_encoded = position / div_term\n",
    "\n",
    "        self.pos_encoded[:, 0::2] = torch.sin(self.pos_encoded[:, 0::2])\n",
    "        self.pos_encoded[:, 1::2] = torch.cos(self.pos_encoded[:, 1::2])\n",
    "\n",
    "    def forward(self, x):\n",
    "        output = x + self.pos_encoded[:x.shape[1], :]\n",
    "        return self.dropout(output)\n",
    "\n",
    "class Mask(torch.nn.Module):\n",
    "    def __init__(self):\n",
    "        super().__init__()\n",
    "\n",
    "    def get_padding_mask(self, arr):\n",
    "        res = torch.eq(arr, 0).type(torch.FloatTensor).to(device)\n",
    "        res = torch.where(res==1, -torch.inf, 0)\n",
    "        return res\n",
    "    \n",
    "    def get_lookahead_mask(self, arr):\n",
    "        seq_len = arr.shape[1]\n",
    "        mask = torch.triu(torch.ones((seq_len, seq_len))*-torch.inf, 1).to(device)\n",
    "        return mask\n",
    "\n",
    "    def forward(self, arr):\n",
    "        padding_mask = self.get_padding_mask(arr)\n",
    "        lookahead_mask = self.get_lookahead_mask(arr)\n",
    "        return padding_mask, lookahead_mask\n",
    "\n",
    "class Transformer(torch.nn.Module):\n",
    "    def __init__(self, d_model, max_seq_len, nhead, num_layers, d_ff=512, dropout=0.3):\n",
    "        super().__init__()\n",
    "        self.enc_mask = Mask()\n",
    "        self.enc_embedding = torch.nn.Linear(1, d_model)\n",
    "        self.elu1 = torch.nn.ELU()\n",
    "        self.enc_pos_encoding = PositionalEncoding(max_seq_len, d_model, dropout)\n",
    "        self.encoder = torch.nn.TransformerEncoder(torch.nn.TransformerEncoderLayer(d_model, nhead, d_ff, dropout, batch_first=True), num_layers)\n",
    "\n",
    "        self.dec_mask = Mask()\n",
    "        self.swin_transformer = SwinModel.from_pretrained(\"microsoft/swin-tiny-patch4-window7-224\") # Get pre-trained SwinTransformer\n",
    "        self.elu2 = torch.nn.ELU()\n",
    "        self.dec_embedding = torch.nn.Linear(self.swin_transformer.config.hidden_size, d_model)\n",
    "        self.elu3 = torch.nn.ELU()\n",
    "        self.dec_pos_encoding = PositionalEncoding(max_seq_len, d_model, dropout)\n",
    "        self.decoder = torch.nn.TransformerDecoder(torch.nn.TransformerDecoderLayer(d_model, nhead, d_ff, dropout, batch_first=True), num_layers)\n",
    "        \n",
    "        self.flatten = torch.nn.Flatten()\n",
    "        self.linear1 = torch.nn.Linear(d_model*49, d_model)\n",
    "        self.elu4 = torch.nn.ELU()\n",
    "        self.linear2 = torch.nn.Linear(d_model, pred_len)\n",
    "        self.elu5 = torch.nn.ELU()\n",
    "        \n",
    "    def forward(self, enc_input, img):\n",
    "        enc_padding_mask, _ = self.enc_mask(enc_input.squeeze())\n",
    "        enc_output = self.elu1(self.enc_embedding(enc_input))\n",
    "        enc_output = self.enc_pos_encoding(enc_output)\n",
    "        \n",
    "        enc_output = self.encoder(enc_output, src_key_padding_mask=enc_padding_mask)\n",
    "\n",
    "        # dec_padding_mask, dec_lookahead_mask = self.dec_mask(dec_input.squeeze())\n",
    "        dec_swin = self.elu2(self.swin_transformer(img).last_hidden_state)\n",
    "        dec_output = self.elu3(self.dec_embedding(dec_swin))\n",
    "        # dec_output = self.dec_pos_encoding(dec_output)\n",
    "\n",
    "        dec_output = self.decoder(tgt=dec_output, memory=enc_output)\n",
    "\n",
    "        output = self.elu4(self.linear1(self.flatten(dec_output)))\n",
    "        output = self.linear2(output)\n",
    "\n",
    "        return output\n",
    "\n",
    "device = torch.device(\"cuda\")\n",
    "model = Transformer(d_model, encoder_max_len, nhead, num_layers, d_ff, dropout)\n",
    "model.to(device)\n",
    "\"\""
   ]
  },
  {
   "cell_type": "markdown",
   "metadata": {},
   "source": [
    "### Train"
   ]
  },
  {
   "cell_type": "code",
   "execution_count": 10,
   "metadata": {},
   "outputs": [],
   "source": [
    "transform = transforms.Compose([\n",
    "    transforms.Resize((224,224)),\n",
    "    transforms.ToTensor(),\n",
    "    transforms.Normalize(mean=[0.485, 0.456, 0.406], std=[0.229, 0.224, 0.225])\n",
    "]) # Transform image based on ImageNet standard"
   ]
  },
  {
   "cell_type": "code",
   "execution_count": 11,
   "metadata": {},
   "outputs": [
    {
     "data": {
      "image/png": "[encoded data removed]",
      "text/plain": [
       "<Figure size 1500x500 with 2 Axes>"
      ]
     },
     "metadata": {},
     "output_type": "display_data"
    },
    {
     "name": "stdout",
     "output_type": "stream",
     "text": [
      " 1:55/109 mean_train_loss: 0.053744455599891286 -- mean_val_loss: 0.046207208186388016"
     ]
    },
    {
     "ename": "KeyboardInterrupt",
     "evalue": "",
     "output_type": "error",
     "traceback": [
      "\u001b[0;31m---------------------------------------------------------------------------\u001b[0m",
      "\u001b[0;31mKeyboardInterrupt\u001b[0m                         Traceback (most recent call last)",
      "\u001b[1;32m/home/sh-sungho.park/Test/Paper/Implementation/implementation_v2.ipynb Cell 21\u001b[0m line \u001b[0;36m1\n\u001b[1;32m    <a href='vscode-notebook-cell://ssh-remote%2Bgpu.isdow.com/home/sh-sungho.park/Test/Paper/Implementation/implementation_v2.ipynb#Y335sdnNjb2RlLXJlbW90ZQ%3D%3D?line=100'>101</a>\u001b[0m val_loss \u001b[39m=\u001b[39m \u001b[39m0\u001b[39m\n\u001b[1;32m    <a href='vscode-notebook-cell://ssh-remote%2Bgpu.isdow.com/home/sh-sungho.park/Test/Paper/Implementation/implementation_v2.ipynb#Y335sdnNjb2RlLXJlbW90ZQ%3D%3D?line=102'>103</a>\u001b[0m \u001b[39mfor\u001b[39;00m e \u001b[39min\u001b[39;00m \u001b[39mrange\u001b[39m(epoch):\n\u001b[0;32m--> <a href='vscode-notebook-cell://ssh-remote%2Bgpu.isdow.com/home/sh-sungho.park/Test/Paper/Implementation/implementation_v2.ipynb#Y335sdnNjb2RlLXJlbW90ZQ%3D%3D?line=103'>104</a>\u001b[0m     train_loss \u001b[39m=\u001b[39m train(e, val_loss, train_loss_li, val_loss_li) \u001b[39m# Train\u001b[39;00m\n\u001b[1;32m    <a href='vscode-notebook-cell://ssh-remote%2Bgpu.isdow.com/home/sh-sungho.park/Test/Paper/Implementation/implementation_v2.ipynb#Y335sdnNjb2RlLXJlbW90ZQ%3D%3D?line=104'>105</a>\u001b[0m     val_loss \u001b[39m=\u001b[39m val(e)\n\u001b[1;32m    <a href='vscode-notebook-cell://ssh-remote%2Bgpu.isdow.com/home/sh-sungho.park/Test/Paper/Implementation/implementation_v2.ipynb#Y335sdnNjb2RlLXJlbW90ZQ%3D%3D?line=106'>107</a>\u001b[0m     train_loss_li\u001b[39m.\u001b[39mappend(train_loss)\n",
      "\u001b[1;32m/home/sh-sungho.park/Test/Paper/Implementation/implementation_v2.ipynb Cell 21\u001b[0m line \u001b[0;36m4\n\u001b[1;32m     <a href='vscode-notebook-cell://ssh-remote%2Bgpu.isdow.com/home/sh-sungho.park/Test/Paper/Implementation/implementation_v2.ipynb#Y335sdnNjb2RlLXJlbW90ZQ%3D%3D?line=44'>45</a>\u001b[0m x, y \u001b[39m=\u001b[39m data\n\u001b[1;32m     <a href='vscode-notebook-cell://ssh-remote%2Bgpu.isdow.com/home/sh-sungho.park/Test/Paper/Implementation/implementation_v2.ipynb#Y335sdnNjb2RlLXJlbW90ZQ%3D%3D?line=45'>46</a>\u001b[0m sales \u001b[39m=\u001b[39m x[\u001b[39m\"\u001b[39m\u001b[39mencoder_cont\u001b[39m\u001b[39m\"\u001b[39m][:, :, \u001b[39m1\u001b[39m]\u001b[39m.\u001b[39munsqueeze(\u001b[39m-\u001b[39m\u001b[39m1\u001b[39m)\n\u001b[0;32m---> <a href='vscode-notebook-cell://ssh-remote%2Bgpu.isdow.com/home/sh-sungho.park/Test/Paper/Implementation/implementation_v2.ipynb#Y335sdnNjb2RlLXJlbW90ZQ%3D%3D?line=46'>47</a>\u001b[0m img \u001b[39m=\u001b[39m img_transform(x[\u001b[39m\"\u001b[39;49m\u001b[39mencoder_cont\u001b[39;49m\u001b[39m\"\u001b[39;49m][:, :, \u001b[39m2\u001b[39;49m][:, \u001b[39m0\u001b[39;49m])\n\u001b[1;32m     <a href='vscode-notebook-cell://ssh-remote%2Bgpu.isdow.com/home/sh-sungho.park/Test/Paper/Implementation/implementation_v2.ipynb#Y335sdnNjb2RlLXJlbW90ZQ%3D%3D?line=47'>48</a>\u001b[0m y \u001b[39m=\u001b[39m y[\u001b[39m0\u001b[39m]\n\u001b[1;32m     <a href='vscode-notebook-cell://ssh-remote%2Bgpu.isdow.com/home/sh-sungho.park/Test/Paper/Implementation/implementation_v2.ipynb#Y335sdnNjb2RlLXJlbW90ZQ%3D%3D?line=49'>50</a>\u001b[0m \u001b[39m# Train\u001b[39;00m\n",
      "\u001b[1;32m/home/sh-sungho.park/Test/Paper/Implementation/implementation_v2.ipynb Cell 21\u001b[0m line \u001b[0;36m3\n\u001b[1;32m     <a href='vscode-notebook-cell://ssh-remote%2Bgpu.isdow.com/home/sh-sungho.park/Test/Paper/Implementation/implementation_v2.ipynb#Y335sdnNjb2RlLXJlbW90ZQ%3D%3D?line=33'>34</a>\u001b[0m img_li \u001b[39m=\u001b[39m []\n\u001b[1;32m     <a href='vscode-notebook-cell://ssh-remote%2Bgpu.isdow.com/home/sh-sungho.park/Test/Paper/Implementation/implementation_v2.ipynb#Y335sdnNjb2RlLXJlbW90ZQ%3D%3D?line=34'>35</a>\u001b[0m \u001b[39mfor\u001b[39;00m path \u001b[39min\u001b[39;00m img_path:\n\u001b[0;32m---> <a href='vscode-notebook-cell://ssh-remote%2Bgpu.isdow.com/home/sh-sungho.park/Test/Paper/Implementation/implementation_v2.ipynb#Y335sdnNjb2RlLXJlbW90ZQ%3D%3D?line=35'>36</a>\u001b[0m     img \u001b[39m=\u001b[39m transform(Image\u001b[39m.\u001b[39;49mopen(path)\u001b[39m.\u001b[39;49mconvert(\u001b[39m\"\u001b[39;49m\u001b[39mRGB\u001b[39;49m\u001b[39m\"\u001b[39;49m))\n\u001b[1;32m     <a href='vscode-notebook-cell://ssh-remote%2Bgpu.isdow.com/home/sh-sungho.park/Test/Paper/Implementation/implementation_v2.ipynb#Y335sdnNjb2RlLXJlbW90ZQ%3D%3D?line=36'>37</a>\u001b[0m     img_li\u001b[39m.\u001b[39mappend(img)\n\u001b[1;32m     <a href='vscode-notebook-cell://ssh-remote%2Bgpu.isdow.com/home/sh-sungho.park/Test/Paper/Implementation/implementation_v2.ipynb#Y335sdnNjb2RlLXJlbW90ZQ%3D%3D?line=37'>38</a>\u001b[0m \u001b[39mreturn\u001b[39;00m torch\u001b[39m.\u001b[39mstack(img_li, dim\u001b[39m=\u001b[39m\u001b[39m0\u001b[39m)\n",
      "File \u001b[0;32m~/anaconda3/envs/cudatest/lib/python3.8/site-packages/torchvision/transforms/transforms.py:95\u001b[0m, in \u001b[0;36mCompose.__call__\u001b[0;34m(self, img)\u001b[0m\n\u001b[1;32m     93\u001b[0m \u001b[39mdef\u001b[39;00m \u001b[39m__call__\u001b[39m(\u001b[39mself\u001b[39m, img):\n\u001b[1;32m     94\u001b[0m     \u001b[39mfor\u001b[39;00m t \u001b[39min\u001b[39;00m \u001b[39mself\u001b[39m\u001b[39m.\u001b[39mtransforms:\n\u001b[0;32m---> 95\u001b[0m         img \u001b[39m=\u001b[39m t(img)\n\u001b[1;32m     96\u001b[0m     \u001b[39mreturn\u001b[39;00m img\n",
      "File \u001b[0;32m~/anaconda3/envs/cudatest/lib/python3.8/site-packages/torch/nn/modules/module.py:1501\u001b[0m, in \u001b[0;36mModule._call_impl\u001b[0;34m(self, *args, **kwargs)\u001b[0m\n\u001b[1;32m   1496\u001b[0m \u001b[39m# If we don't have any hooks, we want to skip the rest of the logic in\u001b[39;00m\n\u001b[1;32m   1497\u001b[0m \u001b[39m# this function, and just call forward.\u001b[39;00m\n\u001b[1;32m   1498\u001b[0m \u001b[39mif\u001b[39;00m \u001b[39mnot\u001b[39;00m (\u001b[39mself\u001b[39m\u001b[39m.\u001b[39m_backward_hooks \u001b[39mor\u001b[39;00m \u001b[39mself\u001b[39m\u001b[39m.\u001b[39m_backward_pre_hooks \u001b[39mor\u001b[39;00m \u001b[39mself\u001b[39m\u001b[39m.\u001b[39m_forward_hooks \u001b[39mor\u001b[39;00m \u001b[39mself\u001b[39m\u001b[39m.\u001b[39m_forward_pre_hooks\n\u001b[1;32m   1499\u001b[0m         \u001b[39mor\u001b[39;00m _global_backward_pre_hooks \u001b[39mor\u001b[39;00m _global_backward_hooks\n\u001b[1;32m   1500\u001b[0m         \u001b[39mor\u001b[39;00m _global_forward_hooks \u001b[39mor\u001b[39;00m _global_forward_pre_hooks):\n\u001b[0;32m-> 1501\u001b[0m     \u001b[39mreturn\u001b[39;00m forward_call(\u001b[39m*\u001b[39;49margs, \u001b[39m*\u001b[39;49m\u001b[39m*\u001b[39;49mkwargs)\n\u001b[1;32m   1502\u001b[0m \u001b[39m# Do not call functions when jit is used\u001b[39;00m\n\u001b[1;32m   1503\u001b[0m full_backward_hooks, non_full_backward_hooks \u001b[39m=\u001b[39m [], []\n",
      "File \u001b[0;32m~/anaconda3/envs/cudatest/lib/python3.8/site-packages/torchvision/transforms/transforms.py:361\u001b[0m, in \u001b[0;36mResize.forward\u001b[0;34m(self, img)\u001b[0m\n\u001b[1;32m    353\u001b[0m \u001b[39mdef\u001b[39;00m \u001b[39mforward\u001b[39m(\u001b[39mself\u001b[39m, img):\n\u001b[1;32m    354\u001b[0m \u001b[39m    \u001b[39m\u001b[39m\"\"\"\u001b[39;00m\n\u001b[1;32m    355\u001b[0m \u001b[39m    Args:\u001b[39;00m\n\u001b[1;32m    356\u001b[0m \u001b[39m        img (PIL Image or Tensor): Image to be scaled.\u001b[39;00m\n\u001b[0;32m   (...)\u001b[0m\n\u001b[1;32m    359\u001b[0m \u001b[39m        PIL Image or Tensor: Rescaled image.\u001b[39;00m\n\u001b[1;32m    360\u001b[0m \u001b[39m    \"\"\"\u001b[39;00m\n\u001b[0;32m--> 361\u001b[0m     \u001b[39mreturn\u001b[39;00m F\u001b[39m.\u001b[39;49mresize(img, \u001b[39mself\u001b[39;49m\u001b[39m.\u001b[39;49msize, \u001b[39mself\u001b[39;49m\u001b[39m.\u001b[39;49minterpolation, \u001b[39mself\u001b[39;49m\u001b[39m.\u001b[39;49mmax_size, \u001b[39mself\u001b[39;49m\u001b[39m.\u001b[39;49mantialias)\n",
      "File \u001b[0;32m~/anaconda3/envs/cudatest/lib/python3.8/site-packages/torchvision/transforms/functional.py:490\u001b[0m, in \u001b[0;36mresize\u001b[0;34m(img, size, interpolation, max_size, antialias)\u001b[0m\n\u001b[1;32m    488\u001b[0m         warnings\u001b[39m.\u001b[39mwarn(\u001b[39m\"\u001b[39m\u001b[39mAnti-alias option is always applied for PIL Image input. Argument antialias is ignored.\u001b[39m\u001b[39m\"\u001b[39m)\n\u001b[1;32m    489\u001b[0m     pil_interpolation \u001b[39m=\u001b[39m pil_modes_mapping[interpolation]\n\u001b[0;32m--> 490\u001b[0m     \u001b[39mreturn\u001b[39;00m F_pil\u001b[39m.\u001b[39;49mresize(img, size\u001b[39m=\u001b[39;49moutput_size, interpolation\u001b[39m=\u001b[39;49mpil_interpolation)\n\u001b[1;32m    492\u001b[0m \u001b[39mreturn\u001b[39;00m F_t\u001b[39m.\u001b[39mresize(img, size\u001b[39m=\u001b[39moutput_size, interpolation\u001b[39m=\u001b[39minterpolation\u001b[39m.\u001b[39mvalue, antialias\u001b[39m=\u001b[39mantialias)\n",
      "File \u001b[0;32m~/anaconda3/envs/cudatest/lib/python3.8/site-packages/torchvision/transforms/_functional_pil.py:250\u001b[0m, in \u001b[0;36mresize\u001b[0;34m(img, size, interpolation)\u001b[0m\n\u001b[1;32m    247\u001b[0m \u001b[39mif\u001b[39;00m \u001b[39mnot\u001b[39;00m (\u001b[39misinstance\u001b[39m(size, \u001b[39mlist\u001b[39m) \u001b[39mand\u001b[39;00m \u001b[39mlen\u001b[39m(size) \u001b[39m==\u001b[39m \u001b[39m2\u001b[39m):\n\u001b[1;32m    248\u001b[0m     \u001b[39mraise\u001b[39;00m \u001b[39mTypeError\u001b[39;00m(\u001b[39mf\u001b[39m\u001b[39m\"\u001b[39m\u001b[39mGot inappropriate size arg: \u001b[39m\u001b[39m{\u001b[39;00msize\u001b[39m}\u001b[39;00m\u001b[39m\"\u001b[39m)\n\u001b[0;32m--> 250\u001b[0m \u001b[39mreturn\u001b[39;00m img\u001b[39m.\u001b[39;49mresize(\u001b[39mtuple\u001b[39;49m(size[::\u001b[39m-\u001b[39;49m\u001b[39m1\u001b[39;49m]), interpolation)\n",
      "File \u001b[0;32m~/anaconda3/envs/cudatest/lib/python3.8/site-packages/PIL/Image.py:2174\u001b[0m, in \u001b[0;36mImage.resize\u001b[0;34m(self, size, resample, box, reducing_gap)\u001b[0m\n\u001b[1;32m   2166\u001b[0m             \u001b[39mself\u001b[39m \u001b[39m=\u001b[39m Image\u001b[39m.\u001b[39mreduce(\u001b[39mself\u001b[39m, factor, box\u001b[39m=\u001b[39mreduce_box)\n\u001b[1;32m   2167\u001b[0m         box \u001b[39m=\u001b[39m (\n\u001b[1;32m   2168\u001b[0m             (box[\u001b[39m0\u001b[39m] \u001b[39m-\u001b[39m reduce_box[\u001b[39m0\u001b[39m]) \u001b[39m/\u001b[39m factor_x,\n\u001b[1;32m   2169\u001b[0m             (box[\u001b[39m1\u001b[39m] \u001b[39m-\u001b[39m reduce_box[\u001b[39m1\u001b[39m]) \u001b[39m/\u001b[39m factor_y,\n\u001b[1;32m   2170\u001b[0m             (box[\u001b[39m2\u001b[39m] \u001b[39m-\u001b[39m reduce_box[\u001b[39m0\u001b[39m]) \u001b[39m/\u001b[39m factor_x,\n\u001b[1;32m   2171\u001b[0m             (box[\u001b[39m3\u001b[39m] \u001b[39m-\u001b[39m reduce_box[\u001b[39m1\u001b[39m]) \u001b[39m/\u001b[39m factor_y,\n\u001b[1;32m   2172\u001b[0m         )\n\u001b[0;32m-> 2174\u001b[0m \u001b[39mreturn\u001b[39;00m \u001b[39mself\u001b[39m\u001b[39m.\u001b[39m_new(\u001b[39mself\u001b[39;49m\u001b[39m.\u001b[39;49mim\u001b[39m.\u001b[39;49mresize(size, resample, box))\n",
      "\u001b[0;31mKeyboardInterrupt\u001b[0m: "
     ]
    },
    {
     "ename": "",
     "evalue": "",
     "output_type": "error",
     "traceback": [
      "\u001b[1;31mThe Kernel crashed while executing code in the the current cell or a previous cell. Please review the code in the cell(s) to identify a possible cause of the failure. Click <a href='https://aka.ms/vscodeJupyterKernelCrash'>here</a> for more info. View Jupyter <a href='command:jupyter.viewOutput'>log</a> for further details."
     ]
    }
   ],
   "source": [
    "optimizer = torch.optim.Adam(model.parameters(), lr=0.001)\n",
    "# loss_fn = pf.metrics.quantile.QuantileLoss()\n",
    "loss_fn = torch.nn.MSELoss()\n",
    "# temp = None\n",
    "# def loss_fn(pred, y):\n",
    "#     mask = y.greater(0).type(torch.float)\n",
    "#     pred *= mask\n",
    "\n",
    "#     fn = torch.nn.MSELoss()\n",
    "#     return fn(pred, y)\n",
    "\n",
    "def plot_sample(y, pred):\n",
    "    # Plot sample\n",
    "    clear_output(wait=True)\n",
    "    y_sample = y[-1]\n",
    "    pred_sample = pred[-1].detach().cpu()\n",
    "    \n",
    "    plt.figure(figsize=(15,5))\n",
    "    plt.subplot(1,2,1)\n",
    "    plt.plot(train_loss_li, label=\"train\")\n",
    "    plt.plot(val_loss_li, label=\"valid\")\n",
    "    plt.title(\"Loss\")\n",
    "    plt.legend()\n",
    "\n",
    "    plt.subplot(1,2,2)\n",
    "    plt.plot(y_sample, label=\"y\")\n",
    "    plt.plot(pred_sample, label=\"pred\")\n",
    "    plt.title(\"Sample\")\n",
    "    plt.legend()\n",
    "    plt.show()\n",
    "\n",
    "def img_transform(img_path):\n",
    "    img_path = encoder.inverse_transform(img_path.type(torch.int))\n",
    "    img_li = []\n",
    "    for path in img_path:\n",
    "        img = transform(Image.open(path).convert(\"RGB\"))\n",
    "        img_li.append(img)\n",
    "    return torch.stack(img_li, dim=0)\n",
    "\n",
    "def train(epoch, val_loss, train_loss_li, val_loss_li):\n",
    "    model.train()\n",
    "    total_len = len(train_dataloader)\n",
    "    total_loss = 0\n",
    "    for n, data in enumerate(train_dataloader):\n",
    "        x, y = data\n",
    "        sales = x[\"encoder_cont\"][:, :, 1].unsqueeze(-1)\n",
    "        img = img_transform(x[\"encoder_cont\"][:, :, 2][:, 0])\n",
    "        y = y[0]\n",
    "        \n",
    "        # Train\n",
    "        optimizer.zero_grad()\n",
    "        pred = model(sales.to(device), img.to(device)).squeeze()\n",
    "\n",
    "        # plot sample\n",
    "        if n % 10 == 0: plot_sample(y, pred)\n",
    "        loss = loss_fn(pred, y.to(device))\n",
    "        loss.backward()\n",
    "        optimizer.step()\n",
    "\n",
    "        # Report\n",
    "        total_loss += loss.item()\n",
    "        mean_loss = total_loss / (n+1)\n",
    "        print(f\"\\r {epoch}:{n}/{total_len} mean_train_loss: {mean_loss} -- mean_val_loss: {val_loss}\", end=\"\")\n",
    "\n",
    "    print()\n",
    "    return mean_loss\n",
    "\n",
    "def val(epoch):\n",
    "    model.eval()\n",
    "    total_len = len(valid_dataloader)\n",
    "    total_loss = 0\n",
    "    for n, data in enumerate(valid_dataloader):\n",
    "        x, y = data\n",
    "        sales = x[\"encoder_cont\"][:, :, 1].unsqueeze(-1)\n",
    "        img = img_transform(x[\"encoder_cont\"][:, :, 2][:, 0])\n",
    "        y = y[0]\n",
    "        \n",
    "        # Pred\n",
    "        with torch.no_grad():\n",
    "            pred = model(sales.to(device), img.to(device)).squeeze()\n",
    "            loss = loss_fn(pred, y.to(device))\n",
    "\n",
    "            # Report\n",
    "            total_loss += loss.item()\n",
    "            mean_loss = total_loss / (n+1)\n",
    "            print(f\"\\r {epoch}:{n}/{total_len} mean_val_loss: {mean_loss}\", end=\"\")\n",
    "\n",
    "    print()\n",
    "    return mean_loss\n",
    " \n",
    "def plot_loss(train_loss_li, val_loss_li):\n",
    "    # Plot loss\n",
    "    clear_output(wait=True)\n",
    "    plt.plot(train_loss_li, label=\"train\")\n",
    "    plt.plot(val_loss_li, label=\"valid\")\n",
    "    plt.legend()\n",
    "    plt.show()   \n",
    "\n",
    "epoch = 15\n",
    "train_loss_li, val_loss_li = [0], [0]\n",
    "val_loss = 0\n",
    "\n",
    "for e in range(epoch):\n",
    "    train_loss = train(e, val_loss, train_loss_li, val_loss_li) # Train\n",
    "    val_loss = val(e)\n",
    "\n",
    "    train_loss_li.append(train_loss)\n",
    "    val_loss_li.append(val_loss)\n",
    "    # plot_loss(train_loss_li, val_loss_li)"
   ]
  },
  {
   "cell_type": "code",
   "execution_count": null,
   "metadata": {},
   "outputs": [],
   "source": []
  }
 ],
 "metadata": {
  "kernelspec": {
   "display_name": "cudatest",
   "language": "python",
   "name": "python3"
  },
  "language_info": {
   "codemirror_mode": {
    "name": "ipython",
    "version": 3
   },
   "file_extension": ".py",
   "mimetype": "text/x-python",
   "name": "python",
   "nbconvert_exporter": "python",
   "pygments_lexer": "ipython3",
   "version": "3.8.17"
  }
 },
 "nbformat": 4,
 "nbformat_minor": 2
}
