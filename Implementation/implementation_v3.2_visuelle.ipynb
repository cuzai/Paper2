{
 "cells": [
  {
   "cell_type": "code",
   "execution_count": 1,
   "metadata": {},
   "outputs": [],
   "source": [
    "_ = \"\"\"\n",
    "Desciption\n",
    "- Visuelle products\n",
    "- Not use of pytorch_forecasting\n",
    "- year, month, day, dayofweek as positional embedding feature\n",
    "- Extract attention from MY transformer but not from image model's\n",
    "\"\"\""
   ]
  },
  {
   "cell_type": "markdown",
   "metadata": {},
   "source": [
    "# Configurations"
   ]
  },
  {
   "cell_type": "markdown",
   "metadata": {},
   "source": [
    "### Import"
   ]
  },
  {
   "cell_type": "code",
   "execution_count": 1,
   "metadata": {},
   "outputs": [
    {
     "name": "stderr",
     "output_type": "stream",
     "text": [
      "/home/sh-sungho.park/anaconda3/envs/cudatest/lib/python3.8/site-packages/tslearn/bases/bases.py:15: UserWarning: h5py not installed, hdf5 features will not be supported.\n",
      "Install h5py to use hdf5 features: http://docs.h5py.org/\n",
      "  warn(h5py_msg)\n",
      "/home/sh-sungho.park/anaconda3/envs/cudatest/lib/python3.8/site-packages/tqdm/auto.py:21: TqdmWarning: IProgress not found. Please update jupyter and ipywidgets. See https://ipywidgets.readthedocs.io/en/stable/user_install.html\n",
      "  from .autonotebook import tqdm as notebook_tqdm\n"
     ]
    }
   ],
   "source": [
    "import os\n",
    "import joblib\n",
    "import random\n",
    "from IPython.display import clear_output\n",
    "\n",
    "import numpy as np\n",
    "import pandas as pd; pd.set_option(\"display.max_columns\", None)\n",
    "import matplotlib.pyplot as plt\n",
    "\n",
    "from sklearn.preprocessing import LabelEncoder, MinMaxScaler\n",
    "from tslearn.utils import to_time_series_dataset\n",
    "\n",
    "import torch\n",
    "from PIL import Image\n",
    "from torchvision import transforms\n",
    "from transformers import SwinModel, SwinConfig, ViTModel, ViTConfig, Mask2FormerModel, Mask2FormerConfig\n",
    "import matplotlib.cm as cm\n",
    "import cv2\n",
    "\n",
    "device = torch.device(\"cuda\")"
   ]
  },
  {
   "cell_type": "markdown",
   "metadata": {},
   "source": [
    "### Params"
   ]
  },
  {
   "cell_type": "code",
   "execution_count": 2,
   "metadata": {},
   "outputs": [
    {
     "data": {
      "text/plain": [
       "<torch._C.Generator at 0x7f9f6932e110>"
      ]
     },
     "execution_count": 2,
     "metadata": {},
     "output_type": "execute_result"
    }
   ],
   "source": [
    "# Sampling parameter\n",
    "n_smaples = None\n",
    "\n",
    "# Data parameter\n",
    "random_state = 0\n",
    "pred_len = 3\n",
    "batch_size = 64\n",
    "valid_start_idx = 12\n",
    "\n",
    "# Model hyperparameter\n",
    "d_model = 128; d_model = 256; d_model = 512\n",
    "nhead = 4; nhead = 8\n",
    "d_ff = 256; d_ff = 512; d_ff = 1024\n",
    "dropout = 0.3\n",
    "num_layers = 4; num_layers = 6\n",
    "\n",
    "# Seed set\n",
    "random.seed(random_state)\n",
    "np.random.seed(random_state)\n",
    "torch.manual_seed(random_state)"
   ]
  },
  {
   "cell_type": "markdown",
   "metadata": {},
   "source": [
    "# Data"
   ]
  },
  {
   "cell_type": "markdown",
   "metadata": {},
   "source": [
    "### Read"
   ]
  },
  {
   "cell_type": "code",
   "execution_count": 3,
   "metadata": {},
   "outputs": [],
   "source": [
    "# Read transaction\n",
    "df_raw1 = pd.read_csv(\"../visuelle/train.csv\", parse_dates=[\"release_date\"])\n",
    "df_raw2 = pd.read_csv(\"../visuelle/test.csv\", parse_dates=[\"release_date\"])\n",
    "df_raw_ = pd.concat([df_raw1, df_raw2]).reset_index(drop=True)\n",
    "\n",
    "# Melt date\n",
    "df_raw = df_raw_.melt(\n",
    "                id_vars=[\"image_path\", \"season\", \"category\", \"release_date\", \"color\", \"fabric\", \"extra\"], \n",
    "                value_vars=[str(i) for i in range(12)], value_name=\"sales\", \n",
    "                var_name=\"time_idx\"\n",
    "                )\n",
    "df_raw[\"time_idx\"] = df_raw[\"time_idx\"].astype(int)\n",
    "df_raw[\"sales\"] = df_raw[\"sales\"].apply(lambda x: x if x>0 else 0)\n",
    "assert df_raw_.shape[0]*12 == df_raw.shape[0]\n",
    "\n",
    "# Add date\n",
    "def func(x):\n",
    "    release_date = x[\"release_date\"].iloc[0]\n",
    "    date = pd.date_range(release_date, release_date+pd.DateOffset(months=12), freq=\"M\")[:12]\n",
    "    x[\"date\"] = date\n",
    "    return x\n",
    "df_raw = df_raw.groupby([\"image_path\"], as_index=False).apply(lambda x: func(x)).reset_index(drop=True)\n",
    "\n",
    "# Unscale\n",
    "df_raw[\"sales\"] = df_raw[\"sales\"] * np.load(\"../visuelle/normalization_scale.npy\")\n",
    "df_raw[\"sales\"] = df_raw[\"sales\"].astype(int).apply(lambda x: x if x>0 else 1e-5)\n",
    "\n",
    "df_train_raw = df_raw[df_raw[\"time_idx\"] < valid_start_idx]\n",
    "df_valid_raw = df_raw[df_raw[\"time_idx\"] >= valid_start_idx]"
   ]
  },
  {
   "cell_type": "markdown",
   "metadata": {},
   "source": [
    "### Preprocess"
   ]
  },
  {
   "cell_type": "code",
   "execution_count": 4,
   "metadata": {},
   "outputs": [],
   "source": [
    "def preprocess(data):\n",
    "    data = data.copy()\n",
    "\n",
    "    # Make date positions\n",
    "    data[\"year\"] = data[\"date\"].dt.year\n",
    "    data[\"month\"] = data[\"date\"].dt.month - 1\n",
    "    \n",
    "    # Aggregate with list\n",
    "    data = data.groupby([\"image_path\", \"season\", \"category\", \"release_date\", \"color\", \"fabric\", \"extra\"], as_index=False)[[\"sales\", \"year\", \"month\"]].agg(lambda x: list(x))\n",
    "    data[\"size\"] = data[\"sales\"].str.len()\n",
    "\n",
    "    # Sampling\n",
    "    if n_smaples:\n",
    "        samples = data[\"image_path\"].unique()\n",
    "        data = data[data[\"image_path\"].isin(samples[:n_smaples])]\n",
    "        print(f\"{min(n_smaples, data['image_path'].nunique())} sampled: {data.shape}\")\n",
    "\n",
    "    # Obtain imgpath\n",
    "    data[\"img_path\"] = data[\"image_path\"].apply(lambda x: f'../visuelle/images/{x}') # Generate image path\n",
    "    data[\"is_valid\"] = data[\"img_path\"].apply(lambda x: 1 if os.path.isfile(x) else 0) # Check whether the article has corresponding image file\n",
    "    data = data[data[\"is_valid\"] == 1].drop(\"is_valid\", axis=1) # Valid if having corresponding image\n",
    "    print(f\"Valid imaged:\", data.shape)\n",
    "\n",
    "    # Deal categorical values\n",
    "    for col in [\"season\", \"category\", \"extra\", \"size\"]:\n",
    "        encoder = LabelEncoder()\n",
    "        data[col] = encoder.fit_transform(data[col])\n",
    "\n",
    "    return data"
   ]
  },
  {
   "cell_type": "code",
   "execution_count": 5,
   "metadata": {},
   "outputs": [
    {
     "name": "stdout",
     "output_type": "stream",
     "text": [
      "Valid imaged: (5577, 12)\n",
      "____________________________________________________________________________________________________\n"
     ]
    }
   ],
   "source": [
    "df_train_prep = preprocess(df_train_raw); print(\"_\"*100)\n",
    "# df_valid_prep = preprocess(df_valid_raw)\n",
    "\n",
    "# Save\n",
    "df_train_prep.to_parquet(\"df_train_prep.parquet\")\n",
    "# df_valid_prep.to_parquet(\"df_valid_prep.parquet\")"
   ]
  },
  {
   "cell_type": "markdown",
   "metadata": {},
   "source": [
    "### Dataset"
   ]
  },
  {
   "cell_type": "code",
   "execution_count": 6,
   "metadata": {},
   "outputs": [],
   "source": [
    "df_train_prep = pd.read_parquet(\"df_train_prep.parquet\")\n",
    "# df_valid_prep = pd.read_parquet(\"df_valid_prep.parquet\")"
   ]
  },
  {
   "cell_type": "code",
   "execution_count": 7,
   "metadata": {},
   "outputs": [
    {
     "name": "stdout",
     "output_type": "stream",
     "text": [
      "sales.shape: torch.Size([64, 9, 1])\n",
      "img_tensor.shape: torch.Size([64, 3, 224, 224])\n",
      "season.shape: torch.Size([64])\n",
      "category.shape: torch.Size([64])\n",
      "extra.shape: torch.Size([64])\n",
      "year.shape: torch.Size([64, 9, 1])\n",
      "month.shape: torch.Size([64, 9])\n",
      "y.shape: torch.Size([64, 3])\n"
     ]
    }
   ],
   "source": [
    "class Dataset(torch.utils.data.Dataset):\n",
    "    def __init__(self, data):\n",
    "        super().__init__()\n",
    "\n",
    "        # Image transformation\n",
    "        self.transform = transforms.Compose([\n",
    "            transforms.Resize((224,224)),\n",
    "            transforms.ToTensor(),\n",
    "            transforms.Normalize(mean=[0.485, 0.456, 0.406], std=[0.229, 0.224, 0.225])\n",
    "        ])\n",
    "\n",
    "        # Sequential features\n",
    "        self.sales = data[\"sales\"].values\n",
    "        \n",
    "        # Static features\n",
    "        self.img = data[\"img_path\"].values\n",
    "        self.season = data[\"season\"].values\n",
    "        self.category = data[\"category\"].values\n",
    "        self.extra = data[\"extra\"].values\n",
    "        \n",
    "        # Position features\n",
    "        self.year = data[\"year\"].values\n",
    "        self.month = data[\"month\"].values\n",
    "    \n",
    "    def __getitem__(self, idx):\n",
    "        sales_raw = self.sales[idx]\n",
    "\n",
    "        # Process sequential features\n",
    "        sales = sales_raw[:-pred_len] # Slice desired length from the full sequence\n",
    "        valid_idx = np.where(sales>0) # Encoder input does not accept zero values. (Zeros are only for paddings)\n",
    "        sales = np.log1p(sales[valid_idx]) # Scaling\n",
    "        \n",
    "        # Process static features\n",
    "        img = Image.open(self.img[idx]).convert(\"RGB\")\n",
    "        img_tensor = self.transform(img).numpy()\n",
    "        season = self.season[idx]\n",
    "        category = self.category[idx]\n",
    "        extra = self.extra[idx]\n",
    "\n",
    "        # Process positional features\n",
    "        year = self.year[idx][:-pred_len][valid_idx]\n",
    "        month = self.month[idx][:-pred_len][valid_idx]\n",
    "\n",
    "        # Process y\n",
    "        y = np.log1p(sales_raw[-pred_len:])\n",
    "\n",
    "        return sales, img, img_tensor, season, category, extra, year, month, y\n",
    "\n",
    "    def __len__(self):\n",
    "        return self.img.shape[0]\n",
    "\n",
    "train_dataset = Dataset(df_train_prep)\n",
    "# valid_dataset = Dataset(df_valid_prep)\n",
    "\n",
    "def func(data):\n",
    "    sales = np.nan_to_num(to_time_series_dataset([sales_ for sales_, img_, img_tensor_, season_, category_, extra_, year_, month_, y_ in data]), nan=0).squeeze()\n",
    "\n",
    "    img = ([img_ for sales_, img_, img_tensor_, season_, category_, extra_, year_, month_, y_ in data])\n",
    "    img_tensor = np.array([img_tensor_ for sales_, img_, img_tensor_, season_, category_, extra_, year_, month_, y_ in data])\n",
    "    season = np.array([season_ for sales_, img_, img_tensor_, season_, category_, extra_, year_, month_, y_ in data])\n",
    "    category = np.array([category_ for sales_, img_, img_tensor_, season_, category_, extra_, year_, month_, y_ in data])\n",
    "    extra = np.array([extra_ for sales_, img_, img_tensor_, season_, category_, extra_, year_, month_, y_ in data])\n",
    "\n",
    "    year = np.nan_to_num(to_time_series_dataset([year_ for sales_, img_, img_tensor_, season_, category_, extra_, year_, month_, y_ in data]), nan=0).squeeze()\n",
    "    month = np.nan_to_num(to_time_series_dataset([month_ for sales_, img_, img_tensor_, season_, category_, extra_, year_, month_, y_ in data]), nan=0).squeeze()\n",
    "    \n",
    "    y = np.array([y_ for sales_, img_, img_tensor_, season_, category_, extra_, year_, month_, y_ in data])\n",
    "\n",
    "    sales = torch.FloatTensor(sales).unsqueeze(-1)\n",
    "    img_tensor = torch.FloatTensor(img_tensor)\n",
    "    season = torch.IntTensor(season)\n",
    "    category = torch.IntTensor(category)\n",
    "    extra = torch.IntTensor(extra)\n",
    "\n",
    "    year = torch.FloatTensor(year).unsqueeze(-1)\n",
    "    month = torch.IntTensor(month)\n",
    "\n",
    "    y = torch.FloatTensor(y)\n",
    "\n",
    "    return sales, img, img_tensor, season, category, extra, year, month, y\n",
    "\n",
    "train_dataloader = torch.utils.data.DataLoader(train_dataset, batch_size=batch_size, num_workers=8, prefetch_factor=8, shuffle=True, collate_fn=func)\n",
    "# train_dataloader = torch.utils.data.DataLoader(train_dataset, batch_size=batch_size, shuffle=False, collate_fn=func)\n",
    "# valid_dataloader = torch.utils.data.DataLoader(valid_dataset, batch_size=batch_size, num_workers=8, prefetch_factor=8, collate_fn=func)\n",
    "# valid_dataloader = torch.utils.data.DataLoader(valid_dataset, batch_size=batch_size, collate_fn=func)\n",
    "\n",
    "for sales, img, img_tensor, season, category, extra, year, month, y in train_dataloader:\n",
    "    print(\"sales.shape:\", sales.shape)\n",
    "    print(\"img_tensor.shape:\", img_tensor.shape)\n",
    "    print(\"season.shape:\", season.shape)\n",
    "    print(\"category.shape:\", category.shape)\n",
    "    print(\"extra.shape:\", extra.shape)\n",
    "    print(\"year.shape:\", year.shape)\n",
    "    print(\"month.shape:\", month.shape)\n",
    "    print(\"y.shape:\", y.shape)\n",
    "    break"
   ]
  },
  {
   "cell_type": "code",
   "execution_count": 10,
   "metadata": {},
   "outputs": [
    {
     "name": "stdout",
     "output_type": "stream",
     "text": [
      "<class 'PIL.Image.Image'>\n"
     ]
    },
    {
     "ename": "",
     "evalue": "",
     "output_type": "error",
     "traceback": [
      "\u001b[1;31mThe Kernel crashed while executing code in the the current cell or a previous cell. Please review the code in the cell(s) to identify a possible cause of the failure. Click <a href='https://aka.ms/vscodeJupyterKernelCrash'>here</a> for more info. View Jupyter <a href='command:jupyter.viewOutput'>log</a> for further details."
     ]
    }
   ],
   "source": [
    "for sales, img, img_tensor, season, category, extra, year, month, y in train_dataloader:\n",
    "    print(type(img[0]))\n",
    "    break"
   ]
  },
  {
   "cell_type": "markdown",
   "metadata": {},
   "source": [
    "# Modeling"
   ]
  },
  {
   "cell_type": "markdown",
   "metadata": {},
   "source": [
    "### Architecture"
   ]
  },
  {
   "cell_type": "code",
   "execution_count": 9,
   "metadata": {},
   "outputs": [
    {
     "data": {
      "text/plain": [
       "''"
      ]
     },
     "execution_count": 9,
     "metadata": {},
     "output_type": "execute_result"
    }
   ],
   "source": [
    "verbose = False\n",
    "\n",
    "class Mask(torch.nn.Module):\n",
    "    def __init__(self):\n",
    "        super().__init__()\n",
    "\n",
    "    def get_padding_mask(self, arr):\n",
    "        res = torch.eq(arr, 0).type(torch.FloatTensor)\n",
    "        res = torch.where(res==1, -torch.inf, 0)\n",
    "        return res\n",
    "    \n",
    "    def get_lookahead_mask(self, arr):\n",
    "        seq_len = arr.shape[1]\n",
    "        mask = torch.triu(torch.ones((seq_len, seq_len))*-torch.inf, 1)\n",
    "        return mask\n",
    "\n",
    "    def forward(self, arr):\n",
    "        padding_mask = self.get_padding_mask(arr)\n",
    "        lookahead_mask = self.get_lookahead_mask(arr)\n",
    "        return padding_mask.to(device), lookahead_mask.to(device)\n",
    "\n",
    "class PositionalEmbedding(torch.nn.Module):\n",
    "    def __init__(self, d_model, dropout):\n",
    "        super().__init__()\n",
    "        # Raw embedder\n",
    "        self.year_embedder = torch.nn.Linear(1, d_model)\n",
    "        self.month_embedder = torch.nn.Embedding(num_embeddings=12, embedding_dim=d_model)\n",
    "        \n",
    "        # Concatenate\n",
    "        self.layer_norm1 = torch.nn.LayerNorm(d_model*2)\n",
    "        self.linear1 = torch.nn.Linear(d_model*2, d_model)\n",
    "\n",
    "        # Feed forward concatenated positions\n",
    "        self.linear2 = torch.nn.Linear(d_model, d_model)\n",
    "        self.activation1 = torch.nn.ELU()\n",
    "        self.linear3 = torch.nn.Linear(d_model, d_model)\n",
    "        self.dropout = torch.nn.Dropout(dropout)\n",
    "\n",
    "        # Residual\n",
    "        self.layer_norm2 = torch.nn.LayerNorm(d_model)\n",
    "\n",
    "    def forward(self, year, month):\n",
    "        # Raw embedder\n",
    "        year_embedding = self.year_embedder(year)\n",
    "        month_embedding = self.month_embedder(month)\n",
    "\n",
    "        # Concatenate\n",
    "        concat = torch.concat([year_embedding, month_embedding], dim=-1)\n",
    "        concat = self.linear1(self.layer_norm1(concat))\n",
    "\n",
    "        # Feed forward\n",
    "        linear = self.activation1(self.linear2(concat))\n",
    "        linear = self.dropout(self.linear3(linear))\n",
    "\n",
    "        # Residual\n",
    "        output = self.layer_norm2(concat + linear)\n",
    "\n",
    "        return output\n",
    "\n",
    "class Encoder(torch.nn.Module):\n",
    "    def __init__(self, dropout, d_model, nhead, d_ff, num_layers):\n",
    "        super().__init__()\n",
    "        # Positional encoding\n",
    "        self.sales_embedder = torch.nn.Linear(1, d_model)\n",
    "        self.dropout = torch.nn.Dropout(dropout)\n",
    "\n",
    "        # Encoding\n",
    "        self.encoder = torch.nn.TransformerEncoder(torch.nn.TransformerEncoderLayer(d_model, nhead, d_ff, dropout, batch_first=True), num_layers)\n",
    "    \n",
    "    def forward(self, sales, positional_embedding, enc_padding_mask):\n",
    "        # Positional encoding\n",
    "        sales_embedding = self.sales_embedder(sales)\n",
    "        sales_embedding = self.dropout(sales_embedding + positional_embedding)\n",
    "\n",
    "        # Encoding\n",
    "        encoding = self.encoder(sales_embedding, src_key_padding_mask=enc_padding_mask)        \n",
    "        return encoding\n",
    "\n",
    "class CustomDecoderLayer(torch.nn.TransformerDecoderLayer):\n",
    "    def __init__(self, d_model, nhead, d_ff, dropout, batch_first=True):\n",
    "        super().__init__(d_model, nhead, d_ff, dropout, batch_first=True)\n",
    "    \n",
    "    def forward(self, tgt, memory, tgt_mask, memory_mask, tgt_key_padding_mask, memory_key_padding_mask, tgt_is_causal=False, memory_is_causal=False):\n",
    "        x = tgt\n",
    "        if self.norm_first:\n",
    "            sa_output, attn = self._sa_block(self.norm1(x), tgt_mask, tgt_key_padding_mask, tgt_is_causal)\n",
    "            x = x + sa_output\n",
    "            attn_output = self._mha_block(self.norm2(x), memory, memory_mask, memory_key_padding_mask, memory_is_causal)\n",
    "            x = x + attn_output\n",
    "            x = x + self._ff_block(self.norm3(x))\n",
    "        else:\n",
    "            sa_output, attn = self._sa_block(self.norm1(x), tgt_mask, tgt_key_padding_mask, tgt_is_causal)\n",
    "            x = self.norm1(x + sa_output)\n",
    "            attn_output = self._mha_block(self.norm2(x), memory, memory_mask, memory_key_padding_mask, memory_is_causal)\n",
    "            x = x + attn_output\n",
    "            x = self.norm3(x + self._ff_block(x))\n",
    "\n",
    "        return x, attn\n",
    "    \n",
    "    # multihead attention block\n",
    "    def _mha_block(self, x, mem, attn_mask, key_padding_mask, is_causal=False):\n",
    "        x = self.multihead_attn(x, mem, mem,\n",
    "                                attn_mask=attn_mask,\n",
    "                                key_padding_mask=key_padding_mask,\n",
    "                                is_causal=is_causal,\n",
    "                                need_weights=False)[0]\n",
    "        # print(attn.sum(-1))\n",
    "        return self.dropout2(x)\n",
    "\n",
    "    # self-attention block\n",
    "    def _sa_block(self, x, attn_mask, key_padding_mask, is_causal=False):\n",
    "        x, attn = self.self_attn(x, x, x,\n",
    "                           attn_mask=attn_mask,\n",
    "                           key_padding_mask=key_padding_mask,\n",
    "                           is_causal=is_causal,\n",
    "                           need_weights=True)\n",
    "        return self.dropout1(x), attn\n",
    "\n",
    "class CustomDecoder(torch.nn.TransformerDecoder):\n",
    "    def __init__(self, decoder_layer, num_layers, norm=None):\n",
    "        super().__init__(decoder_layer, num_layers, norm)\n",
    "    \n",
    "    def forward(self, tgt, memory, tgt_mask=None, memory_mask=None, tgt_key_padding_mask=None, memory_key_padding_mask=None):\n",
    "        output = tgt\n",
    "        for mod in self.layers:\n",
    "            output, attn = mod(output, memory, tgt_mask=tgt_mask, memory_mask=memory_mask, tgt_key_padding_mask=tgt_key_padding_mask, memory_key_padding_mask=memory_key_padding_mask)\n",
    "\n",
    "        if self.norm:\n",
    "            output = self.norm(output)\n",
    "        \n",
    "        return output, attn\n",
    "\n",
    "class Decoder(torch.nn.Module):\n",
    "    def __init__(self, d_model, nhead, d_ff, dropout, num_layers):\n",
    "        super().__init__()\n",
    "\n",
    "        self.img_seq = 197 # Vit: 197, Swin: 49\n",
    "        self.d_model = d_model\n",
    "\n",
    "        # Image model train\n",
    "        self.img_model = ViTModel.from_pretrained(\"google/vit-base-patch16-224-in21k\")\n",
    "        # self.img_model = ViTModel(ViTConfig())\n",
    "        # self.img_model = SwinModel.from_pretrained(\"microsoft/swin-tiny-patch4-window7-224\")\n",
    "        # self.img_model = SwinModel(SwinConfig())\n",
    "        # self.img_model = Mask2FormerModel.from_pretrained(\"facebook/mask2former-swin-small-coco-instance\")\n",
    "        # self.img_model = Mask2FormerModel(Mask2FormerConfig())\n",
    "        \n",
    "        # Image model embedding\n",
    "        self.img_embedder = torch.nn.Linear(self.img_model.config.hidden_size, d_model)\n",
    "        self.img_linear = torch.nn.Linear(d_model, d_model)\n",
    "        self.img_activation = torch.nn.ELU()\n",
    "\n",
    "        # Others embedding\n",
    "        self.season_embedder = torch.nn.Embedding(num_embeddings=6, embedding_dim=d_model*self.img_seq)\n",
    "        self.category_embedder = torch.nn.Embedding(num_embeddings=27, embedding_dim=d_model*self.img_seq)\n",
    "        self.extra_embedder = torch.nn.Embedding(num_embeddings=23, embedding_dim=d_model*self.img_seq)\n",
    "\n",
    "        # Concat\n",
    "        self.concat_layer_norm = torch.nn.LayerNorm(d_model*4)\n",
    "        self.concat_linear = torch.nn.Linear(d_model*4, d_model)\n",
    "        self.concat_activation = torch.nn.ELU()\n",
    "\n",
    "        # Decoding\n",
    "        self.decoder = CustomDecoder(CustomDecoderLayer(d_model, nhead, d_ff, dropout, batch_first=True), num_layers)\n",
    "        # self.decoder = torch.nn.TransformerDecoder(torch.nn.TransformerDecoderLayer(d_model, nhead, d_ff, dropout, batch_first=True), num_layers)\n",
    "    \n",
    "    def forward(self, img_tensor, season, category, extra, encoder_output, enc_padding_mask):\n",
    "        # Image embedding\n",
    "        img_hidden_state, pooler_output, img_attn = self.img_model(img_tensor, output_attentions=True).values() # ViT, SwinTransformer\n",
    "        # encoder_last_hidden_state, pixel_decoder_last_hidden_state, transformer_decoder_last_hidden_state, masks_queries_logits, attn_weight = self.img_model(pixel_values=img_tensor, pixel_mask=img_mask, output_attentions=True).values() # For Mask2Former\n",
    "        img_embedding = self.img_activation(self.img_linear(self.img_embedder(img_hidden_state)))\n",
    "        \n",
    "        dec_output, attn = self.decoder(tgt=img_embedding, memory=encoder_output, memory_key_padding_mask=enc_padding_mask)\n",
    "\n",
    "        # Others embedding\n",
    "        season_embedding = self.season_embedder(season).reshape(-1, self.img_seq, self.d_model)\n",
    "        category_embedding = self.category_embedder(category).reshape(-1, self.img_seq, self.d_model)\n",
    "        extra_embedding = self.extra_embedder(extra).reshape(-1, self.img_seq, self.d_model)\n",
    "        concat = self.concat_activation(self.concat_linear(self.concat_layer_norm(torch.concat([dec_output, season_embedding, category_embedding, extra_embedding], dim=-1))))\n",
    "        return concat, attn\n",
    "\n",
    "class Transformer(torch.nn.Module):\n",
    "    def __init__(self, d_model, dropout, nhead, d_ff, num_layers, pred_len):\n",
    "        super().__init__()\n",
    "        # Post process\n",
    "        self.enc_mask = Mask()\n",
    "        self.positional_embedder = PositionalEmbedding(d_model, dropout)\n",
    "\n",
    "        # Encoder-Decoder\n",
    "        self.encoder = Encoder(dropout, d_model, nhead, d_ff, num_layers)\n",
    "        self.decoder = Decoder(d_model, nhead, d_ff, dropout, num_layers)\n",
    "\n",
    "        self.flatten = torch.nn.Flatten()\n",
    "        self.linear1 = torch.nn.Linear(d_model, d_model)\n",
    "        # self.linear1 = torch.nn.Linear(d_model*100, d_model)\n",
    "        self.elu1 = torch.nn.ELU()\n",
    "        \n",
    "        self.linear2 = torch.nn.Linear(d_model, 1)\n",
    "\n",
    "    def forward(self, sales, img_tensor, season, category, extra, year, month):\n",
    "        # Post process\n",
    "        enc_padding_mask, _ = self.enc_mask(sales.squeeze(-1))\n",
    "        positional_embedding = self.positional_embedder(year, month)\n",
    "\n",
    "        encoder_output = self.encoder(sales, positional_embedding, enc_padding_mask)\n",
    "        decoder_output, attn_li = self.decoder(img_tensor, season, category, extra, encoder_output, enc_padding_mask)\n",
    "        output = self.elu1(self.linear1(decoder_output))\n",
    "        output = self.linear2(output)[:, :pred_len, :].squeeze()\n",
    "        \n",
    "        return output, attn_li\n",
    "\n",
    "model = Transformer(d_model, dropout, nhead, d_ff, num_layers, pred_len)\n",
    "# model = torch.nn.DataParallel(model)\n",
    "model.to(device)\n",
    "\"\""
   ]
  },
  {
   "cell_type": "markdown",
   "metadata": {},
   "source": [
    "### Train"
   ]
  },
  {
   "cell_type": "code",
   "execution_count": 10,
   "metadata": {},
   "outputs": [
    {
     "data": {
      "image/png": "[encoded data removed]",
      "text/plain": [
       "<Figure size 1500x500 with 2 Axes>"
      ]
     },
     "metadata": {},
     "output_type": "display_data"
    },
    {
     "name": "stdout",
     "output_type": "stream",
     "text": [
      " 0:31/88 mean_train_loss: 0.179348121881485 -- mean_val_loss: 00"
     ]
    },
    {
     "ename": "KeyboardInterrupt",
     "evalue": "",
     "output_type": "error",
     "traceback": [
      "\u001b[0;31m---------------------------------------------------------------------------\u001b[0m",
      "\u001b[0;31mKeyboardInterrupt\u001b[0m                         Traceback (most recent call last)",
      "\u001b[1;32m/home/sh-sungho.park/Test/Paper/Implementation/implementation_v3.2_visuelle.ipynb Cell 20\u001b[0m line \u001b[0;36m7\n\u001b[1;32m     <a href='vscode-notebook-cell://ssh-remote%2Bgpu.isdow.com/home/sh-sungho.park/Test/Paper/Implementation/implementation_v3.2_visuelle.ipynb#X25sdnNjb2RlLXJlbW90ZQ%3D%3D?line=73'>74</a>\u001b[0m val_loss \u001b[39m=\u001b[39m \u001b[39m0\u001b[39m\n\u001b[1;32m     <a href='vscode-notebook-cell://ssh-remote%2Bgpu.isdow.com/home/sh-sungho.park/Test/Paper/Implementation/implementation_v3.2_visuelle.ipynb#X25sdnNjb2RlLXJlbW90ZQ%3D%3D?line=75'>76</a>\u001b[0m \u001b[39mfor\u001b[39;00m e \u001b[39min\u001b[39;00m \u001b[39mrange\u001b[39m(epoch):\n\u001b[0;32m---> <a href='vscode-notebook-cell://ssh-remote%2Bgpu.isdow.com/home/sh-sungho.park/Test/Paper/Implementation/implementation_v3.2_visuelle.ipynb#X25sdnNjb2RlLXJlbW90ZQ%3D%3D?line=76'>77</a>\u001b[0m     train_loss \u001b[39m=\u001b[39m train(e, val_loss, train_loss_li, val_loss_li) \u001b[39m# Train\u001b[39;00m\n\u001b[1;32m     <a href='vscode-notebook-cell://ssh-remote%2Bgpu.isdow.com/home/sh-sungho.park/Test/Paper/Implementation/implementation_v3.2_visuelle.ipynb#X25sdnNjb2RlLXJlbW90ZQ%3D%3D?line=77'>78</a>\u001b[0m     \u001b[39m# val_loss = val(e)\u001b[39;00m\n\u001b[1;32m     <a href='vscode-notebook-cell://ssh-remote%2Bgpu.isdow.com/home/sh-sungho.park/Test/Paper/Implementation/implementation_v3.2_visuelle.ipynb#X25sdnNjb2RlLXJlbW90ZQ%3D%3D?line=79'>80</a>\u001b[0m     train_loss_li\u001b[39m.\u001b[39mappend(train_loss)\n",
      "\u001b[1;32m/home/sh-sungho.park/Test/Paper/Implementation/implementation_v3.2_visuelle.ipynb Cell 20\u001b[0m line \u001b[0;36m4\n\u001b[1;32m     <a href='vscode-notebook-cell://ssh-remote%2Bgpu.isdow.com/home/sh-sungho.park/Test/Paper/Implementation/implementation_v3.2_visuelle.ipynb#X25sdnNjb2RlLXJlbW90ZQ%3D%3D?line=37'>38</a>\u001b[0m     \u001b[39mif\u001b[39;00m n \u001b[39m%\u001b[39m \u001b[39m10\u001b[39m \u001b[39m==\u001b[39m \u001b[39m0\u001b[39m: plot_sample(np\u001b[39m.\u001b[39mexpm1(y), np\u001b[39m.\u001b[39mexpm1(pred\u001b[39m.\u001b[39mdetach()\u001b[39m.\u001b[39mcpu()))\n\u001b[1;32m     <a href='vscode-notebook-cell://ssh-remote%2Bgpu.isdow.com/home/sh-sungho.park/Test/Paper/Implementation/implementation_v3.2_visuelle.ipynb#X25sdnNjb2RlLXJlbW90ZQ%3D%3D?line=38'>39</a>\u001b[0m loss \u001b[39m=\u001b[39m loss_fn(pred, y\u001b[39m.\u001b[39mto(device))\n\u001b[0;32m---> <a href='vscode-notebook-cell://ssh-remote%2Bgpu.isdow.com/home/sh-sungho.park/Test/Paper/Implementation/implementation_v3.2_visuelle.ipynb#X25sdnNjb2RlLXJlbW90ZQ%3D%3D?line=39'>40</a>\u001b[0m loss\u001b[39m.\u001b[39;49mbackward()\n\u001b[1;32m     <a href='vscode-notebook-cell://ssh-remote%2Bgpu.isdow.com/home/sh-sungho.park/Test/Paper/Implementation/implementation_v3.2_visuelle.ipynb#X25sdnNjb2RlLXJlbW90ZQ%3D%3D?line=40'>41</a>\u001b[0m optimizer\u001b[39m.\u001b[39mstep()\n\u001b[1;32m     <a href='vscode-notebook-cell://ssh-remote%2Bgpu.isdow.com/home/sh-sungho.park/Test/Paper/Implementation/implementation_v3.2_visuelle.ipynb#X25sdnNjb2RlLXJlbW90ZQ%3D%3D?line=42'>43</a>\u001b[0m \u001b[39m# Report\u001b[39;00m\n",
      "File \u001b[0;32m~/anaconda3/envs/cudatest/lib/python3.8/site-packages/torch/_tensor.py:487\u001b[0m, in \u001b[0;36mTensor.backward\u001b[0;34m(self, gradient, retain_graph, create_graph, inputs)\u001b[0m\n\u001b[1;32m    477\u001b[0m \u001b[39mif\u001b[39;00m has_torch_function_unary(\u001b[39mself\u001b[39m):\n\u001b[1;32m    478\u001b[0m     \u001b[39mreturn\u001b[39;00m handle_torch_function(\n\u001b[1;32m    479\u001b[0m         Tensor\u001b[39m.\u001b[39mbackward,\n\u001b[1;32m    480\u001b[0m         (\u001b[39mself\u001b[39m,),\n\u001b[0;32m   (...)\u001b[0m\n\u001b[1;32m    485\u001b[0m         inputs\u001b[39m=\u001b[39minputs,\n\u001b[1;32m    486\u001b[0m     )\n\u001b[0;32m--> 487\u001b[0m torch\u001b[39m.\u001b[39;49mautograd\u001b[39m.\u001b[39;49mbackward(\n\u001b[1;32m    488\u001b[0m     \u001b[39mself\u001b[39;49m, gradient, retain_graph, create_graph, inputs\u001b[39m=\u001b[39;49minputs\n\u001b[1;32m    489\u001b[0m )\n",
      "File \u001b[0;32m~/anaconda3/envs/cudatest/lib/python3.8/site-packages/torch/autograd/__init__.py:200\u001b[0m, in \u001b[0;36mbackward\u001b[0;34m(tensors, grad_tensors, retain_graph, create_graph, grad_variables, inputs)\u001b[0m\n\u001b[1;32m    195\u001b[0m     retain_graph \u001b[39m=\u001b[39m create_graph\n\u001b[1;32m    197\u001b[0m \u001b[39m# The reason we repeat same the comment below is that\u001b[39;00m\n\u001b[1;32m    198\u001b[0m \u001b[39m# some Python versions print out the first line of a multi-line function\u001b[39;00m\n\u001b[1;32m    199\u001b[0m \u001b[39m# calls in the traceback and some print out the last line\u001b[39;00m\n\u001b[0;32m--> 200\u001b[0m Variable\u001b[39m.\u001b[39;49m_execution_engine\u001b[39m.\u001b[39;49mrun_backward(  \u001b[39m# Calls into the C++ engine to run the backward pass\u001b[39;49;00m\n\u001b[1;32m    201\u001b[0m     tensors, grad_tensors_, retain_graph, create_graph, inputs,\n\u001b[1;32m    202\u001b[0m     allow_unreachable\u001b[39m=\u001b[39;49m\u001b[39mTrue\u001b[39;49;00m, accumulate_grad\u001b[39m=\u001b[39;49m\u001b[39mTrue\u001b[39;49;00m)\n",
      "\u001b[0;31mKeyboardInterrupt\u001b[0m: "
     ]
    }
   ],
   "source": [
    "optimizer = torch.optim.Adam(model.parameters(), lr=0.001)\n",
    "loss_fn = torch.nn.MSELoss()\n",
    "\n",
    "def plot_sample(y, pred):\n",
    "    # Plot sample\n",
    "    clear_output(wait=True)\n",
    "    y_sample = y[-1]\n",
    "    pred_sample = pred[-1].detach().cpu()\n",
    "    \n",
    "    plt.figure(figsize=(15,5))\n",
    "    plt.subplot(1,2,1)\n",
    "    plt.plot(train_loss_li, label=\"train\")\n",
    "    plt.plot(val_loss_li, label=\"valid\")\n",
    "    plt.title(\"Loss\")\n",
    "    plt.legend()\n",
    "\n",
    "    plt.subplot(1,2,2)\n",
    "    plt.plot(y_sample, label=\"y\")\n",
    "    plt.plot(pred_sample, label=\"pred\")\n",
    "    plt.title(\"Sample\")\n",
    "    plt.legend()\n",
    "    plt.show()\n",
    "\n",
    "def train(epoch, val_loss, train_loss_li, val_loss_li):\n",
    "    model.train()\n",
    "    total_len = len(train_dataloader)\n",
    "    loss_li = []\n",
    "    for n, data in enumerate(train_dataloader):\n",
    "        sales, img, img_tensor, season, category, extra, year, month, y = data\n",
    "        \n",
    "        # Train\n",
    "        optimizer.zero_grad()\n",
    "        pred, attn_weight = model(sales.to(device), img_tensor.to(device), season.to(device), category.to(device), extra.to(device), year.to(device), month.to(device))\n",
    "        pred = pred.squeeze()\n",
    "\n",
    "        # plot sample\n",
    "        if not verbose: \n",
    "            if n % 10 == 0: plot_sample(np.expm1(y), np.expm1(pred.detach().cpu()))\n",
    "        loss = loss_fn(pred, y.to(device))\n",
    "        loss.backward()\n",
    "        optimizer.step()\n",
    "\n",
    "        # Report\n",
    "        loss_li.append(loss.item())\n",
    "        mean_loss = np.mean(loss_li[-10:]) / 10\n",
    "        if not verbose: print(f\"\\r {epoch}:{n}/{total_len} mean_train_loss: {mean_loss} -- mean_val_loss: {val_loss}\", end=\"\")\n",
    "\n",
    "    print()\n",
    "    return mean_loss\n",
    "\n",
    "def val(epoch):\n",
    "    model.eval()\n",
    "    total_len = len(valid_dataloader)\n",
    "    total_loss = 0\n",
    "    for n, data in enumerate(valid_dataloader):\n",
    "        sales, img, img_tensor, season, category, extra, year, month, y = data\n",
    "        \n",
    "        # Pred\n",
    "        with torch.no_grad():\n",
    "            pred, attn_weight = model(sales.to(device), img_tensor.to(device), img_mask.to(device), season.to(device), category.to(device), extra.to(device), year.to(device), month.to(device))\n",
    "            pred = pred.squeeze()\n",
    "            loss = loss_fn(pred, y.to(device))\n",
    "\n",
    "            # Report\n",
    "            total_loss += loss.item()\n",
    "            mean_loss = total_loss / (n+1)\n",
    "            print(f\"\\r {epoch}:{n}/{total_len} mean_val_loss: {mean_loss}\", end=\"\")\n",
    "\n",
    "    print()\n",
    "    return mean_loss\n",
    " \n",
    "epoch = 5\n",
    "train_loss_li, val_loss_li = [0], [0]\n",
    "val_loss = 0\n",
    "\n",
    "for e in range(epoch):\n",
    "    train_loss = train(e, val_loss, train_loss_li, val_loss_li) # Train\n",
    "    # val_loss = val(e)\n",
    "\n",
    "    train_loss_li.append(train_loss)\n",
    "    val_loss_li.append(val_loss)\n",
    "    torch.save(model.state_dict(), f\"model_{np.mean(train_loss)}_{np.mean(val_loss)}.pth\")"
   ]
  },
  {
   "cell_type": "markdown",
   "metadata": {},
   "source": [
    "from transformers import AutoImageProcessor, SwinModel, SwinForImageClassification, ViTModel, ViTForImageClassification\n",
    "import matplotlib.cm as cm\n",
    "from gradcam import GradCAM\n",
    "from gradcam.utils import visualize_cam\n",
    "import cv2\n",
    "import time\n",
    "\n",
    "# model.load_state_dict(torch.load(\"model_0.13881785809993744_0.0.pth\"))\n",
    "model.eval()\n",
    "# model.train()\n",
    "\n",
    "# for data in valid_dataloader:\n",
    "for data in train_dataloader:\n",
    "    sales, img, img_tensor, season, category, extra, year, month, y = data\n",
    "    with torch.no_grad():\n",
    "        pred, attn_weight = model(sales.to(device), img_tensor.to(device), season.to(device), category.to(device), extra.to(device), year.to(device), month.to(device))\n",
    "        # loss = loss_fn(pred, y.to(device)).item()\n",
    "        break"
   ]
  },
  {
   "cell_type": "code",
   "execution_count": 18,
   "metadata": {},
   "outputs": [
    {
     "data": {
      "text/plain": [
       "torch.Size([64, 197, 197])"
      ]
     },
     "execution_count": 18,
     "metadata": {},
     "output_type": "execute_result"
    }
   ],
   "source": [
    "attn_weight.shape"
   ]
  },
  {
   "cell_type": "code",
   "execution_count": 12,
   "metadata": {},
   "outputs": [
    {
     "data": {
      "text/plain": [
       "<matplotlib.colorbar.Colorbar at 0x7f5c90409730>"
      ]
     },
     "execution_count": 12,
     "metadata": {},
     "output_type": "execute_result"
    },
    {
     "data": {
      "image/png": "[encoded data removed]",
      "text/plain": [
       "<Figure size 640x480 with 2 Axes>"
      ]
     },
     "metadata": {},
     "output_type": "display_data"
    }
   ],
   "source": [
    "attn = attn_weight[0][:, 0][1:].reshape(14,14).cpu().numpy()\n",
    "plt.imshow(attn, cmap=\"gray\")\n",
    "plt.colorbar()"
   ]
  },
  {
   "cell_type": "code",
   "execution_count": null,
   "metadata": {},
   "outputs": [
    {
     "data": {
      "text/plain": [
       "torch.Size([64, 197, 9])"
      ]
     },
     "execution_count": 62,
     "metadata": {},
     "output_type": "execute_result"
    }
   ],
   "source": [
    "attn_weight.shape"
   ]
  },
  {
   "cell_type": "markdown",
   "metadata": {},
   "source": [
    "### Eval"
   ]
  },
  {
   "cell_type": "code",
   "execution_count": null,
   "metadata": {},
   "outputs": [],
   "source": [
    "def get_attention_map(img, att_mat, get_mask=False):\n",
    "    att_mat = torch.stack(att_mat).squeeze(1)\n",
    "\n",
    "    # Average the attention weights across all heads.\n",
    "    att_mat = torch.mean(att_mat, dim=1)\n",
    "    print(\"att_mat.shape:\", att_mat.shape)\n",
    "    # att_mat = torch.max(att_mat, dim=1).values\n",
    "\n",
    "    # To account for residual connections, we add an identity matrix to the attention matrix and re-normalize the weights.\n",
    "    residual_att = torch.eye(att_mat.size(1))\n",
    "    aug_att_mat = att_mat + residual_att\n",
    "    aug_att_mat = aug_att_mat / aug_att_mat.sum(dim=-1).unsqueeze(-1)\n",
    "\n",
    "    # Recursively multiply the weight matrices\n",
    "    joint_attentions = torch.zeros(aug_att_mat.size())\n",
    "    joint_attentions[0] = aug_att_mat[0]\n",
    "\n",
    "    for n in range(1, aug_att_mat.size(0)):\n",
    "        joint_attentions[n] = torch.matmul(aug_att_mat[n], joint_attentions[n-1])\n",
    "\n",
    "    print(\"joint_attentions.shape:\", joint_attentions.shape)\n",
    "    v = joint_attentions[-1]\n",
    "    print(\"v.shape:\", v.shape)\n",
    "    grid_size = int(np.sqrt(aug_att_mat.size(-1)))\n",
    "    print(\"grid_size.shape:\", grid_size)\n",
    "    print(v[0, 1:].shape)\n",
    "    mask = v[0, 1:].reshape(grid_size, grid_size).detach().numpy()\n",
    "    # mask = v[0].reshape(grid_size, grid_size).detach().numpy()\n",
    "    if get_mask:\n",
    "        result = cv2.resize(mask / mask.max(), img.size)\n",
    "    else:        \n",
    "        mask = cv2.resize(mask / mask.max(), img.size)[..., np.newaxis]\n",
    "        result = (mask * img).astype(\"uint8\")\n",
    "    \n",
    "    return result\n",
    "\n",
    "# def get_attention_map(img, att_mat, get_mask=False):\n",
    "    # Average the attention weights across all heads.\n",
    "    att_mat = [torch.mean(i, dim=1) for i in att_mat]\n",
    "    att_mat = torch.concat(att_mat, dim=0)\n",
    "    \n",
    "    # att_mat = torch.max(att_mat, dim=1).values\n",
    "\n",
    "    # To account for residual connections, we add an identity matrix to the attention matrix and re-normalize the weights.\n",
    "    residual_att = torch.eye(att_mat.size(1))\n",
    "    aug_att_mat = att_mat + residual_att\n",
    "    aug_att_mat = aug_att_mat / aug_att_mat.sum(dim=-1).unsqueeze(-1)\n",
    "\n",
    "    # Recursively multiply the weight matrices\n",
    "    joint_attentions = torch.zeros(aug_att_mat.size())\n",
    "    joint_attentions[0] = aug_att_mat[0]\n",
    "\n",
    "    for n in range(1, aug_att_mat.size(0)):\n",
    "        joint_attentions[n] = torch.matmul(aug_att_mat[n], joint_attentions[n-1])\n",
    "\n",
    "    print(\"joint_attentions.shape:\", joint_attentions.shape)\n",
    "    v = joint_attentions[-1]\n",
    "    print(\"v.shape:\", v.shape)\n",
    "    grid_size = int(np.sqrt(aug_att_mat.size(-1)))\n",
    "    print(\"grid_size.shape:\", grid_size)\n",
    "    print(v[0, 1:].shape)\n",
    "    # mask = v[0, 1:].reshape(grid_size, grid_size).detach().numpy()\n",
    "    mask = v[0].reshape(grid_size, grid_size).detach().numpy()\n",
    "    if get_mask:\n",
    "        result = cv2.resize(mask / mask.max(), img.size)\n",
    "    else:        \n",
    "        mask = cv2.resize(mask / mask.max(), img.size)[..., np.newaxis]\n",
    "        result = (mask * img).astype(\"uint8\")\n",
    "    \n",
    "    return result\n",
    "\n",
    "def plot_attention_map(original_img, att_map, loss):\n",
    "    fig, (ax1, ax2) = plt.subplots(ncols=2, figsize=(5, 5))\n",
    "    ax1.set_title('Original')\n",
    "    ax2.set_title(loss)\n",
    "    _ = ax1.imshow(original_img)\n",
    "    _ = ax2.imshow(att_map, cmap = cm.gray)"
   ]
  },
  {
   "cell_type": "code",
   "execution_count": null,
   "metadata": {},
   "outputs": [
    {
     "name": "stdout",
     "output_type": "stream",
     "text": [
      "att_mat.shape: torch.Size([12, 197, 197])\n",
      "joint_attentions.shape: torch.Size([12, 197, 197])\n",
      "v.shape: torch.Size([197, 197])\n",
      "grid_size.shape: 14\n",
      "torch.Size([196])\n"
     ]
    },
    {
     "data": {
      "image/png": "[encoded data removed]",
      "text/plain": [
       "<Figure size 500x500 with 2 Axes>"
      ]
     },
     "metadata": {},
     "output_type": "display_data"
    },
    {
     "ename": "KeyboardInterrupt",
     "evalue": "Interrupted by user",
     "output_type": "error",
     "traceback": [
      "\u001b[0;31m---------------------------------------------------------------------------\u001b[0m",
      "\u001b[0;31mKeyboardInterrupt\u001b[0m                         Traceback (most recent call last)",
      "\u001b[1;32m/home/sh-sungho.park/Test/Paper/Implementation/implementation_v3.1_visuelle.ipynb Cell 30\u001b[0m line \u001b[0;36m3\n\u001b[1;32m     <a href='vscode-notebook-cell://ssh-remote%2Bgpu.isdow.com/home/sh-sungho.park/Test/Paper/Implementation/implementation_v3.1_visuelle.ipynb#X41sdnNjb2RlLXJlbW90ZQ%3D%3D?line=31'>32</a>\u001b[0m \u001b[39m# get_myattention(attn_weight, img_)\u001b[39;00m\n\u001b[1;32m     <a href='vscode-notebook-cell://ssh-remote%2Bgpu.isdow.com/home/sh-sungho.park/Test/Paper/Implementation/implementation_v3.1_visuelle.ipynb#X41sdnNjb2RlLXJlbW90ZQ%3D%3D?line=32'>33</a>\u001b[0m plt\u001b[39m.\u001b[39mshow()\n\u001b[0;32m---> <a href='vscode-notebook-cell://ssh-remote%2Bgpu.isdow.com/home/sh-sungho.park/Test/Paper/Implementation/implementation_v3.1_visuelle.ipynb#X41sdnNjb2RlLXJlbW90ZQ%3D%3D?line=33'>34</a>\u001b[0m \u001b[39minput\u001b[39;49m()\n\u001b[1;32m     <a href='vscode-notebook-cell://ssh-remote%2Bgpu.isdow.com/home/sh-sungho.park/Test/Paper/Implementation/implementation_v3.1_visuelle.ipynb#X41sdnNjb2RlLXJlbW90ZQ%3D%3D?line=34'>35</a>\u001b[0m clear_output(wait\u001b[39m=\u001b[39m\u001b[39mTrue\u001b[39;00m)\n\u001b[1;32m     <a href='vscode-notebook-cell://ssh-remote%2Bgpu.isdow.com/home/sh-sungho.park/Test/Paper/Implementation/implementation_v3.1_visuelle.ipynb#X41sdnNjb2RlLXJlbW90ZQ%3D%3D?line=35'>36</a>\u001b[0m time\u001b[39m.\u001b[39msleep(\u001b[39m0.5\u001b[39m)\n",
      "File \u001b[0;32m~/anaconda3/envs/cudatest/lib/python3.8/site-packages/ipykernel/kernelbase.py:1202\u001b[0m, in \u001b[0;36mKernel.raw_input\u001b[0;34m(self, prompt)\u001b[0m\n\u001b[1;32m   1200\u001b[0m     msg \u001b[39m=\u001b[39m \u001b[39m\"\u001b[39m\u001b[39mraw_input was called, but this frontend does not support input requests.\u001b[39m\u001b[39m\"\u001b[39m\n\u001b[1;32m   1201\u001b[0m     \u001b[39mraise\u001b[39;00m StdinNotImplementedError(msg)\n\u001b[0;32m-> 1202\u001b[0m \u001b[39mreturn\u001b[39;00m \u001b[39mself\u001b[39;49m\u001b[39m.\u001b[39;49m_input_request(\n\u001b[1;32m   1203\u001b[0m     \u001b[39mstr\u001b[39;49m(prompt),\n\u001b[1;32m   1204\u001b[0m     \u001b[39mself\u001b[39;49m\u001b[39m.\u001b[39;49m_parent_ident[\u001b[39m\"\u001b[39;49m\u001b[39mshell\u001b[39;49m\u001b[39m\"\u001b[39;49m],\n\u001b[1;32m   1205\u001b[0m     \u001b[39mself\u001b[39;49m\u001b[39m.\u001b[39;49mget_parent(\u001b[39m\"\u001b[39;49m\u001b[39mshell\u001b[39;49m\u001b[39m\"\u001b[39;49m),\n\u001b[1;32m   1206\u001b[0m     password\u001b[39m=\u001b[39;49m\u001b[39mFalse\u001b[39;49;00m,\n\u001b[1;32m   1207\u001b[0m )\n",
      "File \u001b[0;32m~/anaconda3/envs/cudatest/lib/python3.8/site-packages/ipykernel/kernelbase.py:1245\u001b[0m, in \u001b[0;36mKernel._input_request\u001b[0;34m(self, prompt, ident, parent, password)\u001b[0m\n\u001b[1;32m   1242\u001b[0m \u001b[39mexcept\u001b[39;00m \u001b[39mKeyboardInterrupt\u001b[39;00m:\n\u001b[1;32m   1243\u001b[0m     \u001b[39m# re-raise KeyboardInterrupt, to truncate traceback\u001b[39;00m\n\u001b[1;32m   1244\u001b[0m     msg \u001b[39m=\u001b[39m \u001b[39m\"\u001b[39m\u001b[39mInterrupted by user\u001b[39m\u001b[39m\"\u001b[39m\n\u001b[0;32m-> 1245\u001b[0m     \u001b[39mraise\u001b[39;00m \u001b[39mKeyboardInterrupt\u001b[39;00m(msg) \u001b[39mfrom\u001b[39;00m \u001b[39mNone\u001b[39;00m\n\u001b[1;32m   1246\u001b[0m \u001b[39mexcept\u001b[39;00m \u001b[39mException\u001b[39;00m:\n\u001b[1;32m   1247\u001b[0m     \u001b[39mself\u001b[39m\u001b[39m.\u001b[39mlog\u001b[39m.\u001b[39mwarning(\u001b[39m\"\u001b[39m\u001b[39mInvalid Message:\u001b[39m\u001b[39m\"\u001b[39m, exc_info\u001b[39m=\u001b[39m\u001b[39mTrue\u001b[39;00m)\n",
      "\u001b[0;31mKeyboardInterrupt\u001b[0m: Interrupted by user"
     ]
    }
   ],
   "source": [
    "from transformers import AutoImageProcessor, SwinModel, SwinForImageClassification, ViTModel, ViTForImageClassification\n",
    "import matplotlib.cm as cm\n",
    "from gradcam import GradCAM\n",
    "from gradcam.utils import visualize_cam\n",
    "import cv2\n",
    "import time\n",
    "\n",
    "model.eval()\n",
    "data = next(iter(valid_dataloader))\n",
    "\n",
    "for data in valid_dataloader:\n",
    "    sales, img, img_tensor, season, category, extra, year, month, y = data\n",
    "\n",
    "    for idx in range(len(data)):\n",
    "        sales_ = sales[idx:idx+1]\n",
    "        img_ = img[idx]\n",
    "        img_mask_ = get_image_mask([img_])\n",
    "        img_tensor_ = img_tensor[idx:idx+1]\n",
    "        season_ = season[idx:idx+1]\n",
    "        category_ = category[idx:idx+1]\n",
    "        extra_ = extra[idx:idx+1]\n",
    "        year_ = year[idx:idx+1]\n",
    "        month_ = month[idx:idx+1]\n",
    "        y_ = y[idx:idx+1]\n",
    "\n",
    "        with torch.no_grad():\n",
    "            pred, attn_weight = model(sales_.to(device), img_tensor_.to(device), img_mask_.to(device), season_.to(device), category_.to(device), extra_.to(device), year_.to(device), month_.to(device))\n",
    "            # pred, attn_weight = model(sales_.to(device), img_tensor_.to(device), season_.to(device), category_.to(device), extra_.to(device), year_.to(device), month_.to(device))\n",
    "            loss = loss_fn(pred, y.to(device)).item()\n",
    "        res = get_attention_map(img_, tuple(i.detach().cpu() for i in attn_weight), get_mask=True)\n",
    "        plot_attention_map(img_, res, loss)\n",
    "        # get_myattention(attn_weight, img_)\n",
    "        plt.show()\n",
    "        input()\n",
    "        clear_output(wait=True)\n",
    "        time.sleep(0.5)"
   ]
  },
  {
   "cell_type": "code",
   "execution_count": null,
   "metadata": {},
   "outputs": [
    {
     "data": {
      "text/plain": [
       "torch.Size([1, 77])"
      ]
     },
     "execution_count": 20,
     "metadata": {},
     "output_type": "execute_result"
    }
   ],
   "source": [
    "day_.squeeze(-1).shape"
   ]
  }
 ],
 "metadata": {
  "kernelspec": {
   "display_name": "cudatest",
   "language": "python",
   "name": "python3"
  },
  "language_info": {
   "codemirror_mode": {
    "name": "ipython",
    "version": 3
   },
   "file_extension": ".py",
   "mimetype": "text/x-python",
   "name": "python",
   "nbconvert_exporter": "python",
   "pygments_lexer": "ipython3",
   "version": "3.8.17"
  }
 },
 "nbformat": 4,
 "nbformat_minor": 2
}
