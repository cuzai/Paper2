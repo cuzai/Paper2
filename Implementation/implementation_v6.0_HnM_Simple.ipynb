{
 "cells": [
  {
   "cell_type": "markdown",
   "metadata": {},
   "source": [
    "# Configurations"
   ]
  },
  {
   "cell_type": "markdown",
   "metadata": {},
   "source": [
    "### Params"
   ]
  },
  {
   "cell_type": "code",
   "execution_count": 2,
   "metadata": {},
   "outputs": [],
   "source": [
    "is_skip = True\n",
    "\n",
    "# Data params\n",
    "encode_len = 30\n",
    "pred_len = 7\n",
    "batch_size = 16\n",
    "\n",
    "# Model params\n",
    "d_model = 128\n",
    "nhead = 4\n",
    "d_ff = 256\n",
    "dropout = 0.1\n",
    "num_layers = 4"
   ]
  },
  {
   "cell_type": "markdown",
   "metadata": {},
   "source": [
    "### Import"
   ]
  },
  {
   "cell_type": "code",
   "execution_count": 1,
   "metadata": {},
   "outputs": [],
   "source": [
    "import numpy as np\n",
    "import pandas as pd\n",
    "from IPython.display import clear_output\n",
    "import matplotlib.pyplot as plt\n",
    "from sklearn.preprocessing import StandardScaler\n",
    "from statsmodels.tsa.seasonal import seasonal_decompose\n",
    "from tqdm import tqdm\n",
    "\n",
    "import torch\n",
    "from pytorch_model_summary import summary"
   ]
  },
  {
   "cell_type": "markdown",
   "metadata": {},
   "source": [
    "# Data"
   ]
  },
  {
   "cell_type": "markdown",
   "metadata": {},
   "source": [
    "### Read"
   ]
  },
  {
   "cell_type": "code",
   "execution_count": 3,
   "metadata": {},
   "outputs": [],
   "source": [
    "if not is_skip:\n",
    "    # Read transaction\n",
    "    df_trans = pd.read_csv(\"../HnM/transactions_train.csv\", parse_dates=[\"t_dat\"], dtype={\"article_id\":str})\n",
    "    df_meta = pd.read_csv(\"../HnM/articles.csv\", dtype={\"article_id\":str})\n",
    "\n",
    "    df_trans_sample = df_trans.iloc[:10000]"
   ]
  },
  {
   "cell_type": "markdown",
   "metadata": {},
   "source": [
    "### Preprocess"
   ]
  },
  {
   "cell_type": "code",
   "execution_count": 4,
   "metadata": {},
   "outputs": [],
   "source": [
    "def preprocess(data):\n",
    "    data = data.copy()\n",
    "\n",
    "   # Make sales and mean price\n",
    "    data = data.groupby([\"t_dat\", \"article_id\"], as_index=False).agg(sales=(\"customer_id\", \"count\"))\n",
    "\n",
    "   # Expand dates\n",
    "    # Expand\n",
    "    data = data.set_index(\"t_dat\").groupby([\"article_id\"], as_index=False).resample(\"1D\").asfreq().reset_index()\n",
    "    # Fill missings\n",
    "    data[\"sales\"] = data[\"sales\"].fillna(0)\n",
    "    data[\"price\"] = data[\"sales\"].fillna(method=\"ffill\")\n",
    "    data[\"article_id\"] = data[\"article_id\"].fillna(method=\"ffill\")\n",
    "\n",
    "   # Temporal informations\n",
    "    data[\"year\"] = data[\"t_dat\"].dt.year - data[\"t_dat\"].dt.year.min()\n",
    "    data[\"month\"] = data[\"t_dat\"].dt.month\n",
    "    data[\"dayofweek\"] = data[\"t_dat\"].dt.dayofweek\n",
    "    data[\"day\"] = data[\"t_dat\"].dt.day\n",
    "\n",
    "    # Cyclic transformation\n",
    "    def append_cyclic(col, cycle):\n",
    "        data[f\"{col}_sin\"] = np.sin(2 * np.pi * data[col]/cycle)\n",
    "        data[f\"{col}_cos\"] = np.cos(2 * np.pi * data[col]/cycle)\n",
    "    \n",
    "    append_cyclic(\"month\", 12)\n",
    "    append_cyclic(\"dayofweek\", 7)\n",
    "    append_cyclic(\"day\", 365)\n",
    "    data[\"year\"] = data[\"year\"] - data[\"year\"].min()\n",
    "\n",
    "   # Aggregate to list\n",
    "    data = data.groupby([\"article_id\"], as_index=False)[[\"sales\", \"year\", \"month_sin\", \"month_cos\", \"dayofweek_sin\", \"dayofweek_cos\", \"day_sin\", \"day_cos\"]].agg(list)\n",
    "    return data.reset_index(drop=True)\n",
    "\n",
    "if not is_skip:\n",
    "    df_prep = preprocess(df_trans)\n",
    "    df_prep.to_parquet(\"df_prep.pq\")"
   ]
  },
  {
   "cell_type": "markdown",
   "metadata": {},
   "source": [
    "### Dataset"
   ]
  },
  {
   "cell_type": "code",
   "execution_count": 5,
   "metadata": {},
   "outputs": [
    {
     "data": {
      "text/plain": [
       "array(['0108775015', '0108775044', '0108775051', ..., '0953450001',\n",
       "       '0953763001', '0956217002'], dtype=object)"
      ]
     },
     "execution_count": 5,
     "metadata": {},
     "output_type": "execute_result"
    }
   ],
   "source": [
    "df_prep = pd.read_parquet(\"df_prep.pq\")\n",
    "df_prep[\"article_id\"].unique()"
   ]
  },
  {
   "cell_type": "code",
   "execution_count": 6,
   "metadata": {},
   "outputs": [
    {
     "name": "stderr",
     "output_type": "stream",
     "text": [
      "0it [00:00, ?it/s]"
     ]
    },
    {
     "name": "stderr",
     "output_type": "stream",
     "text": [
      "3it [00:00, 91.96it/s]"
     ]
    },
    {
     "name": "stdout",
     "output_type": "stream",
     "text": [
      "encoder_input: torch.Size([16, 30, 1])\n",
      "y: torch.Size([16, 7, 1])\n",
      "temporal: torch.Size([16, 37, 7])\n"
     ]
    },
    {
     "name": "stderr",
     "output_type": "stream",
     "text": [
      "\n"
     ]
    }
   ],
   "source": [
    "df_prep = df_prep[df_prep[\"article_id\"].isin([\"0108775015\", \"0108775044\", \"0108775051\"])].copy()\n",
    "\n",
    "# Filter\n",
    "df_prep[\"size\"] = df_prep[\"sales\"].str.len()\n",
    "df_prep = df_prep[df_prep[\"size\"] >= encode_len + pred_len]\n",
    "\n",
    "class Dataset(torch.utils.data.Dataset):\n",
    "    def __init__(self, data, encode_len, pred_len):\n",
    "        # Define parameters\n",
    "        self.encode_len, self.pred_len = encode_len, pred_len\n",
    "        self.sales_li, self.temporal_li, self.scaler_li = [], [], []\n",
    "        \n",
    "        # Iterate rows\n",
    "        for _, row in tqdm(data.iterrows()):\n",
    "           # Scale by each article\n",
    "            # Sales\n",
    "            scaler = StandardScaler()\n",
    "            sales = np.array(row[\"sales\"])\n",
    "            sales = np.log1p(sales)\n",
    "\n",
    "            # Year\n",
    "            scaler_ = StandardScaler()\n",
    "            year = np.array(row[\"year\"])\n",
    "            year = scaler_.fit_transform(year.reshape(-1,1)).reshape(-1)\n",
    "\n",
    "           # Unfold\n",
    "            # Sales\n",
    "            sales = torch.FloatTensor(sales).unfold(0, encode_len+pred_len, 1)\n",
    "\n",
    "            # Temporal\n",
    "            year = torch.FloatTensor(year).unfold(0, encode_len+pred_len, 1)\n",
    "            month_sin = torch.FloatTensor(row[\"month_sin\"].copy()).unfold(0, encode_len+pred_len, 1)\n",
    "            month_cos = torch.FloatTensor(row[\"month_cos\"].copy()).unfold(0, encode_len+pred_len, 1)\n",
    "            dayofweek_sin = torch.FloatTensor(row[\"dayofweek_sin\"].copy()).unfold(0, encode_len+pred_len, 1)\n",
    "            dayofweek_cos = torch.FloatTensor(row[\"dayofweek_cos\"].copy()).unfold(0, encode_len+pred_len, 1)\n",
    "            day_sin = torch.FloatTensor(row[\"day_sin\"].copy()).unfold(0, encode_len+pred_len, 1)\n",
    "            day_cos = torch.FloatTensor(row[\"day_cos\"].copy()).unfold(0, encode_len+pred_len, 1)\n",
    "\n",
    "            temporal = torch.stack([year, month_sin, month_cos, dayofweek_sin, dayofweek_cos, day_sin, day_cos], dim=-1)\n",
    "\n",
    "        #    # Filter non-zero\n",
    "        #     nonzero_idx1 = np.where(sales[:, :-pred_len].sum(axis=-1) > 0)[0] # At least one non-zero from sales X\n",
    "        #     nonzero_idx2 = np.where(sales[:, -pred_len:].sum(axis=-1) > 0)[0] # At least one non-zero from sales y\n",
    "        #     nonzero_idx = list(set(nonzero_idx1).intersection(set(nonzero_idx2))) # And condition (intersection)\n",
    "\n",
    "            # Append to list\n",
    "            self.sales_li.append(sales)\n",
    "            self.temporal_li.append(temporal)\n",
    "        \n",
    "        # List to tensors\n",
    "        self.sales_li = torch.concat(self.sales_li)\n",
    "        self.temporal_li = torch.concat(self.temporal_li)\n",
    "    \n",
    "    def __len__(self):\n",
    "        return self.sales_li.shape[0]\n",
    "    \n",
    "    def __getitem__(self, idx):\n",
    "        # Slice by index\n",
    "        sales = self.sales_li[idx]\n",
    "        temporal = self.temporal_li[idx]\n",
    "\n",
    "        # Split decoder input and output\n",
    "        encoder_input = sales[:self.encode_len].unsqueeze(-1)\n",
    "        y = sales[-self.pred_len:].unsqueeze(-1)\n",
    "\n",
    "        return encoder_input, y, temporal\n",
    "\n",
    "dataset = Dataset(df_prep, encode_len, pred_len)\n",
    "dataloader = torch.utils.data.DataLoader(dataset, batch_size=batch_size, shuffle=True)\n",
    "\n",
    "for data in dataloader:\n",
    "    encoder_input, y, temporal = data\n",
    "    print(\"encoder_input:\", encoder_input.shape)\n",
    "    print(\"y:\", y.shape)\n",
    "    print(\"temporal:\", temporal.shape)\n",
    "    break"
   ]
  },
  {
   "cell_type": "markdown",
   "metadata": {},
   "source": [
    "# Architecture"
   ]
  },
  {
   "cell_type": "code",
   "execution_count": 7,
   "metadata": {},
   "outputs": [
    {
     "name": "stdout",
     "output_type": "stream",
     "text": [
      "--------------------------------------------------------------------------------------------\n",
      "   Parent Layers            Layer (type)        Output Shape         Param #     Tr. Param #\n",
      "============================================================================================\n",
      "     Transformer                Linear-1        [1, 37, 128]           1,024           1,024\n",
      "     Transformer                Linear-2        [1, 30, 128]             256             256\n",
      "     Transformer             LayerNorm-3        [1, 30, 128]             256             256\n",
      "     Transformer    TransformerEncoder-4        [1, 30, 128]         529,920         529,920\n",
      "     Transformer    TransformerDecoder-5         [1, 7, 128]         795,136         795,136\n",
      "     Transformer                Linear-6           [1, 7, 2]             258             258\n",
      "============================================================================================\n",
      "Total params: 1,326,850\n",
      "Trainable params: 1,326,850\n",
      "Non-trainable params: 0\n",
      "--------------------------------------------------------------------------------------------\n"
     ]
    },
    {
     "data": {
      "text/plain": [
       "'--------------------------------------------------------------------------------------------\\n   Parent Layers            Layer (type)        Output Shape         Param #     Tr. Param #\\n============================================================================================\\n     Transformer                Linear-1        [1, 37, 128]           1,024           1,024\\n     Transformer                Linear-2        [1, 30, 128]             256             256\\n     Transformer             LayerNorm-3        [1, 30, 128]             256             256\\n     Transformer    TransformerEncoder-4        [1, 30, 128]         529,920         529,920\\n     Transformer    TransformerDecoder-5         [1, 7, 128]         795,136         795,136\\n     Transformer                Linear-6           [1, 7, 2]             258             258\\n============================================================================================\\nTotal params: 1,326,850\\nTrainable params: 1,326,850\\nNon-trainable params: 0\\n--------------------------------------------------------------------------------------------'"
      ]
     },
     "execution_count": 7,
     "metadata": {},
     "output_type": "execute_result"
    }
   ],
   "source": [
    "class Transformer(torch.nn.Module):\n",
    "    def __init__(self, d_model, nhead, d_ff, dropout, num_layers):\n",
    "        super().__init__()\n",
    "        self.temporal_encoder = torch.nn.Linear(7, d_model)\n",
    "\n",
    "        # Encoder\n",
    "        self.sales_encoder = torch.nn.Linear(1, d_model)\n",
    "        self.encoder_layernorm = torch.nn.LayerNorm(d_model)\n",
    "        self.encoder = torch.nn.TransformerEncoder(torch.nn.TransformerEncoderLayer(d_model, nhead, d_ff, dropout, batch_first=True), nhead)\n",
    "\n",
    "        # Decoder\n",
    "        self.decoder = torch.nn.TransformerDecoder(torch.nn.TransformerDecoderLayer(d_model, nhead, d_ff, dropout, batch_first=True), nhead)\n",
    "        self.decoder_output_layer = torch.nn.Linear(d_model, 2)\n",
    "    \n",
    "    def forward(self, encoder_input, temporal, encode_len, pred_len):\n",
    "        # Get temporal encoded sales\n",
    "        temporal_encoding = torch.nn.ReLU()(self.temporal_encoder(temporal))\n",
    "        encoder_temporal = temporal_encoding[:, :encode_len, :]\n",
    "        decoder_temporal = temporal_encoding[:, -pred_len:, :]\n",
    "\n",
    "        # Encoder\n",
    "        encoder_input = self.encoder_layernorm(torch.nn.ReLU()(self.sales_encoder(encoder_input)) + encoder_temporal)\n",
    "        encoder_output = self.encoder(encoder_input)\n",
    "\n",
    "        # Decoder\n",
    "        decoder_output = self.decoder(tgt=decoder_temporal, memory=encoder_output+encoder_temporal)\n",
    "        output = self.decoder_output_layer(decoder_output)\n",
    "        return output\n",
    "\n",
    "\n",
    "model = Transformer(d_model, nhead, d_ff, dropout, num_layers)\n",
    "\n",
    "summary(model, \n",
    "        encoder_input[0].unsqueeze(0),\n",
    "        temporal[0].unsqueeze(0),\n",
    "        encode_len, pred_len, \n",
    "        show_parent_layers=True, # show_hierarchical=True,\n",
    "        print_summary=True\n",
    "        )"
   ]
  },
  {
   "cell_type": "code",
   "execution_count": 8,
   "metadata": {},
   "outputs": [
    {
     "data": {
      "image/png": "[encoded data removed]",
      "text/plain": [
       "<Figure size 640x480 with 1 Axes>"
      ]
     },
     "metadata": {},
     "output_type": "display_data"
    }
   ],
   "source": [
    "import time\n",
    "optimizer = torch.optim.Adam(model.parameters(), lr=1e-3)\n",
    "mse_loss_fn = torch.nn.MSELoss()\n",
    "window = 20\n",
    "\n",
    "def loss_fn(upperbound, lowerbound, y):\n",
    "    outside_interval = torch.max(y - upperbound, torch.zeros(y.shape)) + torch.max(lowerbound - y, torch.zeros(y.shape))\n",
    "    interval_width = upperbound - lowerbound\n",
    "    interval_penalty = 0.1 * interval_width\n",
    "    loss = torch.mean(outside_interval + interval_penalty)\n",
    "    # time.sleep(0.5)\n",
    "    \n",
    "    return loss\n",
    "\n",
    "def plot_sample(y, upperbound, lowerbound):\n",
    "    clear_output(wait=True)\n",
    "    plt.plot(y[0].squeeze(-1), label=\"y\")\n",
    "    plt.plot(upperbound[0].detach().numpy().squeeze(-1), label=\"upperbound\")\n",
    "    plt.plot(lowerbound[0].detach().numpy().squeeze(-1), label=\"lowerbound\")\n",
    "    plt.legend()\n",
    "    plt.show()\n",
    "\n",
    "def train(e):\n",
    "    model.train()\n",
    "    loss_li = []\n",
    "    pbar = tqdm(dataloader)\n",
    "    for n, data in enumerate(pbar):\n",
    "        encoder_input, y, temporal = data\n",
    "\n",
    "        # Train\n",
    "        optimizer.zero_grad()\n",
    "        pred = model(encoder_input, temporal, encode_len, pred_len)\n",
    "        upperbound = pred[:, :, 0:1]\n",
    "        lowerbound = pred[:, :, -1:]\n",
    "        loss = loss_fn(upperbound, lowerbound, y)\n",
    "        loss.backward()\n",
    "        optimizer.step()\n",
    "\n",
    "        # Report\n",
    "        loss_li.append(loss.item())\n",
    "        pbar.set_description(f'epoch{e} - loss: {np.round(np.mean(loss_li[-window:]), 5)}')\n",
    "        plot_sample(torch.expm1(y), torch.expm1(upperbound), torch.expm1(lowerbound))\n",
    "        if n % 100 == 0:\n",
    "            input()\n",
    "\n",
    "epoch = 10\n",
    "for e in range(epoch):\n",
    "    train(e)"
   ]
  }
 ],
 "metadata": {
  "kernelspec": {
   "display_name": "cudatest",
   "language": "python",
   "name": "python3"
  },
  "language_info": {
   "codemirror_mode": {
    "name": "ipython",
    "version": 3
   },
   "file_extension": ".py",
   "mimetype": "text/x-python",
   "name": "python",
   "nbconvert_exporter": "python",
   "pygments_lexer": "ipython3",
   "version": "3.8.17"
  }
 },
 "nbformat": 4,
 "nbformat_minor": 2
}
