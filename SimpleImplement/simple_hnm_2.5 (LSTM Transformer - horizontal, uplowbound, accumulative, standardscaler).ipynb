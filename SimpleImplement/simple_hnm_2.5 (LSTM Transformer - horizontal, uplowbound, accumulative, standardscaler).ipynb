{
 "cells": [
  {
   "cell_type": "code",
   "execution_count": 1,
   "metadata": {},
   "outputs": [
    {
     "data": {
      "text/plain": [
       "'\\n\\n'"
      ]
     },
     "execution_count": 1,
     "metadata": {},
     "output_type": "execute_result"
    }
   ],
   "source": [
    "\"\"\"\n",
    "\n",
    "\"\"\""
   ]
  },
  {
   "cell_type": "code",
   "execution_count": 2,
   "metadata": {},
   "outputs": [],
   "source": [
    "is_skip = True\n",
    "# Data params\n",
    "batch_size = 1500; # batch_size = 16\n",
    "encode_len = 100\n",
    "pred_len = 30\n",
    "\n",
    "valid_start_date = \"2020-01-01\"\n",
    "hint_days = 30\n",
    "\n",
    "# Model params\n",
    "d_model = 128\n",
    "nhead = 4\n",
    "d_ff = 256\n",
    "dropout = 0.1\n",
    "num_layers = 4"
   ]
  },
  {
   "cell_type": "markdown",
   "metadata": {},
   "source": [
    "# Import"
   ]
  },
  {
   "cell_type": "code",
   "execution_count": 3,
   "metadata": {},
   "outputs": [],
   "source": [
    "import copy\n",
    "import numpy as np\n",
    "import pandas as pd\n",
    "from IPython.display import clear_output\n",
    "import matplotlib.pyplot as plt\n",
    "from sklearn.preprocessing import StandardScaler\n",
    "from statsmodels.tsa.seasonal import seasonal_decompose\n",
    "from tqdm import tqdm\n",
    "\n",
    "import torch\n",
    "from pytorch_model_summary import summary\n",
    "\n",
    "device = torch.device(\"cuda:0\")"
   ]
  },
  {
   "cell_type": "markdown",
   "metadata": {},
   "source": [
    "# Data"
   ]
  },
  {
   "cell_type": "code",
   "execution_count": 4,
   "metadata": {},
   "outputs": [],
   "source": [
    "if not is_skip:\n",
    "    # Read transaction\n",
    "    df_trans = pd.read_csv(\"../HnM/transactions_train.csv\", parse_dates=[\"t_dat\"], dtype={\"article_id\":str})\n",
    "    df_meta = pd.read_csv(\"../HnM/articles.csv\", dtype={\"article_id\":str})\n",
    "    df_raw = pd.merge(df_trans, df_meta, on=\"article_id\")"
   ]
  },
  {
   "cell_type": "code",
   "execution_count": 5,
   "metadata": {},
   "outputs": [],
   "source": [
    "def preprocess(data, min_size=2):\n",
    "    data = data.copy()\n",
    "\n",
    "    # Make sales\n",
    "    data = data.groupby([\"t_dat\", \"article_id\"], as_index=False).agg(sales=(\"customer_id\", \"count\"))\n",
    "\n",
    "    # Expand dates\n",
    "    data = data.set_index(\"t_dat\").groupby([\"article_id\"], as_index=False).resample(\"1D\").asfreq().reset_index()\n",
    "    data[\"sales\"] = data[\"sales\"].fillna(0)\n",
    "    data[\"article_id\"] = data[\"article_id\"].fillna(method=\"ffill\")\n",
    "\n",
    "    # Accumulate sales\n",
    "    data = data.sort_values([\"article_id\", \"t_dat\"]).reset_index(drop=True)\n",
    "    data[\"sales\"] = data.groupby(\"article_id\")[\"sales\"].cumsum()\n",
    "    \n",
    "    # Data to list\n",
    "    data = data.groupby(\"article_id\", as_index=False)[\"sales\"].agg(list)\n",
    "\n",
    "    # Size restriction\n",
    "    data[\"size\"] = data[\"sales\"].str.len()\n",
    "    data = data[data[\"size\"] >= min_size]\n",
    "    return data\n",
    "\n",
    "if not is_skip:\n",
    "    df_prep = df_raw[df_raw[\"index_name\"]==\"Ladieswear\"].reset_index(drop=True)\n",
    "    \n",
    "    df_train = df_prep[df_prep[\"t_dat\"] < valid_start_date]\n",
    "    df_train = preprocess(df_train, min_size=encode_len+pred_len)\n",
    "    df_train.to_parquet(\"df_train.pq\")\n",
    "\n",
    "    df_valid = df_prep[df_prep[\"t_dat\"] >= valid_start_date]\n",
    "    df_valid = preprocess(df_valid, min_size=encode_len+pred_len)\n",
    "    df_valid.to_parquet(\"df_valid.pq\")    "
   ]
  },
  {
   "cell_type": "code",
   "execution_count": 6,
   "metadata": {},
   "outputs": [
    {
     "name": "stderr",
     "output_type": "stream",
     "text": [
      "13822it [00:02, 5178.70it/s]\n",
      "10157it [00:01, 5401.54it/s]\n"
     ]
    },
    {
     "name": "stdout",
     "output_type": "stream",
     "text": [
      "decoder_input: torch.Size([1500, 101, 1])\n",
      "y: torch.Size([1500, 31, 1])\n"
     ]
    }
   ],
   "source": [
    "df_train = pd.read_parquet(\"df_train.pq\")\n",
    "df_valid = pd.read_parquet(\"df_valid.pq\")\n",
    "\n",
    "class Dataset(torch.utils.data.Dataset):\n",
    "    def __init__(self, data, encode_len, pred_len):\n",
    "        self.encode_len, self.pred_len = encode_len, pred_len\n",
    "        self.sales_li, self.scaler_li = [], []\n",
    "        \n",
    "        for _, row in tqdm(data.iterrows()):\n",
    "            scaler = StandardScaler()\n",
    "            sales = row[\"sales\"]\n",
    "            sales = scaler.fit_transform(sales.reshape(-1,1)).reshape(-1)\n",
    "            # sales = np.log1p(sales)\n",
    "            sales = torch.FloatTensor(sales).unfold(0, encode_len+pred_len, 1)\n",
    "            \n",
    "            scaler = np.repeat(np.array([scaler]), sales.shape[0], 0)\n",
    "            \n",
    "            self.sales_li.append(sales)\n",
    "            self.scaler_li.append(scaler)\n",
    "        \n",
    "        self.sales_li = torch.concat(self.sales_li)\n",
    "        self.scaler_li = np.concatenate(self.scaler_li)\n",
    "       \n",
    "    def __len__(self):\n",
    "        return self.sales_li.shape[0]\n",
    "    \n",
    "    def __getitem__(self, idx):\n",
    "        sales = self.sales_li[idx]\n",
    "        scaler = self.scaler_li[idx]\n",
    "        decoder_input = sales[:encode_len+1].reshape(-1, 1)\n",
    "        y = sales[-pred_len-1:].reshape(-1, 1)\n",
    "\n",
    "        return {\"decoder_input\":decoder_input,\n",
    "                \"scaler\": scaler,\n",
    "                \"y\": y}\n",
    "\n",
    "def collate_fn(batch_li):\n",
    "    decoder_input = torch.FloatTensor(np.array([batch[\"decoder_input\"].numpy() for batch in batch_li]))\n",
    "    scaler = [batch[\"scaler\"] for batch in batch_li]\n",
    "    y = torch.FloatTensor(np.array([batch[\"y\"].numpy() for batch in batch_li]))\n",
    "\n",
    "    return {\"decoder_input\":decoder_input,\n",
    "        \"scaler\": scaler,\n",
    "        \"y\": y}\n",
    "\n",
    "train_dataset = Dataset(df_train, encode_len, pred_len)\n",
    "train_dataloader = torch.utils.data.DataLoader(train_dataset, batch_size=batch_size, shuffle=True, collate_fn=collate_fn)\n",
    "\n",
    "valid_dataset = Dataset(df_valid, encode_len, pred_len)\n",
    "valid_dataloader = torch.utils.data.DataLoader(valid_dataset, batch_size=batch_size, shuffle=True, collate_fn=collate_fn)\n",
    "\n",
    "for data in train_dataloader:\n",
    "    print(\"decoder_input:\", data[\"decoder_input\"].shape)\n",
    "    print(\"y:\", data[\"y\"].shape)\n",
    "    break"
   ]
  },
  {
   "cell_type": "markdown",
   "metadata": {},
   "source": [
    "# Architecture"
   ]
  },
  {
   "cell_type": "code",
   "execution_count": 7,
   "metadata": {},
   "outputs": [
    {
     "name": "stdout",
     "output_type": "stream",
     "text": [
      "---------------------------------------------------------------------------------------------------------------------------\n",
      "   Parent Layers            Layer (type)                                       Output Shape         Param #     Tr. Param #\n",
      "===========================================================================================================================\n",
      "     Transformer                  LSTM-1     [1500, 101, 128], [1, 101, 128], [1, 101, 128]          67,072          67,072\n",
      "     Transformer    TransformerEncoder-2                                   [1500, 101, 128]       2,372,096       2,372,096\n",
      "     Transformer                Linear-3                                      [1500, 31, 1]             129             129\n",
      "     Transformer                Linear-4                                      [1500, 31, 1]             129             129\n",
      "     Transformer                Linear-5                                      [1500, 31, 1]             129             129\n",
      "===========================================================================================================================\n",
      "Total params: 2,439,555\n",
      "Trainable params: 2,439,555\n",
      "Non-trainable params: 0\n",
      "---------------------------------------------------------------------------------------------------------------------------\n"
     ]
    },
    {
     "data": {
      "text/plain": [
       "'---------------------------------------------------------------------------------------------------------------------------\\n   Parent Layers            Layer (type)                                       Output Shape         Param #     Tr. Param #\\n===========================================================================================================================\\n     Transformer                  LSTM-1     [1500, 101, 128], [1, 101, 128], [1, 101, 128]          67,072          67,072\\n     Transformer    TransformerEncoder-2                                   [1500, 101, 128]       2,372,096       2,372,096\\n     Transformer                Linear-3                                      [1500, 31, 1]             129             129\\n     Transformer                Linear-4                                      [1500, 31, 1]             129             129\\n     Transformer                Linear-5                                      [1500, 31, 1]             129             129\\n===========================================================================================================================\\nTotal params: 2,439,555\\nTrainable params: 2,439,555\\nNon-trainable params: 0\\n---------------------------------------------------------------------------------------------------------------------------'"
      ]
     },
     "execution_count": 7,
     "metadata": {},
     "output_type": "execute_result"
    }
   ],
   "source": [
    "class Transformer(torch.nn.Module):\n",
    "    def __init__(self, d_model, nhead, num_layers, pred_len):\n",
    "        super().__init__()\n",
    "        self.pred_len = pred_len\n",
    "        self.lstm = torch.nn.LSTM(1, d_model)\n",
    "        self.self_attn = torch.nn.TransformerEncoder(torch.nn.TransformerEncoderLayer(d_model, nhead, batch_first=True), num_layers)\n",
    "        self.linear1 = torch.nn.Linear(d_model, 1)\n",
    "        self.linear2 = torch.nn.Linear(d_model, 1)\n",
    "        self.linear3 = torch.nn.Linear(d_model, 1)\n",
    "\n",
    "    def get_paddingmask(self, data):\n",
    "        return torch.where(data==-1, -torch.inf, 0).to(device)\n",
    "\n",
    "    def forward(self, x):\n",
    "        # Architecture\n",
    "        lstm, _ = self.lstm(x)\n",
    "        self_attn = self.self_attn(lstm)\n",
    "        self_attn = self_attn[:, -self.pred_len-1:, :]\n",
    "        upper = self.linear1(self_attn)\n",
    "        lower = self.linear2(self_attn)\n",
    "        pred = self.linear3(self_attn)\n",
    "        return upper, lower, pred\n",
    "\n",
    "model = Transformer(d_model, nhead, num_layers, pred_len)\n",
    "model.to(device)\n",
    "summary(model,\n",
    "        data[\"decoder_input\"].to(device),\n",
    "        show_parent_layers=True, print_summary=True)"
   ]
  },
  {
   "cell_type": "markdown",
   "metadata": {},
   "source": [
    "# Train"
   ]
  },
  {
   "cell_type": "code",
   "execution_count": 8,
   "metadata": {},
   "outputs": [
    {
     "data": {
      "image/png": "[encoded data removed]",
      "text/plain": [
       "<Figure size 1500x500 with 2 Axes>"
      ]
     },
     "metadata": {},
     "output_type": "display_data"
    },
    {
     "name": "stderr",
     "output_type": "stream",
     "text": [
      "epoch 0 - loss: 0.62382:   6%|▌         | 89/1502 [00:34<09:00,  2.61it/s]\n"
     ]
    },
    {
     "ename": "KeyboardInterrupt",
     "evalue": "",
     "output_type": "error",
     "traceback": [
      "\u001b[0;31m---------------------------------------------------------------------------\u001b[0m",
      "\u001b[0;31mKeyboardInterrupt\u001b[0m                         Traceback (most recent call last)",
      "Cell \u001b[0;32mIn[8], line 70\u001b[0m\n\u001b[1;32m     68\u001b[0m epoch \u001b[38;5;241m=\u001b[39m \u001b[38;5;241m10\u001b[39m\n\u001b[1;32m     69\u001b[0m \u001b[38;5;28;01mfor\u001b[39;00m e \u001b[38;5;129;01min\u001b[39;00m \u001b[38;5;28mrange\u001b[39m(epoch):\n\u001b[0;32m---> 70\u001b[0m     \u001b[43mtrain\u001b[49m\u001b[43m(\u001b[49m\u001b[43me\u001b[49m\u001b[43m)\u001b[49m\n\u001b[1;32m     71\u001b[0m     \u001b[38;5;66;03m# valid(e)\u001b[39;00m\n",
      "Cell \u001b[0;32mIn[8], line 56\u001b[0m, in \u001b[0;36mtrain\u001b[0;34m(e)\u001b[0m\n\u001b[1;32m     53\u001b[0m optimizer\u001b[38;5;241m.\u001b[39mstep()\n\u001b[1;32m     55\u001b[0m scaler \u001b[38;5;241m=\u001b[39m data[\u001b[38;5;124m\"\u001b[39m\u001b[38;5;124mscaler\u001b[39m\u001b[38;5;124m\"\u001b[39m][\u001b[38;5;241m-\u001b[39m\u001b[38;5;241m1\u001b[39m]\n\u001b[0;32m---> 56\u001b[0m upper \u001b[38;5;241m=\u001b[39m scaler\u001b[38;5;241m.\u001b[39minverse_transform(\u001b[43mupper\u001b[49m\u001b[38;5;241;43m.\u001b[39;49m\u001b[43msqueeze\u001b[49m\u001b[43m(\u001b[49m\u001b[38;5;241;43m-\u001b[39;49m\u001b[38;5;241;43m1\u001b[39;49m\u001b[43m)\u001b[49m\u001b[38;5;241;43m.\u001b[39;49m\u001b[43mdetach\u001b[49m\u001b[43m(\u001b[49m\u001b[43m)\u001b[49m\u001b[38;5;241;43m.\u001b[39;49m\u001b[43mcpu\u001b[49m\u001b[43m(\u001b[49m\u001b[43m)\u001b[49m\u001b[38;5;241m.\u001b[39mnumpy())\n\u001b[1;32m     57\u001b[0m lower \u001b[38;5;241m=\u001b[39m scaler\u001b[38;5;241m.\u001b[39minverse_transform(lower\u001b[38;5;241m.\u001b[39msqueeze(\u001b[38;5;241m-\u001b[39m\u001b[38;5;241m1\u001b[39m)\u001b[38;5;241m.\u001b[39mdetach()\u001b[38;5;241m.\u001b[39mcpu()\u001b[38;5;241m.\u001b[39mnumpy())\n\u001b[1;32m     58\u001b[0m pred \u001b[38;5;241m=\u001b[39m scaler\u001b[38;5;241m.\u001b[39minverse_transform(pred\u001b[38;5;241m.\u001b[39msqueeze(\u001b[38;5;241m-\u001b[39m\u001b[38;5;241m1\u001b[39m)\u001b[38;5;241m.\u001b[39mdetach()\u001b[38;5;241m.\u001b[39mcpu()\u001b[38;5;241m.\u001b[39mnumpy())\n",
      "\u001b[0;31mKeyboardInterrupt\u001b[0m: "
     ]
    }
   ],
   "source": [
    "optimizer = torch.optim.Adam(model.parameters(), lr=1e-3)\n",
    "mse_loss = torch.nn.MSELoss(reduction=\"none\")\n",
    "\n",
    "def loss_fn(upperbound, lowerbound, pred, y):\n",
    "    outside_interval = torch.max(y - upperbound, torch.zeros(y.shape).to(device)) + torch.max(lowerbound - y, torch.zeros(y.shape).to(device))\n",
    "    interval_width = upperbound - lowerbound\n",
    "    # interval_penalty = 0.1*interval_width\n",
    "\n",
    "    pred_loss = mse_loss(pred, y)\n",
    "    loss = torch.mean(pred_loss)\n",
    "    \n",
    "    return loss\n",
    "\n",
    "class Report():\n",
    "    def __init__(self, window, name):\n",
    "        self.window, self.name = window, name\n",
    "        self.loss_li = []\n",
    "\n",
    "    def plot_sample(self, loss_li, y, pred):\n",
    "        plt.figure(figsize=(15,5))\n",
    "        nrows, ncols = 1,2\n",
    "\n",
    "        plt.subplot(nrows, ncols, 1)\n",
    "        plt.plot(loss_li, label=\"loss\")\n",
    "        plt.title(self.name)\n",
    "        plt.legend()\n",
    "\n",
    "        plt.subplot(nrows, ncols, 2)\n",
    "        plt.plot(y, label=\"y\")\n",
    "        plt.plot(pred, label=\"pred\")\n",
    "        plt.legend()\n",
    "\n",
    "        plt.show()\n",
    "\n",
    "    def report(self, loss, y, pred, pbar, e, isplot=False):\n",
    "        self.loss_li.append(loss.item())\n",
    "        pbar.set_description(f\"epoch {e} - loss: {np.round(np.mean(self.loss_li[-self.window:]), 5)}\")\n",
    "        \n",
    "        if isplot:\n",
    "            clear_output(wait=True)\n",
    "            self.plot_sample(self.loss_li[-self.window:], y[-1], pred[-1])\n",
    "\n",
    "def train(e):\n",
    "    model.train()\n",
    "    pbar = tqdm(train_dataloader)\n",
    "    report = Report(window=100, name=\"train\")\n",
    "\n",
    "    for n, data in enumerate(pbar):\n",
    "        optimizer.zero_grad()\n",
    "        upper, lower, pred = model(data[\"decoder_input\"].to(device))\n",
    "        loss = loss_fn(upper, lower, pred, data[\"y\"].to(device))\n",
    "        loss.backward()\n",
    "        optimizer.step()\n",
    "\n",
    "        scaler = data[\"scaler\"][-1]\n",
    "        upper = scaler.inverse_transform(upper.squeeze(-1).detach().cpu().numpy())\n",
    "        lower = scaler.inverse_transform(lower.squeeze(-1).detach().cpu().numpy())\n",
    "        pred = scaler.inverse_transform(pred.squeeze(-1).detach().cpu().numpy())\n",
    "        # upper = np.expm1(upper.squeeze(-1).detach().cpu().numpy())\n",
    "        # lower = np.expm1(lower.squeeze(-1).detach().cpu().numpy())\n",
    "        # pred = np.expm1(pred.squeeze(-1).detach().cpu().numpy())\n",
    "        # pred = np.stack([upper, lower, pred], axis=-1)\n",
    "\n",
    "        y = scaler.inverse_transform(data[\"y\"].squeeze(-1).detach().cpu().numpy())\n",
    "        # y = np.expm1(data[\"y\"].squeeze(-1).detach().cpu().numpy())\n",
    "        report.report(loss, y, pred, pbar, e, isplot=True)\n",
    "\n",
    "epoch = 10\n",
    "for e in range(epoch):\n",
    "    train(e)\n",
    "    # valid(e)"
   ]
  },
  {
   "cell_type": "markdown",
   "metadata": {},
   "source": [
    "# Eval"
   ]
  },
  {
   "cell_type": "code",
   "execution_count": null,
   "metadata": {},
   "outputs": [
    {
     "ename": "NameError",
     "evalue": "name 'model' is not defined",
     "output_type": "error",
     "traceback": [
      "\u001b[0;31m---------------------------------------------------------------------------\u001b[0m",
      "\u001b[0;31mNameError\u001b[0m                                 Traceback (most recent call last)",
      "Cell \u001b[0;32mIn[1], line 1\u001b[0m\n\u001b[0;32m----> 1\u001b[0m \u001b[43mmodel\u001b[49m\u001b[38;5;241m.\u001b[39meval()\n\u001b[1;32m      2\u001b[0m pbar \u001b[38;5;241m=\u001b[39m tqdm(valid_dataloader)\n\u001b[1;32m      3\u001b[0m report \u001b[38;5;241m=\u001b[39m Report(window\u001b[38;5;241m=\u001b[39m\u001b[38;5;241m100\u001b[39m, name\u001b[38;5;241m=\u001b[39m\u001b[38;5;124m\"\u001b[39m\u001b[38;5;124mvalid\u001b[39m\u001b[38;5;124m\"\u001b[39m)\n",
      "\u001b[0;31mNameError\u001b[0m: name 'model' is not defined"
     ]
    }
   ],
   "source": [
    "model.eval()\n",
    "pbar = tqdm(valid_dataloader)\n",
    "report = Report(window=100, name=\"valid\")\n",
    "\n",
    "for n, data in enumerate(pbar):\n",
    "    with torch.no_grad():\n",
    "        upper, lower, pred = model(data[\"decoder_input\"].to(device))\n",
    "        loss = loss_fn(upper, lower, pred, data[\"y\"].to(device))\n",
    "        \n",
    "        scaler = data[\"scaler\"][-1]\n",
    "        upper = scaler.inverse_transform(upper.squeeze(-1).detach().cpu().numpy())\n",
    "        lower = scaler.inverse_transform(lower.squeeze(-1).detach().cpu().numpy())\n",
    "        pred = scaler.inverse_transform(pred.squeeze(-1).detach().cpu().numpy())\n",
    "        # pred = np.stack([upper, lower, pred], axis=-1)\n",
    "        # upper = np.expm1(upper.squeeze(-1).detach().cpu().numpy())\n",
    "        # lower = np.expm1(lower.squeeze(-1).detach().cpu().numpy())\n",
    "        # pred = np.expm1(pred.squeeze(-1).detach().cpu().numpy())\n",
    "        # pred = np.stack([upper, lower, pred], axis=-1)\n",
    "\n",
    "        y = scaler.inverse_transform(data[\"y\"].squeeze(-1).detach().cpu().numpy())\n",
    "        # y = np.expm1(data[\"y\"].squeeze(-1).detach().cpu().numpy())\n",
    "        report.report(loss, y, pred, pbar, e, isplot=True)\n",
    "        input()\n",
    "        "
   ]
  },
  {
   "cell_type": "code",
   "execution_count": null,
   "metadata": {},
   "outputs": [],
   "source": []
  }
 ],
 "metadata": {
  "kernelspec": {
   "display_name": "cudatest",
   "language": "python",
   "name": "python3"
  },
  "language_info": {
   "codemirror_mode": {
    "name": "ipython",
    "version": 3
   },
   "file_extension": ".py",
   "mimetype": "text/x-python",
   "name": "python",
   "nbconvert_exporter": "python",
   "pygments_lexer": "ipython3",
   "version": "3.8.17"
  }
 },
 "nbformat": 4,
 "nbformat_minor": 2
}
