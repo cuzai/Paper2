{
 "cells": [
  {
   "cell_type": "code",
   "execution_count": null,
   "metadata": {},
   "outputs": [],
   "source": [
    "\"\"\"\n",
    "Using market information for cross attention\n",
    "→ Cannot use because\n",
    " - Too many products to attend (more than 1,000,000)\n",
    " - Needs 1 million^2 parameters\n",
    "\n",
    "▶ Deprecated\n",
    "\"\"\""
   ]
  },
  {
   "cell_type": "code",
   "execution_count": 1,
   "metadata": {},
   "outputs": [],
   "source": [
    "is_skip = True\n",
    "\n",
    "# Data params\n",
    "encode_len = 10\n",
    "pred_len = 3\n",
    "batch_size = 16\n",
    "\n",
    "# Model params\n",
    "d_model = 128\n",
    "nhead = 4\n",
    "d_ff = 256\n",
    "dropout = 0.1\n",
    "num_layers = 4"
   ]
  },
  {
   "cell_type": "markdown",
   "metadata": {},
   "source": [
    "# Import"
   ]
  },
  {
   "cell_type": "code",
   "execution_count": 2,
   "metadata": {},
   "outputs": [],
   "source": [
    "import numpy as np\n",
    "import pandas as pd\n",
    "from IPython.display import clear_output\n",
    "import matplotlib.pyplot as plt\n",
    "from sklearn.preprocessing import StandardScaler\n",
    "from statsmodels.tsa.seasonal import seasonal_decompose\n",
    "from tqdm import tqdm\n",
    "\n",
    "import torch\n",
    "from pytorch_model_summary import summary"
   ]
  },
  {
   "cell_type": "markdown",
   "metadata": {},
   "source": [
    "# Data"
   ]
  },
  {
   "cell_type": "code",
   "execution_count": 3,
   "metadata": {},
   "outputs": [],
   "source": [
    "if not is_skip:\n",
    "    # Read transaction\n",
    "    df_trans = pd.read_csv(\"../HnM/transactions_train.csv\", parse_dates=[\"t_dat\"], dtype={\"article_id\":str})\n",
    "    df_meta = pd.read_csv(\"../HnM/articles.csv\", dtype={\"article_id\":str})\n",
    "    df_raw = pd.merge(df_trans, df_meta, on=\"article_id\")"
   ]
  },
  {
   "cell_type": "code",
   "execution_count": 4,
   "metadata": {},
   "outputs": [],
   "source": [
    "def preprocess(data):\n",
    "    data = data.copy()\n",
    "\n",
    "    # Make sales\n",
    "    data = data.groupby([\"t_dat\", \"article_id\"], as_index=False).agg(sales=(\"customer_id\", \"count\"))\n",
    "    data[\"idx\"] = data.groupby(\"article_id\").cumcount()\n",
    "\n",
    "    # Pivot\n",
    "    pd_ref = pd.pivot(data=data, index=\"idx\", columns=\"article_id\", values=\"sales\")\n",
    "    pd_ref = pd_ref.fillna(0)\n",
    "    \n",
    "    # Data to list\n",
    "    data = pd_ref.reset_index().melt(id_vars=\"idx\")\n",
    "    data = data.groupby(\"article_id\", as_index=False)[[\"value\", \"idx\"]].agg(list)\n",
    "    return data, pd_ref\n",
    "\n",
    "if not is_skip:\n",
    "    df_prep = df_raw[df_raw[\"index_name\"]==\"Ladieswear\"].reset_index(drop=True)\n",
    "    df_prep, pd_ref = preprocess(df_trans)\n",
    "    df_prep.to_parquet(\"df_prep.pq\")\n",
    "    pd_ref.to_parquet(\"pd_ref.pq\")"
   ]
  },
  {
   "cell_type": "code",
   "execution_count": 5,
   "metadata": {},
   "outputs": [
    {
     "name": "stdout",
     "output_type": "stream",
     "text": [
      "encoder_marketstatus torch.Size([16, 104547, 10])\n",
      "decoder_input_sales torch.Size([16, 10, 1])\n",
      "y torch.Size([16, 3, 1])\n"
     ]
    }
   ],
   "source": [
    "df_prep = pd.read_parquet(\"df_prep.pq\")\n",
    "pd_ref = pd.read_parquet(\"pd_ref.pq\")\n",
    "\n",
    "class Dataset(torch.utils.data.Dataset):\n",
    "    def __init__(self, df_prep, pd_ref, encode_len, pred_len):\n",
    "        self.sales = torch.FloatTensor(np.array([np.array(i) for i in df_prep[\"value\"]]))\n",
    "        self.index = torch.FloatTensor(np.array([np.array(i) for i in df_prep[\"idx\"]]))\n",
    "        self.pd_ref, self.encode_len, self.pred_len = pd_ref, encode_len, pred_len\n",
    "\n",
    "        self.sales = self.sales.unfold(-1, encode_len+pred_len, 1).reshape(-1, encode_len+pred_len)\n",
    "        self.index = self.index.unfold(-1, encode_len+pred_len, 1).reshape(-1, encode_len+pred_len)\n",
    "\n",
    "        # Filter non-zero\n",
    "        nonzero_idx1 = torch.where(self.sales[:, :encode_len].sum(dim=-1) > 0)[0].numpy()\n",
    "        nonzero_idx2 = torch.where(self.sales[:, -pred_len:].sum(dim=-1) > 0)[0].numpy()\n",
    "        nonzero_idx = list(set(nonzero_idx1).intersection(set(nonzero_idx2)))\n",
    "        self.sales = self.sales[nonzero_idx]\n",
    "        self.index = self.index[nonzero_idx]\n",
    "\n",
    "        # display(pd_ref[pd_ref.index.isin(idx[100].numpy())])\n",
    "    \n",
    "    def __len__(self):\n",
    "        return self.sales.shape[0]\n",
    "    \n",
    "    def __getitem__(self, idx):\n",
    "        sales = self.sales[idx].unsqueeze(-1)\n",
    "        index = self.index[idx].numpy()\n",
    "        ref = torch.FloatTensor(pd_ref[pd_ref.index.isin(index)].values.T)\n",
    "\n",
    "        # Split into encoder_input and decoder_input\n",
    "        encoder_marketstatus = ref[:, :encode_len]\n",
    "        decoder_input_sales = sales[:encode_len]\n",
    "        y = sales[-pred_len:]\n",
    "\n",
    "        return {\"encoder_marketstatus\": encoder_marketstatus,\n",
    "                \"decoder_input_sales\": decoder_input_sales,\n",
    "                \"y\": y\n",
    "                }\n",
    "        \n",
    "\n",
    "dataset = Dataset(df_prep, pd_ref, encode_len, pred_len)\n",
    "dataloader = torch.utils.data.DataLoader(dataset, batch_size=batch_size, shuffle=False)\n",
    "\n",
    "for data in dataloader:\n",
    "    print(\"encoder_marketstatus\", data[\"encoder_marketstatus\"].shape)\n",
    "    print(\"decoder_input_sales\", data[\"decoder_input_sales\"].shape)\n",
    "    print(\"y\", data[\"y\"].shape)\n",
    "    break"
   ]
  },
  {
   "cell_type": "code",
   "execution_count": 6,
   "metadata": {},
   "outputs": [
    {
     "ename": "",
     "evalue": "",
     "output_type": "error",
     "traceback": [
      "\u001b[1;31mThe Kernel crashed while executing code in the the current cell or a previous cell. Please review the code in the cell(s) to identify a possible cause of the failure. Click <a href='https://aka.ms/vscodeJupyterKernelCrash'>here</a> for more info. View Jupyter <a href='command:jupyter.viewOutput'>log</a> for further details."
     ]
    }
   ],
   "source": [
    "class Model(torch.nn.Module):\n",
    "    def __init__(self):\n",
    "        super().__init__()\n",
    "        self.linear = torch.nn.Linear(1, 128)\n",
    "        self.attn = torch.nn.MultiheadAttention(128, 4)\n",
    "\n",
    "    def forward(self, x):\n",
    "        res = self.linear(x)\n",
    "        res, _ = self.attn(res, res, res)\n",
    "        return res\n",
    "\n",
    "arr = torch.rand(100000, 1)\n",
    "model = Model()\n",
    "summary(model, \n",
    "        arr,\n",
    "        show_parent_layers=True, # show_hierarchical=True,\n",
    "        print_summary=True\n",
    "        )"
   ]
  }
 ],
 "metadata": {
  "kernelspec": {
   "display_name": "cudatest",
   "language": "python",
   "name": "python3"
  },
  "language_info": {
   "codemirror_mode": {
    "name": "ipython",
    "version": 3
   },
   "file_extension": ".py",
   "mimetype": "text/x-python",
   "name": "python",
   "nbconvert_exporter": "python",
   "pygments_lexer": "ipython3",
   "version": "3.8.17"
  }
 },
 "nbformat": 4,
 "nbformat_minor": 2
}
