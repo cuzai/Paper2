{
 "cells": [
  {
   "cell_type": "code",
   "execution_count": 1,
   "metadata": {},
   "outputs": [
    {
     "data": {
      "text/plain": [
       "'\\nLetting the model learn the starting point of sinusoidal positional encoding\\n - Simple masked self attention\\n'"
      ]
     },
     "execution_count": 1,
     "metadata": {},
     "output_type": "execute_result"
    }
   ],
   "source": [
    "\"\"\"\n",
    "Letting the model learn the starting point of sinusoidal positional encoding\n",
    " - Simple masked self attention\n",
    " - The model learns where to start within sidusoidal range (using sigmoid from input sequence)\n",
    " - With [1:] input and [:-1] target, it is difficult to find the starting point since the prediction point is different every time\n",
    "\"\"\""
   ]
  },
  {
   "cell_type": "code",
   "execution_count": 2,
   "metadata": {},
   "outputs": [],
   "source": [
    "is_skip = True\n",
    "# Data params\n",
    "seq_len = 30\n",
    "batch_size = 16\n",
    "\n",
    "# Model params\n",
    "d_model = 128\n",
    "nhead = 4\n",
    "d_ff = 256\n",
    "dropout = 0.1\n",
    "num_layers = 4"
   ]
  },
  {
   "cell_type": "markdown",
   "metadata": {},
   "source": [
    "# Import"
   ]
  },
  {
   "cell_type": "code",
   "execution_count": 3,
   "metadata": {},
   "outputs": [],
   "source": [
    "import numpy as np\n",
    "import pandas as pd\n",
    "from IPython.display import clear_output\n",
    "import matplotlib.pyplot as plt\n",
    "from sklearn.preprocessing import StandardScaler\n",
    "from statsmodels.tsa.seasonal import seasonal_decompose\n",
    "from tqdm import tqdm\n",
    "\n",
    "import torch\n",
    "from pytorch_model_summary import summary"
   ]
  },
  {
   "cell_type": "markdown",
   "metadata": {},
   "source": [
    "# Data"
   ]
  },
  {
   "cell_type": "code",
   "execution_count": 4,
   "metadata": {},
   "outputs": [],
   "source": [
    "if not is_skip:\n",
    "    # Read transaction\n",
    "    df_trans = pd.read_csv(\"../HnM/transactions_train.csv\", parse_dates=[\"t_dat\"], dtype={\"article_id\":str})\n",
    "    df_meta = pd.read_csv(\"../HnM/articles.csv\", dtype={\"article_id\":str})\n",
    "    df_raw = pd.merge(df_trans, df_meta, on=\"article_id\")"
   ]
  },
  {
   "cell_type": "code",
   "execution_count": 5,
   "metadata": {},
   "outputs": [],
   "source": [
    "def preprocess(data):\n",
    "    data = data.copy()\n",
    "\n",
    "    # Make sales\n",
    "    data = data.groupby([\"t_dat\", \"article_id\"], as_index=False).agg(sales=(\"customer_id\", \"count\"))\n",
    "\n",
    "    # Expand dates\n",
    "    data = data.set_index(\"t_dat\").groupby([\"article_id\"], as_index=False).resample(\"1D\").asfreq().reset_index()\n",
    "    data[\"sales\"] = data[\"sales\"].fillna(0)\n",
    "    data[\"article_id\"] = data[\"article_id\"].fillna(method=\"ffill\")\n",
    "    \n",
    "    # Data to list\n",
    "    data = data.groupby(\"article_id\", as_index=False)[\"sales\"].agg(list)\n",
    "    return data\n",
    "\n",
    "if not is_skip:\n",
    "    df_prep = df_raw[df_raw[\"index_name\"]==\"Ladieswear\"].reset_index(drop=True)\n",
    "    df_prep = preprocess(df_trans)\n",
    "    df_prep.to_parquet(\"df_prep.pq\")"
   ]
  },
  {
   "cell_type": "code",
   "execution_count": 6,
   "metadata": {},
   "outputs": [
    {
     "name": "stderr",
     "output_type": "stream",
     "text": [
      "92069it [00:02, 40049.15it/s]\n"
     ]
    },
    {
     "name": "stdout",
     "output_type": "stream",
     "text": [
      "torch.Size([22411751, 31])\n",
      "decoder_input: torch.Size([16, 30, 1])\n",
      "y: torch.Size([16, 30, 1])\n"
     ]
    }
   ],
   "source": [
    "df_prep = pd.read_parquet(\"df_prep.pq\")\n",
    "df_prep[\"size\"] = df_prep[\"sales\"].str.len()\n",
    "df_prep = df_prep[df_prep[\"size\"] >= seq_len+1]\n",
    "\n",
    "class Dataset(torch.utils.data.Dataset):\n",
    "    def __init__(self, data, seq_len):\n",
    "        self.seq_len = seq_len\n",
    "        self.sales_li = []\n",
    "        for _, row in tqdm(data.iterrows()):\n",
    "            sales = self.unfold_data(row[\"sales\"], seq_len+1)\n",
    "            self.sales_li.append(sales)\n",
    "\n",
    "        self.sales_li = torch.concat(self.sales_li)\n",
    "        print(self.sales_li.shape)\n",
    "    \n",
    "    def unfold_data(self, data, length):\n",
    "        data = data.copy()\n",
    "        data = torch.FloatTensor(data)\n",
    "        data = data.unfold(0, length, 1)\n",
    "        return data\n",
    "       \n",
    "    def __len__(self):\n",
    "        return self.sales_li.shape[0]\n",
    "    \n",
    "    def __getitem__(self, idx):\n",
    "        sales = self.sales_li[idx]\n",
    "        \n",
    "        decoder_input = sales[:-1].unsqueeze(-1)\n",
    "        y = sales[1:].unsqueeze(-1)\n",
    "\n",
    "        # Scale\n",
    "        decoder_input = torch.log1p(decoder_input)\n",
    "        y = torch.log1p(y)\n",
    "\n",
    "        return {\"decoder_input\": decoder_input,\n",
    "                \"y\": y\n",
    "                }\n",
    "\n",
    "dataset = Dataset(df_prep, seq_len)\n",
    "dataloader = torch.utils.data.DataLoader(dataset, batch_size=batch_size, shuffle=True)\n",
    "\n",
    "for data in dataloader:\n",
    "    print(\"decoder_input:\", data[\"decoder_input\"].shape)\n",
    "    print(\"y:\", data[\"y\"].shape)\n",
    "    break"
   ]
  },
  {
   "cell_type": "markdown",
   "metadata": {},
   "source": [
    "# Architecture"
   ]
  },
  {
   "cell_type": "code",
   "execution_count": 42,
   "metadata": {},
   "outputs": [
    {
     "name": "stdout",
     "output_type": "stream",
     "text": [
      "tensor([[1., 2., 3.],\n",
      "        [4., 5., 6.]])\n"
     ]
    },
    {
     "data": {
      "text/plain": [
       "tensor(2.)"
      ]
     },
     "execution_count": 42,
     "metadata": {},
     "output_type": "execute_result"
    }
   ],
   "source": [
    "bs = 16\n",
    "arr = torch.FloatTensor([[1,2,3],[4,5,6]])\n",
    "print(arr)\n",
    "\n",
    "arr[:]"
   ]
  },
  {
   "cell_type": "code",
   "execution_count": 55,
   "metadata": {},
   "outputs": [
    {
     "name": "stdout",
     "output_type": "stream",
     "text": [
      "--------------------------------------------------------------------------------------------\n",
      "   Parent Layers            Layer (type)        Output Shape         Param #     Tr. Param #\n",
      "============================================================================================\n",
      "     Transformer                Linear-1             [16, 1]              31              31\n",
      "     Transformer               Sigmoid-2             [16, 1]               0               0\n",
      "     Transformer                Linear-3       [16, 30, 128]             256             256\n",
      "     Transformer    TransformerEncoder-4       [16, 30, 128]       2,372,096       2,372,096\n",
      "     Transformer                Linear-5         [16, 30, 1]             129             129\n",
      "============================================================================================\n",
      "Total params: 2,372,512\n",
      "Trainable params: 2,372,512\n",
      "Non-trainable params: 0\n",
      "--------------------------------------------------------------------------------------------\n"
     ]
    },
    {
     "data": {
      "text/plain": [
       "'--------------------------------------------------------------------------------------------\\n   Parent Layers            Layer (type)        Output Shape         Param #     Tr. Param #\\n============================================================================================\\n     Transformer                Linear-1             [16, 1]              31              31\\n     Transformer               Sigmoid-2             [16, 1]               0               0\\n     Transformer                Linear-3       [16, 30, 128]             256             256\\n     Transformer    TransformerEncoder-4       [16, 30, 128]       2,372,096       2,372,096\\n     Transformer                Linear-5         [16, 30, 1]             129             129\\n============================================================================================\\nTotal params: 2,372,512\\nTrainable params: 2,372,512\\nNon-trainable params: 0\\n--------------------------------------------------------------------------------------------'"
      ]
     },
     "execution_count": 55,
     "metadata": {},
     "output_type": "execute_result"
    }
   ],
   "source": [
    "class Transformer(torch.nn.Module):\n",
    "    def __init__(self, d_model, nhead, num_layers, seq_len):\n",
    "        super().__init__()\n",
    "        self.pos_enc = self.get_posenc(d_model)\n",
    "        self.posenc_linear = torch.nn.Linear(seq_len, 1)\n",
    "        self.sigmoid = torch.nn.Sigmoid()\n",
    "        self.decoderinput_linear = torch.nn.Linear(1, d_model)\n",
    "        self.decoder = torch.nn.TransformerEncoder(torch.nn.TransformerEncoderLayer(d_model, nhead, batch_first=True), num_layers)\n",
    "        self.decoderoutput_linear = torch.nn.Linear(d_model, 1)\n",
    "\n",
    "    def get_posenc(self, d_model, max_len=300):\n",
    "        position = torch.arange(max_len).reshape(-1,1)\n",
    "        i = torch.arange(d_model)//2\n",
    "        exp_term = 2*i/d_model\n",
    "        div_term = torch.pow(10000, exp_term).reshape(1, -1)\n",
    "        pos_encoded = position / div_term\n",
    "\n",
    "        pos_encoded[:, 0::2] = torch.sin(pos_encoded[:, 0::2])\n",
    "        pos_encoded[:, 1::2] = torch.cos(pos_encoded[:, 1::2])\n",
    "        return pos_encoded\n",
    "\n",
    "    def forward(self, decoder_input):\n",
    "        starting_point = self.sigmoid(self.posenc_linear(decoder_input.squeeze()))\n",
    "        starting_point = torch.ceil(starting_point * decoder_input.shape[1]).type(torch.int)\n",
    "        pos_enc = []\n",
    "        for point in starting_point:\n",
    "            pos_enc.append(self.pos_enc[point:point+decoder_input.shape[1]])\n",
    "        pos_enc = torch.stack(pos_enc)       \n",
    "        \n",
    "        decoder_input = self.decoderinput_linear(decoder_input) + pos_enc\n",
    "        decoder_output = self.decoder(decoder_input)\n",
    "        output = self.decoderoutput_linear(decoder_output)      \n",
    "        \n",
    "        return output, pos_enc\n",
    "\n",
    "model = Transformer(d_model, nhead, num_layers, seq_len)\n",
    "summary(model,\n",
    "        data[\"decoder_input\"],\n",
    "        show_parent_layers=True, print_summary=True)"
   ]
  },
  {
   "cell_type": "markdown",
   "metadata": {},
   "source": [
    "# Train"
   ]
  },
  {
   "cell_type": "code",
   "execution_count": 63,
   "metadata": {},
   "outputs": [
    {
     "name": "stderr",
     "output_type": "stream",
     "text": [
      "epoch 0 - loss: 0.22381:   0%|          | 0/1400735 [00:00<?, ?it/s]\n"
     ]
    },
    {
     "ename": "TypeError",
     "evalue": "unhashable type: 'list'",
     "output_type": "error",
     "traceback": [
      "\u001b[0;31m---------------------------------------------------------------------------\u001b[0m",
      "\u001b[0;31mTypeError\u001b[0m                                 Traceback (most recent call last)",
      "Cell \u001b[0;32mIn[63], line 51\u001b[0m\n\u001b[1;32m     49\u001b[0m epoch \u001b[38;5;241m=\u001b[39m \u001b[38;5;241m10\u001b[39m\n\u001b[1;32m     50\u001b[0m \u001b[38;5;28;01mfor\u001b[39;00m e \u001b[38;5;129;01min\u001b[39;00m \u001b[38;5;28mrange\u001b[39m(epoch):\n\u001b[0;32m---> 51\u001b[0m     \u001b[43mtrain\u001b[49m\u001b[43m(\u001b[49m\u001b[43me\u001b[49m\u001b[43m)\u001b[49m\n\u001b[1;32m     52\u001b[0m     \u001b[38;5;28;01mbreak\u001b[39;00m\n",
      "Cell \u001b[0;32mIn[63], line 46\u001b[0m, in \u001b[0;36mtrain\u001b[0;34m(e)\u001b[0m\n\u001b[1;32m     43\u001b[0m loss\u001b[38;5;241m.\u001b[39mbackward()\n\u001b[1;32m     44\u001b[0m optimizer\u001b[38;5;241m.\u001b[39mstep()\n\u001b[0;32m---> 46\u001b[0m \u001b[43mreport\u001b[49m\u001b[38;5;241;43m.\u001b[39;49m\u001b[43mreport\u001b[49m\u001b[43m(\u001b[49m\u001b[43mloss\u001b[49m\u001b[43m,\u001b[49m\u001b[43m \u001b[49m\u001b[43mdata\u001b[49m\u001b[43m[\u001b[49m\u001b[38;5;124;43m\"\u001b[39;49m\u001b[38;5;124;43my\u001b[39;49m\u001b[38;5;124;43m\"\u001b[39;49m\u001b[43m]\u001b[49m\u001b[43m,\u001b[49m\u001b[43m \u001b[49m\u001b[43mpred\u001b[49m\u001b[38;5;241;43m.\u001b[39;49m\u001b[43mdetach\u001b[49m\u001b[43m(\u001b[49m\u001b[43m)\u001b[49m\u001b[38;5;241;43m.\u001b[39;49m\u001b[43mnumpy\u001b[49m\u001b[43m(\u001b[49m\u001b[43m)\u001b[49m\u001b[43m,\u001b[49m\u001b[43m \u001b[49m\u001b[43mpos_enc\u001b[49m\u001b[43m,\u001b[49m\u001b[43m \u001b[49m\u001b[43mpbar\u001b[49m\u001b[43m,\u001b[49m\u001b[43m \u001b[49m\u001b[43me\u001b[49m\u001b[43m,\u001b[49m\u001b[43m \u001b[49m\u001b[43misplot\u001b[49m\u001b[38;5;241;43m=\u001b[39;49m\u001b[38;5;28;43;01mTrue\u001b[39;49;00m\u001b[43m)\u001b[49m\n",
      "Cell \u001b[0;32mIn[63], line 32\u001b[0m, in \u001b[0;36mReport.report\u001b[0;34m(self, loss, y, pred, pos_enc, pbar, e, isplot)\u001b[0m\n\u001b[1;32m     30\u001b[0m \u001b[38;5;28;01mif\u001b[39;00m isplot:\n\u001b[1;32m     31\u001b[0m     clear_output(wait\u001b[38;5;241m=\u001b[39m\u001b[38;5;28;01mTrue\u001b[39;00m)\n\u001b[0;32m---> 32\u001b[0m     \u001b[38;5;28;43mself\u001b[39;49m\u001b[38;5;241;43m.\u001b[39;49m\u001b[43mplot_sample\u001b[49m\u001b[43m(\u001b[49m\u001b[38;5;28;43mself\u001b[39;49m\u001b[38;5;241;43m.\u001b[39;49m\u001b[43mloss_li\u001b[49m\u001b[43m[\u001b[49m\u001b[38;5;241;43m-\u001b[39;49m\u001b[38;5;28;43mself\u001b[39;49m\u001b[38;5;241;43m.\u001b[39;49m\u001b[43mwindow\u001b[49m\u001b[43m:\u001b[49m\u001b[43m]\u001b[49m\u001b[43m,\u001b[49m\u001b[43m \u001b[49m\u001b[43my\u001b[49m\u001b[43m,\u001b[49m\u001b[43m \u001b[49m\u001b[43mpred\u001b[49m\u001b[43m,\u001b[49m\u001b[43m \u001b[49m\u001b[43mpos_enc\u001b[49m\u001b[43m)\u001b[49m\n",
      "Cell \u001b[0;32mIn[63], line 19\u001b[0m, in \u001b[0;36mReport.plot_sample\u001b[0;34m(self, loss_li, y, pred, pos_enc)\u001b[0m\n\u001b[1;32m     17\u001b[0m plt\u001b[38;5;241m.\u001b[39msubplot(nrows, ncols, \u001b[38;5;241m2\u001b[39m)\n\u001b[1;32m     18\u001b[0m temp \u001b[38;5;241m=\u001b[39m df_prep\u001b[38;5;241m.\u001b[39mcopy()\n\u001b[0;32m---> 19\u001b[0m temp \u001b[38;5;241m=\u001b[39m temp[\u001b[43m[\u001b[49m\u001b[38;5;241;43m30.\u001b[39;49m\u001b[43m,\u001b[49m\u001b[43m \u001b[49m\u001b[38;5;241;43m48.\u001b[39;49m\u001b[43m]\u001b[49m\u001b[43m \u001b[49m\u001b[38;5;129;43;01min\u001b[39;49;00m\u001b[43m \u001b[49m\u001b[43mtemp\u001b[49m\u001b[43m[\u001b[49m\u001b[38;5;124;43m\"\u001b[39;49m\u001b[38;5;124;43msales\u001b[39;49m\u001b[38;5;124;43m\"\u001b[39;49m\u001b[43m]\u001b[49m]\n\u001b[1;32m     20\u001b[0m \u001b[38;5;66;03m# temp = temp[temp[\"sales\"].isin([30., 48,])]\u001b[39;00m\n\u001b[1;32m     21\u001b[0m display(temp)\n",
      "File \u001b[0;32m~/anaconda3/envs/cudatest/lib/python3.8/site-packages/pandas/core/generic.py:1927\u001b[0m, in \u001b[0;36mNDFrame.__contains__\u001b[0;34m(self, key)\u001b[0m\n\u001b[1;32m   1924\u001b[0m \u001b[38;5;129m@final\u001b[39m\n\u001b[1;32m   1925\u001b[0m \u001b[38;5;28;01mdef\u001b[39;00m \u001b[38;5;21m__contains__\u001b[39m(\u001b[38;5;28mself\u001b[39m, key) \u001b[38;5;241m-\u001b[39m\u001b[38;5;241m>\u001b[39m bool_t:\n\u001b[1;32m   1926\u001b[0m \u001b[38;5;250m    \u001b[39m\u001b[38;5;124;03m\"\"\"True if the key is in the info axis\"\"\"\u001b[39;00m\n\u001b[0;32m-> 1927\u001b[0m     \u001b[38;5;28;01mreturn\u001b[39;00m \u001b[43mkey\u001b[49m\u001b[43m \u001b[49m\u001b[38;5;129;43;01min\u001b[39;49;00m\u001b[43m \u001b[49m\u001b[38;5;28;43mself\u001b[39;49m\u001b[38;5;241;43m.\u001b[39;49m\u001b[43m_info_axis\u001b[49m\n",
      "File \u001b[0;32m~/anaconda3/envs/cudatest/lib/python3.8/site-packages/pandas/core/indexes/base.py:5144\u001b[0m, in \u001b[0;36mIndex.__contains__\u001b[0;34m(self, key)\u001b[0m\n\u001b[1;32m   5109\u001b[0m \u001b[38;5;28;01mdef\u001b[39;00m \u001b[38;5;21m__contains__\u001b[39m(\u001b[38;5;28mself\u001b[39m, key: Any) \u001b[38;5;241m-\u001b[39m\u001b[38;5;241m>\u001b[39m \u001b[38;5;28mbool\u001b[39m:\n\u001b[1;32m   5110\u001b[0m \u001b[38;5;250m    \u001b[39m\u001b[38;5;124;03m\"\"\"\u001b[39;00m\n\u001b[1;32m   5111\u001b[0m \u001b[38;5;124;03m    Return a boolean indicating whether the provided key is in the index.\u001b[39;00m\n\u001b[1;32m   5112\u001b[0m \n\u001b[0;32m   (...)\u001b[0m\n\u001b[1;32m   5142\u001b[0m \u001b[38;5;124;03m    False\u001b[39;00m\n\u001b[1;32m   5143\u001b[0m \u001b[38;5;124;03m    \"\"\"\u001b[39;00m\n\u001b[0;32m-> 5144\u001b[0m     \u001b[38;5;28;43mhash\u001b[39;49m\u001b[43m(\u001b[49m\u001b[43mkey\u001b[49m\u001b[43m)\u001b[49m\n\u001b[1;32m   5145\u001b[0m     \u001b[38;5;28;01mtry\u001b[39;00m:\n\u001b[1;32m   5146\u001b[0m         \u001b[38;5;28;01mreturn\u001b[39;00m key \u001b[38;5;129;01min\u001b[39;00m \u001b[38;5;28mself\u001b[39m\u001b[38;5;241m.\u001b[39m_engine\n",
      "\u001b[0;31mTypeError\u001b[0m: unhashable type: 'list'"
     ]
    },
    {
     "data": {
      "image/png": "[encoded data removed]",
      "text/plain": [
       "<Figure size 1500x500 with 2 Axes>"
      ]
     },
     "metadata": {},
     "output_type": "display_data"
    }
   ],
   "source": [
    "optimizer = torch.optim.Adam(model.parameters(), lr=1e-3)\n",
    "mse_loss = torch.nn.MSELoss()\n",
    "\n",
    "class Report():\n",
    "    def __init__(self, window):\n",
    "        self.window = window\n",
    "        self.loss_li = []\n",
    "\n",
    "    def plot_sample(self, loss_li, y, pred, pos_enc):\n",
    "        plt.figure(figsize=(15,5))\n",
    "        nrows, ncols = 1,2\n",
    "\n",
    "        plt.subplot(nrows, ncols, 1)\n",
    "        plt.plot(loss_li, label=\"loss\")\n",
    "        plt.legend()\n",
    "\n",
    "        plt.subplot(nrows, ncols, 2)\n",
    "        temp = df_prep.copy()\n",
    "        temp = temp.apply(lambda x:  in x[\"sales\"])\n",
    "        # temp = temp[temp[\"sales\"].isin([30., 48,])]\n",
    "        display(temp)\n",
    "        raise\n",
    "\n",
    "        plt.show()\n",
    "\n",
    "    def report(self, loss, y, pred, pos_enc, pbar, e, isplot=False):\n",
    "        self.loss_li.append(loss.item())\n",
    "        pbar.set_description(f\"epoch {e} - loss: {np.round(np.mean(self.loss_li[-self.window:]), 5)}\")\n",
    "        \n",
    "        if isplot:\n",
    "            clear_output(wait=True)\n",
    "            self.plot_sample(self.loss_li[-self.window:], y, pred, pos_enc)\n",
    "\n",
    "def train(e):\n",
    "    model.train()\n",
    "    pbar = tqdm(dataloader)\n",
    "    report = Report(window=100)\n",
    "\n",
    "    for n, data in enumerate(pbar):\n",
    "        optimizer.zero_grad()\n",
    "        pred, pos_enc = model(data[\"decoder_input\"])\n",
    "        loss = mse_loss(data[\"y\"], pred)\n",
    "        loss.backward()\n",
    "        optimizer.step()\n",
    "\n",
    "        report.report(loss, data[\"y\"], pred.detach().numpy(), pos_enc, pbar, e, isplot=True)\n",
    "        \n",
    "\n",
    "epoch = 10\n",
    "for e in range(epoch):\n",
    "    train(e)\n",
    "    break"
   ]
  }
 ],
 "metadata": {
  "kernelspec": {
   "display_name": "cudatest",
   "language": "python",
   "name": "python3"
  },
  "language_info": {
   "codemirror_mode": {
    "name": "ipython",
    "version": 3
   },
   "file_extension": ".py",
   "mimetype": "text/x-python",
   "name": "python",
   "nbconvert_exporter": "python",
   "pygments_lexer": "ipython3",
   "version": "3.8.17"
  }
 },
 "nbformat": 4,
 "nbformat_minor": 2
}
